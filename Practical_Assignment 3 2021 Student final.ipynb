{
 "cells": [
  {
   "cell_type": "markdown",
   "metadata": {
    "collapsed": true,
    "id": "s-76WK8BOZD9"
   },
   "source": [
    "# Toegepaste Machine Learning\n",
    "\n",
    "## Practical Assignment 3\n",
    "\n",
    "### Important Notes:\n",
    "1. Submit through **Canvas** in electronic form before 11:59pm on Tuesday, May 25, 2021\n",
    "2. No late homework will be accepted.\n",
    "3. This is a group-of-two assignment\n",
    "4. The submitted file should be in ipynb format\n",
    "5. The assignment is worth it 10 points\n",
    "6. **Please make sure you are in a group on canvas!**\n",
    "7. Question can be asked on the discussion tab on canvas.\n",
    "8. The indication **optional** means that the question is optional; you won't lose any points if you do not do that part of the assignment, nor will you gain if you do it.\n",
    "\n",
    "### Software:\n",
    "We will be using Python programming language throughout this course. Further we will be using:\n",
    "+ IPython Notebooks (as an environment)\n",
    "+ Numpy\n",
    "+ Pandas\n",
    "+ Scikit-learn\n",
    "\n",
    "\n",
    "### Background:\n",
    "\n",
    "This practical assignment will be covering clustering and working with text. \n",
    "\n",
    "For the assignment, please download the dataset on [Movies](https://drive.google.com/drive/folders/1u_cDY-ZIJQKZSdgadzsbI0Q_dj4Jhy41?usp=sharing), or simply execute the command below. \n",
    "\n",
    "The folder contains a number of files, of which you will be using two: plot_summaries.txt and movie.metadata.tsv. Both are tab separated files. The former, i.e. plot_summaries.txt, contains the plot summaries of 42,306 movies extracted from the November 2, 2012 dump of English-language Wikipedia. Each line contains the Wikipedia movie ID (which indexes into movie.metadata.tsv) followed by the summary. The latter file, i.e. movie.metadata.tsv contains metadata for 81,741 movies, extracted from the Noverber 4, 2012 dump of Freebase. Freebase is a knowledge base (similar to a database) that contains information about different Entities (including movies). The file is tab-separated with the following columns:\n",
    "\n",
    "1. Wikipedia movie ID\n",
    "2. Freebase movie ID\n",
    "3. Movie name\n",
    "4. Movie release date\n",
    "5. Movie box office revenue\n",
    "6. Movie runtime\n",
    "7. Movie languages (Freebase ID:name tuples)\n",
    "8. Movie countries (Freebase ID:name tuples)\n",
    "9. Movie genres (Freebase ID:name tuples)\n",
    "\n",
    "The goal of this assignment will be to cluster movies.\n",
    "\n",
    "**Important Note**: This third assignment is not as instructive as the first assignment. The first assignment guided you step-by-step through all the preprocessing, training-validation-testing setup, etc. This assignment does not do so, but it leaves it up to you to decide how to use the data and design your experiments."
   ]
  },
  {
   "cell_type": "code",
   "execution_count": 1,
   "metadata": {
    "colab": {
     "base_uri": "https://localhost:8080/"
    },
    "id": "4IkS4RVxZIAh",
    "outputId": "d9f25d70-e0d1-4cf6-c17b-664144e29a40"
   },
   "outputs": [
    {
     "name": "stderr",
     "output_type": "stream",
     "text": [
      "A subdirectory or file MovieSummaries already exists.\n",
      "'gdown' is not recognized as an internal or external command,\n",
      "operable program or batch file.\n",
      "'gdown' is not recognized as an internal or external command,\n",
      "operable program or batch file.\n",
      "'gdown' is not recognized as an internal or external command,\n",
      "operable program or batch file.\n",
      "'gdown' is not recognized as an internal or external command,\n",
      "operable program or batch file.\n"
     ]
    }
   ],
   "source": [
    "! mkdir MovieSummaries\n",
    "\n",
    "! gdown \"https://drive.google.com/uc?id=1tyun9bJq63hu9A9p11B75HjMQTCG5JpP\" -O ./MovieSummaries/movie.metadata.tsv\n",
    "! gdown \"https://drive.google.com/uc?id=1Aeo9WwaKX39Z2zV374zLXW-ndlzcWYDn\" -O ./MovieSummaries/moviesrep.csv\n",
    "! gdown \"https://drive.google.com/uc?id=1AnELzvfDWc6NAyV55lfrcVpAoIWzZAAl\" -O ./MovieSummaries/plot_summaries.txt\n",
    "! gdown \"https://drive.google.com/uc?id=1CxsqcbtYzAR8S3zLSsstgC6QQa1mUPqd\" -O ./MovieSummaries/README.txt"
   ]
  },
  {
   "cell_type": "markdown",
   "metadata": {
    "id": "EYv9RuxmOZD-"
   },
   "source": [
    "### Part 1: Import the data"
   ]
  },
  {
   "cell_type": "markdown",
   "metadata": {
    "id": "nF1W-QtxOZD_"
   },
   "source": [
    "We import both files and performing a join (merging the two files) using the Wikipedia ID (WID) to match the movies that appear in summaries to those that appear in the metadata. If a movie does not appear in either file, it is not included in the final list."
   ]
  },
  {
   "cell_type": "code",
   "execution_count": 1,
   "metadata": {
    "id": "A0F31kdrOZEA",
    "pycharm": {
     "is_executing": false
    }
   },
   "outputs": [],
   "source": [
    "import pandas as pd\n",
    "metadata = pd.read_csv('MovieSummaries/movie.metadata.tsv',sep=\"\\t\", header = None,\n",
    "                        names=['WID', 'FID', 'Name', 'Release', 'Revenue', \n",
    "                               'Runtime', 'Languages', 'Countries', 'Genres'])\n",
    "summaries = pd.read_csv('MovieSummaries/plot_summaries.txt',sep=\"\\t\", header = None,\n",
    "                         names=['WID', 'Text'])\n",
    "films = pd.merge(metadata, summaries, on='WID')"
   ]
  },
  {
   "cell_type": "markdown",
   "metadata": {
    "id": "Hko2M_I5OZED"
   },
   "source": [
    "A movie be have more than one genre. We extract the first genre that characterizes the movie. Some movies may not have any corresponing genres."
   ]
  },
  {
   "cell_type": "code",
   "execution_count": 2,
   "metadata": {
    "id": "28jPvw2kOZEE",
    "pycharm": {
     "is_executing": false
    }
   },
   "outputs": [],
   "source": [
    "import ast\n",
    "\n",
    "genres = []\n",
    "for film in films.values:\n",
    "    exist = False\n",
    "    g = ast.literal_eval(film[8])\n",
    "    # Get the first genre for this movie\n",
    "    for key in g:\n",
    "        exist = True\n",
    "        genres.append(g[key])\n",
    "        break\n",
    "    # If there is no genre for this movie\n",
    "    if exist is False:\n",
    "        genres.append('')"
   ]
  },
  {
   "cell_type": "markdown",
   "metadata": {
    "id": "wuJhiImYOZEG"
   },
   "source": [
    "Consider only movies in four genres: 'Drama', 'Comedy', 'Science Fiction', 'Action'. Then sort them by Revenue they had in the cinemas, and get the top 150 most popular ones."
   ]
  },
  {
   "cell_type": "code",
   "execution_count": 3,
   "metadata": {
    "id": "4VogH2r8OZEG",
    "pycharm": {
     "is_executing": false
    }
   },
   "outputs": [],
   "source": [
    "# Merge the films with the genre into a single Dataframe\n",
    "genres = pd.Series(genres, name='Genre')\n",
    "films_genre = pd.concat([films, genres], axis=1)\n",
    "\n",
    "# Get only movies about the four following genres\n",
    "films_genre_ind = films_genre.set_index('Genre')\n",
    "movie_genres = ['Drama', 'Comedy', 'Science Fiction', 'Action']\n",
    "genre150 = pd.DataFrame()\n",
    "for mg in movie_genres:\n",
    "    genre150 = genre150.append(films_genre_ind.loc[mg])\n",
    "\n",
    "# Get the top-150 of those\n",
    "top150 = (genre150.sort_values(by='Revenue',ascending=False)[0:150]).reset_index()[['Name','Text','Genre']]\n"
   ]
  },
  {
   "cell_type": "code",
   "execution_count": 14,
   "metadata": {
    "colab": {
     "base_uri": "https://localhost:8080/",
     "height": 402
    },
    "id": "yPq1aK6Y74j2",
    "outputId": "0cd37274-b4ec-4ab7-b5bd-8f6a65140ca8",
    "pycharm": {
     "is_executing": false,
     "name": "#%%\n"
    }
   },
   "outputs": [
    {
     "data": {
      "text/html": [
       "<div>\n",
       "<style scoped>\n",
       "    .dataframe tbody tr th:only-of-type {\n",
       "        vertical-align: middle;\n",
       "    }\n",
       "\n",
       "    .dataframe tbody tr th {\n",
       "        vertical-align: top;\n",
       "    }\n",
       "\n",
       "    .dataframe thead th {\n",
       "        text-align: right;\n",
       "    }\n",
       "</style>\n",
       "<table border=\"1\" class=\"dataframe\">\n",
       "  <thead>\n",
       "    <tr style=\"text-align: right;\">\n",
       "      <th></th>\n",
       "      <th>Name</th>\n",
       "      <th>Text</th>\n",
       "      <th>Genre</th>\n",
       "    </tr>\n",
       "  </thead>\n",
       "  <tbody>\n",
       "    <tr>\n",
       "      <th>0</th>\n",
       "      <td>The Avengers</td>\n",
       "      <td>The Asgardian Loki encounters the Other, the ...</td>\n",
       "      <td>Science Fiction</td>\n",
       "    </tr>\n",
       "    <tr>\n",
       "      <th>1</th>\n",
       "      <td>Harry Potter and the Deathly Hallows – Part 2</td>\n",
       "      <td>{{further2}} {{See also}}  As Lord Voldemort r...</td>\n",
       "      <td>Drama</td>\n",
       "    </tr>\n",
       "    <tr>\n",
       "      <th>2</th>\n",
       "      <td>Star Wars Episode I: The Phantom Menace</td>\n",
       "      <td>The Galactic Republic is in a period of decli...</td>\n",
       "      <td>Science Fiction</td>\n",
       "    </tr>\n",
       "    <tr>\n",
       "      <th>3</th>\n",
       "      <td>Star Wars Episode III: Revenge of the Sith</td>\n",
       "      <td>As the Clone Wars rage on, the Galactic Repub...</td>\n",
       "      <td>Science Fiction</td>\n",
       "    </tr>\n",
       "    <tr>\n",
       "      <th>4</th>\n",
       "      <td>E.T. the Extra-Terrestrial</td>\n",
       "      <td>The film opens in a California forest as a gro...</td>\n",
       "      <td>Science Fiction</td>\n",
       "    </tr>\n",
       "    <tr>\n",
       "      <th>...</th>\n",
       "      <td>...</td>\n",
       "      <td>...</td>\n",
       "      <td>...</td>\n",
       "    </tr>\n",
       "    <tr>\n",
       "      <th>145</th>\n",
       "      <td>Brothers</td>\n",
       "      <td>Sam Cahill  and Tommy Cahill  are brothers. A ...</td>\n",
       "      <td>Drama</td>\n",
       "    </tr>\n",
       "    <tr>\n",
       "      <th>146</th>\n",
       "      <td>Regarding Henry</td>\n",
       "      <td>Ambitious, callous, narcissistic, and at times...</td>\n",
       "      <td>Drama</td>\n",
       "    </tr>\n",
       "    <tr>\n",
       "      <th>147</th>\n",
       "      <td>Time Bandits</td>\n",
       "      <td>Eleven-year-old Kevin has a vivid imagination ...</td>\n",
       "      <td>Science Fiction</td>\n",
       "    </tr>\n",
       "    <tr>\n",
       "      <th>148</th>\n",
       "      <td>Naruto the Movie: Snow Princess' Book of Ninja...</td>\n",
       "      <td>The film opens with Naruto Uzumaki, Sakura Har...</td>\n",
       "      <td>Action</td>\n",
       "    </tr>\n",
       "    <tr>\n",
       "      <th>149</th>\n",
       "      <td>Disgrace</td>\n",
       "      <td>David Lurie  is a South African professor of E...</td>\n",
       "      <td>Drama</td>\n",
       "    </tr>\n",
       "  </tbody>\n",
       "</table>\n",
       "<p>150 rows × 3 columns</p>\n",
       "</div>"
      ],
      "text/plain": [
       "                                                  Name  \\\n",
       "0                                         The Avengers   \n",
       "1        Harry Potter and the Deathly Hallows – Part 2   \n",
       "2              Star Wars Episode I: The Phantom Menace   \n",
       "3           Star Wars Episode III: Revenge of the Sith   \n",
       "4                           E.T. the Extra-Terrestrial   \n",
       "..                                                 ...   \n",
       "145                                           Brothers   \n",
       "146                                    Regarding Henry   \n",
       "147                                       Time Bandits   \n",
       "148  Naruto the Movie: Snow Princess' Book of Ninja...   \n",
       "149                                           Disgrace   \n",
       "\n",
       "                                                  Text            Genre  \n",
       "0     The Asgardian Loki encounters the Other, the ...  Science Fiction  \n",
       "1    {{further2}} {{See also}}  As Lord Voldemort r...            Drama  \n",
       "2     The Galactic Republic is in a period of decli...  Science Fiction  \n",
       "3     As the Clone Wars rage on, the Galactic Repub...  Science Fiction  \n",
       "4    The film opens in a California forest as a gro...  Science Fiction  \n",
       "..                                                 ...              ...  \n",
       "145  Sam Cahill  and Tommy Cahill  are brothers. A ...            Drama  \n",
       "146  Ambitious, callous, narcissistic, and at times...            Drama  \n",
       "147  Eleven-year-old Kevin has a vivid imagination ...  Science Fiction  \n",
       "148  The film opens with Naruto Uzumaki, Sakura Har...           Action  \n",
       "149  David Lurie  is a South African professor of E...            Drama  \n",
       "\n",
       "[150 rows x 3 columns]"
      ]
     },
     "execution_count": 14,
     "metadata": {},
     "output_type": "execute_result"
    }
   ],
   "source": [
    "top150"
   ]
  },
  {
   "cell_type": "code",
   "execution_count": 15,
   "metadata": {
    "colab": {
     "base_uri": "https://localhost:8080/"
    },
    "id": "ZQlcENlS74j9",
    "outputId": "832a7429-f399-4382-8946-e405f2b9850e",
    "pycharm": {
     "is_executing": false,
     "name": "#%%\n"
    }
   },
   "outputs": [
    {
     "name": "stdout",
     "output_type": "stream",
     "text": [
      "Science Fiction    76\n",
      "Drama              47\n",
      "Comedy             18\n",
      "Action              9\n",
      "Name: Genre, dtype: int64\n"
     ]
    }
   ],
   "source": [
    "# Look at the distribution of your movies in the dataset\n",
    "print(top150['Genre'].value_counts())"
   ]
  },
  {
   "cell_type": "markdown",
   "metadata": {
    "id": "3wQ3oflGOZEN"
   },
   "source": [
    "### Part 2: Turn movies into BoW and Topics representation (Lecture 7) (5pts)"
   ]
  },
  {
   "cell_type": "markdown",
   "metadata": {
    "id": "s7vIpDpZOZEO"
   },
   "source": [
    "Turn each movie plot summary (i.e. the 'Text' column in the top150 dataframe) into:"
   ]
  },
  {
   "cell_type": "markdown",
   "metadata": {
    "id": "XTKUHBOmOZEP"
   },
   "source": [
    "* **Bag-of-Words**"
   ]
  },
  {
   "cell_type": "code",
   "execution_count": 16,
   "metadata": {
    "colab": {
     "base_uri": "https://localhost:8080/",
     "height": 129
    },
    "id": "UaWtNSdwOZEP",
    "outputId": "c82ccf10-30d7-4f57-9332-8bb5dbf7505a",
    "pycharm": {
     "is_executing": false
    }
   },
   "outputs": [],
   "source": [
    "from sklearn.feature_extraction.text import CountVectorizer\n",
    "\n",
    "corpus = []\n",
    "\n",
    "for text in top150['Text']:\n",
    "    corpus.append(text)\n",
    "    \n",
    "\n",
    "bowvectorizer = CountVectorizer(lowercase = True)\n",
    "bowvector = bowvectorizer.fit_transform(corpus)\n",
    "\n",
    "bow = bowvector.A\n",
    "\n",
    "# print(bow)\n",
    "\n",
    "# print(bowvectorizer.get_feature_names())\n",
    "# print(len(bowvectorizer.get_feature_names()))\n",
    "\n",
    "    "
   ]
  },
  {
   "cell_type": "markdown",
   "metadata": {
    "id": "lNvrA5HjOZER"
   },
   "source": [
    "* **Bag-of-bigrams**"
   ]
  },
  {
   "cell_type": "code",
   "execution_count": 17,
   "metadata": {
    "id": "d5kCw7f2OZES",
    "pycharm": {
     "is_executing": false
    }
   },
   "outputs": [],
   "source": [
    "from sklearn.feature_extraction.text import CountVectorizer\n",
    "\n",
    "bo2gvectorizer = []\n",
    "        \n",
    "bo2gvectorizer = CountVectorizer(lowercase = True, ngram_range = (2, 2))\n",
    "bo2gvector = bo2gvectorizer.fit_transform(corpus)\n",
    "\n",
    "bo2g = bo2gvector.A\n",
    "\n",
    "# print(bo2g)\n",
    "\n",
    "# print(bo2gvectorizer.get_feature_names())\n",
    "# print(len(bo2gvectorizer.get_feature_names()))\n",
    "\n"
   ]
  },
  {
   "cell_type": "markdown",
   "metadata": {
    "id": "GJJi9Gn4OZEU"
   },
   "source": [
    "* **Bag-of-ngrams (for n = 1 and 2)**"
   ]
  },
  {
   "cell_type": "code",
   "execution_count": 18,
   "metadata": {
    "id": "NCBclq7AOZEV",
    "pycharm": {
     "is_executing": false
    }
   },
   "outputs": [],
   "source": [
    "from sklearn.feature_extraction.text import CountVectorizer\n",
    "\n",
    "bo12gvectorizer = []\n",
    "    \n",
    "bo12gvectorizer = CountVectorizer(lowercase = True, ngram_range = (1, 2))\n",
    "bo12gvector = bo12gvectorizer.fit_transform(corpus)\n",
    "\n",
    "bo12g = bo12gvector.A\n",
    "\n",
    "# print(bo12g)\n",
    "\n",
    "# print(bo12gvectorizer.get_feature_names())\n",
    "# print(len(bo12gvectorizer.get_feature_names()))\n"
   ]
  },
  {
   "cell_type": "markdown",
   "metadata": {
    "id": "EmZB-F9mOZEX"
   },
   "source": [
    "* **TF-IDF values**"
   ]
  },
  {
   "cell_type": "code",
   "execution_count": 19,
   "metadata": {
    "id": "gStIVpztOZEX",
    "pycharm": {
     "is_executing": false
    }
   },
   "outputs": [],
   "source": [
    "from sklearn.feature_extraction.text import TfidfTransformer\n",
    "from sklearn.feature_extraction.text import TfidfVectorizer\n",
    "from sklearn.preprocessing import Normalizer\n",
    "import numpy as np\n",
    "\n",
    "bow_vect = TfidfVectorizer(ngram_range = (1, 1), analyzer = 'word', \n",
    "                       preprocessor = None, stop_words = 'english',\n",
    "                      norm = 'l1', use_idf = True, smooth_idf = True,\n",
    "                      sublinear_tf = True)\n",
    "bow_tfidf_matrix = bow_vect.fit_transform(corpus)\n",
    "\n",
    "normalizer = Normalizer()\n",
    "bow_tfidf_norm = normalizer.fit_transform(bow_tfidf_matrix)\n",
    "\n",
    "# print(bow_vect.get_feature_names())\n",
    "# print(bow_tfidf_norm.toarray())\n",
    "\n"
   ]
  },
  {
   "cell_type": "markdown",
   "metadata": {
    "id": "qJ_HfQZNOZEZ"
   },
   "source": [
    "* **Topics**\n",
    "    * Experiment with different number of topics and choose the one that satisfies you by inspecting the top-10 most important words in each topic."
   ]
  },
  {
   "cell_type": "code",
   "execution_count": 20,
   "metadata": {
    "id": "reGUopQ3OZEa",
    "pycharm": {
     "is_executing": false
    }
   },
   "outputs": [
    {
     "data": {
      "text/plain": [
       "{'Drama': ['the', 'to', 'and', 'of', 'her', 'is', 'his', 'in', 'he', 'that'],\n",
       " 'Action': ['the', 'to', 'and', 'of', 'his', 'is', 'in', 'her', 'he', 'that']}"
      ]
     },
     "execution_count": 20,
     "metadata": {},
     "output_type": "execute_result"
    }
   ],
   "source": [
    "from sklearn.feature_extraction.text import TfidfTransformer\n",
    "from sklearn.feature_extraction.text import TfidfVectorizer\n",
    "\n",
    "texts = \"\"\n",
    "genre_list = ['Drama', 'Action']\n",
    "topics = {}\n",
    "\n",
    "for genre in genre_list:\n",
    "    for text in top150['Text'].loc[top150['Genre']==genre]:\n",
    "        texts+=str(text)\n",
    "\n",
    "    vect = TfidfVectorizer()\n",
    "    tfidf_matrix = vect.fit_transform([texts])\n",
    "    df = pd.DataFrame(tfidf_matrix.A, columns=vect.get_feature_names()).T.sort_values(by=0, ascending=False)\n",
    "    topics[genre] = list(df.index[:10])\n",
    "\n",
    "topics "
   ]
  },
  {
   "cell_type": "markdown",
   "metadata": {
    "id": "VGus0eXeOZEc"
   },
   "source": [
    "### Part 3: Clustering (Lecture 6) (5pts)"
   ]
  },
  {
   "cell_type": "markdown",
   "metadata": {
    "id": "A-IvbRrJOZEc"
   },
   "source": [
    "Cluster the movies using the k-means algorithm.\n",
    "\n",
    "**Important Note**: In order to allow you to work on Part 3, before Part 2, the [Movies](https://drive.google.com/drive/folders/1u_cDY-ZIJQKZSdgadzsbI0Q_dj4Jhy41?usp=sharing) folder also contains a comma-separated file, moviesrep.csv, that includes a representation I built for you from the movies plot summary. Each line corresponds to a vector representation (i.e. a set of features) for each movie and you can apply the clustering algorithm on this."
   ]
  },
  {
   "cell_type": "markdown",
   "metadata": {
    "id": "UYXjdMRfOZEe"
   },
   "source": [
    "**k-means**\n",
    "\n",
    "+ Choose the number of clusters you wish to find in the data (n_clusters)\n",
    "+ Take Bag-of-words and TF-IDF representations from Part 2\n",
    "+ (Optional, 1 additional point) Take the representations from the topic modeling results you get in Part 2 and include it in your comparisons with Bag-of-words and TF-IDF\n",
    "+ Run a k-means algorithm\n",
    "+ Evaluate the quality of the algorithm using inertia_, silhouette_score, adjusted_mutual_info_score, and adjusted_rand_score\n",
    "    + some of these metrics require the use of ground truth\n",
    "    + use the genre of each movie as ground truth, i.e. the perfect clustering would be the one that clusters movies based on their genre"
   ]
  },
  {
   "cell_type": "code",
   "execution_count": 21,
   "metadata": {},
   "outputs": [],
   "source": [
    "import matplotlib as mpl\n",
    "import matplotlib.pyplot as plt\n",
    "from matplotlib.colors import ListedColormap, colorConverter, LinearSegmentedColormap\n",
    "\n",
    "color_map_1 = ListedColormap(['#0000aa', '#ff2020', '#ffaa20'])\n",
    "color_map_2 = ListedColormap(['b', 'g', 'r', 'm', 'y', 'orange' ])\n"
   ]
  },
  {
   "cell_type": "code",
   "execution_count": 22,
   "metadata": {},
   "outputs": [
    {
     "name": "stdout",
     "output_type": "stream",
     "text": [
      "bow:\n",
      "Inertia:  361369.4606490477\n",
      "Silhouette score:  0.12975062781496063\n",
      "Adjusted mutual info score:  0.042765064560622006\n",
      "Adjusted rand score:  0.03628290568457626\n",
      "bow_tfidf_norm:\n",
      "Inertia:  139.9706336939952\n",
      "Silhouette score:  0.0024057060969256785\n",
      "Adjusted mutual info score:  0.025952814979170465\n",
      "Adjusted rand score:  0.03705991049726279\n"
     ]
    }
   ],
   "source": [
    "from sklearn.cluster import KMeans\n",
    "from sklearn.metrics import silhouette_score, adjusted_mutual_info_score, adjusted_rand_score\n",
    "import csv\n",
    "\n",
    "genre_code = {}\n",
    "genre_code['Science Fiction'] = 0\n",
    "genre_code['Drama'] = 1\n",
    "genre_code['Comedy'] = 2\n",
    "genre_code['Action'] = 3\n",
    "bow_and_tf = [bow, bow_tfidf_norm]\n",
    "\n",
    "for X in [0,1]:\n",
    "\n",
    "    kmeans = KMeans(n_clusters=4, random_state=0)\n",
    "    preds = kmeans.fit_predict(bow_and_tf[X])\n",
    "    \n",
    "    if X == 0:\n",
    "        print(\"bow:\")\n",
    "    else:\n",
    "        print(\"bow_tfidf_norm:\")\n",
    "    \n",
    "    print(\"Inertia: \", kmeans.inertia_)\n",
    "    print(\"Silhouette score: \", silhouette_score(bow_and_tf[X], preds))\n",
    "\n",
    "    y_true = []\n",
    "\n",
    "    for genre in top150['Genre']:\n",
    "        y_true.append(genre_code[genre])\n",
    "\n",
    "    print(\"Adjusted mutual info score: \", adjusted_mutual_info_score(y_true, preds))\n",
    "    print(\"Adjusted rand score: \", adjusted_rand_score(y_true, preds))"
   ]
  },
  {
   "cell_type": "code",
   "execution_count": 23,
   "metadata": {},
   "outputs": [],
   "source": [
    "# print()\n",
    "# print(kmeans.labels_)\n",
    "# print(kmeans.cluster_centers_)\n",
    "\n",
    "# plt.scatter(X[:,0], X[:,1], s=10, c=kmeans.labels_, cmap=color_map_1)\n",
    "# plt.scatter(kmeans.cluster_centers_[:,0], kmeans.cluster_centers_[:,1], \n",
    "#             s=50, facecolors='none', edgecolors='black', linewidth=2,\n",
    "#             c=kmeans.predict(kmeans.cluster_centers_), cmap=color_map_1)\n",
    "\n",
    "# plt.xticks(X[:,0], \" \")\n",
    "# plt.yticks(X[:,1], \" \")\n",
    "\n",
    "# plt.show()"
   ]
  },
  {
   "cell_type": "markdown",
   "metadata": {
    "id": "WEV5ap-rOZEh"
   },
   "source": [
    "**Number of cluster**\n",
    "\n",
    "* Change the value of n\\_clusters and plot inertia_, silhouette_score, adjusted_mutual_info_score, and adjusted_rand_score as a function of n_clusters\n",
    "* Explain what you observe in the plots.\n",
    "* Do the same for each text representation from Part 2.\n",
    "* Explain the differences across different representations if there are any"
   ]
  },
  {
   "cell_type": "code",
   "execution_count": 24,
   "metadata": {
    "id": "EWQCLB2bOZEh",
    "pycharm": {
     "is_executing": false
    }
   },
   "outputs": [
    {
     "data": {
      "image/png": "[encoded data removed]",
      "text/plain": [
       "<Figure size 1440x1224 with 16 Axes>"
      ]
     },
     "metadata": {
      "needs_background": "light"
     },
     "output_type": "display_data"
    }
   ],
   "source": [
    "text_representations = [bow, bo2g, bo12g, bow_tfidf_norm]\n",
    "\n",
    "# Initialise subplots\n",
    "figure, axis = plt.subplots(4, 4, figsize=(20, 17))\n",
    "\n",
    "# Plots for bag of words\n",
    "############################################################\n",
    "inertia_scores = []\n",
    "silhouette_scores = []\n",
    "adj_mi_scores = []\n",
    "adj_r_scores = []\n",
    "\n",
    "for clusters in range(2, 10):\n",
    "    kmeans = KMeans(n_clusters = clusters, random_state=0)\n",
    "    preds = kmeans.fit_predict(bow)\n",
    "\n",
    "    inertia_scores.append(kmeans.inertia_)\n",
    "    silhouette_scores.append(silhouette_score(bow, preds))\n",
    "    adj_mi_scores.append(adjusted_mutual_info_score(y_true, preds))\n",
    "    adj_r_scores.append(adjusted_rand_score(y_true, preds))\n",
    "\n",
    "axis[0, 0].plot(range(2, 10), inertia_scores)\n",
    "axis[0, 0].set_title(\"Inertia score for bow\")\n",
    "\n",
    "axis[0, 1].plot(range(2, 10), silhouette_scores)\n",
    "axis[0, 1].set_title(\"Silhouette score for bow\")\n",
    "\n",
    "axis[1, 0].plot(range(2, 10), adj_mi_scores)\n",
    "axis[1, 0].set_title(\"Adjusted mutual info score for bow\")\n",
    "\n",
    "axis[1, 1].plot(range(2, 10), adj_r_scores)\n",
    "axis[1, 1].set_title(\"Adjusted rand score for bow\")\n",
    "\n",
    "\n",
    "# Plots for bag of bigrams\n",
    "############################################################\n",
    "inertia_scores = []\n",
    "silhouette_scores = []\n",
    "adj_mi_scores = []\n",
    "adj_r_scores = []\n",
    "\n",
    "for clusters in range(2, 10):\n",
    "    kmeans = KMeans(n_clusters = clusters, random_state=0)\n",
    "    preds = kmeans.fit_predict(bo2g)\n",
    "\n",
    "    inertia_scores.append(kmeans.inertia_)\n",
    "    silhouette_scores.append(silhouette_score(bo2g, preds))\n",
    "    adj_mi_scores.append(adjusted_mutual_info_score(y_true, preds))\n",
    "    adj_r_scores.append(adjusted_rand_score(y_true, preds))\n",
    "    \n",
    "axis[0, 2].plot(range(2, 10), inertia_scores, color = 'red')\n",
    "axis[0, 2].set_title(\"Inertia score for bo2g\")\n",
    "\n",
    "axis[0, 3].plot(range(2, 10), silhouette_scores, color = 'red')\n",
    "axis[0, 3].set_title(\"Silhouette score for bo2g\")\n",
    "\n",
    "axis[1, 2].plot(range(2, 10), adj_mi_scores, color = 'red')\n",
    "axis[1, 2].set_title(\"Adjusted mutual info score for bo2g\")\n",
    "\n",
    "axis[1, 3].plot(range(2, 10), adj_r_scores, color = 'red')\n",
    "axis[1, 3].set_title(\"Adjusted rand score for bo2g\")\n",
    "\n",
    "\n",
    "# Plots for bag of ngrams\n",
    "############################################################\n",
    "inertia_scores = []\n",
    "silhouette_scores = []\n",
    "adj_mi_scores = []\n",
    "adj_r_scores = []\n",
    "\n",
    "for clusters in range(2, 10):\n",
    "    kmeans = KMeans(n_clusters = clusters, random_state=0)\n",
    "    preds = kmeans.fit_predict(bo12g)\n",
    "\n",
    "    inertia_scores.append(kmeans.inertia_)\n",
    "    silhouette_scores.append(silhouette_score(bo12g, preds))\n",
    "    adj_mi_scores.append(adjusted_mutual_info_score(y_true, preds))\n",
    "    adj_r_scores.append(adjusted_rand_score(y_true, preds))\n",
    "    \n",
    "axis[2, 0].plot(range(2, 10), inertia_scores, color = 'green')\n",
    "axis[2, 0].set_title(\"Inertia score for bo12g\")\n",
    "\n",
    "axis[2, 1].plot(range(2, 10), silhouette_scores, color = 'green')\n",
    "axis[2, 1].set_title(\"Silhouette score for bo12g\")\n",
    "\n",
    "axis[3, 0].plot(range(2, 10), adj_mi_scores, color = 'green')\n",
    "axis[3, 0].set_title(\"Adjusted mutual info score for bo12g\")\n",
    "\n",
    "axis[3, 1].plot(range(2, 10), adj_r_scores, color = 'green')\n",
    "axis[3, 1].set_title(\"Adjusted rand score for bo12g\")\n",
    "\n",
    "\n",
    "# Plots for tfidf scores\n",
    "############################################################\n",
    "inertia_scores = []\n",
    "silhouette_scores = []\n",
    "adj_mi_scores = []\n",
    "adj_r_scores = []\n",
    "\n",
    "for clusters in range(2, 10):\n",
    "    kmeans = KMeans(n_clusters = clusters, random_state=0)\n",
    "    preds = kmeans.fit_predict(bow_tfidf_norm)\n",
    "\n",
    "    inertia_scores.append(kmeans.inertia_)\n",
    "    silhouette_scores.append(silhouette_score(bow_tfidf_norm, preds))\n",
    "    adj_mi_scores.append(adjusted_mutual_info_score(y_true, preds))\n",
    "    adj_r_scores.append(adjusted_rand_score(y_true, preds))\n",
    "    \n",
    "axis[2, 2].plot(range(2, 10), inertia_scores, color = 'magenta')\n",
    "axis[2, 2].set_title(\"Inertia score for tfidf\")\n",
    "\n",
    "axis[2, 3].plot(range(2, 10), silhouette_scores, color = 'magenta')\n",
    "axis[2, 3].set_title(\"Silhouette score for tfidf\")\n",
    "\n",
    "axis[3, 2].plot(range(2, 10), adj_mi_scores, color = 'magenta')\n",
    "axis[3, 2].set_title(\"Adjusted mutual info score for tfidf\")\n",
    "\n",
    "axis[3, 3].plot(range(2, 10), adj_r_scores, color = 'magenta')\n",
    "axis[3, 3].set_title(\"Adjusted rand score for tfidf\")\n",
    "\n",
    "\n",
    "plt.show()"
   ]
  },
  {
   "cell_type": "markdown",
   "metadata": {
    "id": "vb4pbKiVOZEk"
   },
   "source": [
    "For each of the representations the inertia score seems to descend as the amount of clusters increases. The same could be said for silhouette, but the tfidf representation is an exception for this case, resulting in high values as the amount of clusters increases. Also noteworthy is the fact that the overal inertia scores for cluster amounts for the tfidf representation is significantly lower than the other representations (Descending from 142 to 134, instead of descending in the thousands).\n",
    "\n",
    "\n",
    "The adjusted scores differ greatly across each of the representations. They show very sudden peaks and valleys for certain amounts of clusters. The adjusted rand score for the tfidf shows a remarkable peak using the least amount of clusters: 2."
   ]
  },
  {
   "cell_type": "markdown",
   "metadata": {
    "id": "veH1tfJfOZEl"
   },
   "source": [
    "**Demonstrate clusters**\n",
    "\n",
    "* for each representation choose the optimal number of clusters and repeat the k-means algorithm for that number of clusters\n",
    "* print the top-10 most important words within each cluster\n",
    "* print the titles of the movies for each cluster\n",
    "* explain what you observe and whether results make sense"
   ]
  },
  {
   "cell_type": "code",
   "execution_count": 25,
   "metadata": {
    "id": "oleoi5oROZEm",
    "pycharm": {
     "is_executing": false
    }
   },
   "outputs": [
    {
     "name": "stdout",
     "output_type": "stream",
     "text": [
      "Most important words for each cluster using kmeans with the bag of words\n",
      "['the', 'to', 'and', 'his', 'of', 'is', 'he', 'in', 'her', 'with']\n",
      "['the', 'to', 'and', 'is', 'of', 'that', 'he', 'his', 'in', 'her']\n",
      "['the', 'to', 'and', 'of', 'is', 'his', 'in', 'he', 'that', 'with']\n",
      "\n",
      "\n",
      "\n",
      "Most important words for each cluster using kmeans with the bag of bigrams\n",
      "['snow white', 'queen clementianna', 'in the', 'the prince', 'of the', 'to the', 'the dwarfs', 'white is', 'the mirror', 'and the']\n",
      "['that he', 'he is', 'to be', 'him that', 'to the', 'of the', 'him to', 'says that', 'in the', 'tells him']\n",
      "['of the', 'in the', 'to the', 'that he', 'and the', 'on the', 'he is', 'at the', 'from the', 'with the']\n",
      "\n",
      "\n",
      "\n",
      "Most important words for each cluster using kmeans with the bag of ngrams\n",
      "['the', 'to', 'and', 'of', 'his', 'in', 'is', 'he', 'that', 'with']\n",
      "['to', 'the', 'he', 'and', 'dave', 'mitch', 'that', 'is', 'him', 'his']\n",
      "['the', 'to', 'and', 'his', 'of', 'is', 'he', 'in', 'with', 'her']\n",
      "['the', 'to', 'her', 'and', 'is', 'she', 'of', 'that', 'in', 'with']\n",
      "['the', 'to', 'and', 'of', 'is', 'reaper', 'that', 'sarge', 'in', 'with']\n",
      "['the', 'to', 'and', 'of', 'is', 'in', 'his', 'that', 'he', 'with']\n",
      "['her', 'the', 'molly', 'to', 'ray', 'she', 'and', 'in', 'is', 'that']\n",
      "['the', 'to', 'and', 'his', 'he', 'is', 'of', 'in', 'that', 'with']\n",
      "\n",
      "\n",
      "\n",
      "Most important words for each cluster using kmeans with the tfidf scores\n",
      "['earth', 'alien', 'ship', 'planet', 'new', 'escape', 'father', 'home', 'aliens', 'takes']\n",
      "['family', 'tells', 'father', 'mother', 'life', 'time', 'day', 'school', 'son', 'parents']\n"
     ]
    }
   ],
   "source": [
    "\n",
    "# For bow 3 clusters has a sudden peak in scores\n",
    "bow_feature_names = bowvectorizer.get_feature_names()\n",
    "\n",
    "kmeans1 = KMeans(n_clusters = 3, random_state=0)\n",
    "kmeans1.fit(bow)\n",
    "\n",
    "print(\"Most important words for each cluster using kmeans with the bag of words\")\n",
    "for cluster in kmeans1.cluster_centers_:\n",
    "    serie = pd.Series(cluster, index = bow_feature_names)\n",
    "    serie = serie.sort_values(ascending = False)\n",
    "    print(list(serie.index[0:10]))\n",
    "print(\"\\n\\n\")\n",
    "    \n",
    "\n",
    "# For bo2g 3 clusters has the highest scores overall\n",
    "bo2g_feature_names = bo2gvectorizer.get_feature_names()\n",
    "\n",
    "kmeans2 = KMeans(n_clusters = 3, random_state=0)\n",
    "kmeans2.fit(bo2g)\n",
    "\n",
    "print(\"Most important words for each cluster using kmeans with the bag of bigrams\")\n",
    "for cluster in kmeans2.cluster_centers_:\n",
    "    serie = pd.Series(cluster, index = bo2g_feature_names)\n",
    "    serie = serie.sort_values(ascending = False)\n",
    "    print(list(serie.index[0:10]))\n",
    "print(\"\\n\\n\")\n",
    "\n",
    "    \n",
    "# For bo12g 8 clusters has a clear peak for both the adjusted scores. The silhouette and inertia scores are fairly low but\n",
    "# the inertia score has only decreased to 420000 from 580000 (the bottom of the y-axis in the inertia score graphs does not\n",
    "# represent 0) so the highest overall score is at 8 clusters.\n",
    "bo12g_feature_names = bo12gvectorizer.get_feature_names()\n",
    "\n",
    "kmeans3 = KMeans(n_clusters = 8, random_state=0)\n",
    "kmeans3.fit(bo12g)\n",
    "\n",
    "print(\"Most important words for each cluster using kmeans with the bag of ngrams\")\n",
    "for cluster in kmeans3.cluster_centers_:\n",
    "    serie = pd.Series(cluster, index = bo12g_feature_names)\n",
    "    serie = serie.sort_values(ascending = False)\n",
    "    print(list(serie.index[0:10]))\n",
    "print(\"\\n\\n\")    \n",
    "\n",
    "\n",
    "\n",
    "# For tfidf scores 2 clusters, the initial and lowest amount, results in the highest overall scores\n",
    "tfidf_feature_names = bow_vect.get_feature_names()\n",
    "\n",
    "kmeans4 = KMeans(n_clusters = 2, random_state=0)\n",
    "kmeans4.fit(bow_tfidf_norm.toarray())\n",
    "\n",
    "print(\"Most important words for each cluster using kmeans with the tfidf scores\")\n",
    "for cluster in kmeans4.cluster_centers_:\n",
    "    serie = pd.Series(cluster, index = tfidf_feature_names)\n",
    "    serie = serie.sort_values(ascending = False)\n",
    "    print(list(serie.index[0:10]))\n",
    "\n",
    "    "
   ]
  },
  {
   "cell_type": "markdown",
   "metadata": {
    "id": "gZc4zlxLOZEp"
   },
   "source": [
    "As expected, words with little meaning (such as \"the\", \"to\", etc.) are the most important using the bag of words.\n",
    "\n",
    "\n",
    "Interestingly the bigram shows certain composition of words being very important, while they consist of less important individual words.Those compositions are again overruled in the case using the n-grams, however. The frequency of the standard little meaning words is too great and thus they show as being more important.\n",
    "\n",
    "\n",
    "The tfidf score shows very different results for its clusters. We find it hard to explain why these exact words are shown as important, as we have not read the scripts ourselves. We find it worthy to not that the tfidf algorithm does not recognize the importance of the words with little meaning, instead focusing on more differing words.\n"
   ]
  }
 ],
 "metadata": {
  "colab": {
   "collapsed_sections": [],
   "name": "Practical Assignment 3 - 2021 Student.ipynb",
   "provenance": [],
   "toc_visible": true
  },
  "kernelspec": {
   "display_name": "Python 3",
   "language": "python",
   "name": "python3"
  },
  "language_info": {
   "codemirror_mode": {
    "name": "ipython",
    "version": 3
   },
   "file_extension": ".py",
   "mimetype": "text/x-python",
   "name": "python",
   "nbconvert_exporter": "python",
   "pygments_lexer": "ipython3",
   "version": "3.7.6"
  },
  "pycharm": {
   "stem_cell": {
    "cell_type": "raw",
    "metadata": {
     "collapsed": false
    },
    "source": []
   }
  }
 },
 "nbformat": 4,
 "nbformat_minor": 1
}
