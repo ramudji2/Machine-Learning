{
 "cells": [
  {
   "cell_type": "code",
   "execution_count": 1,
   "metadata": {
    "id": "NuJ0879WJF0E",
    "pycharm": {
     "is_executing": false
    }
   },
   "outputs": [],
   "source": [
    "Names: ['Lucas Belderink', 'Rama Pamudji'] \n",
    "Studentnumbers: ['12151750', '11170220']"
   ]
  },
  {
   "cell_type": "markdown",
   "metadata": {
    "collapsed": true,
    "deletable": false,
    "editable": false,
    "id": "wKpbQMIQJF0K",
    "nbgrader": {
     "checksum": "89914f38bf3510543caaef66d0f14169",
     "grade": false,
     "grade_id": "cell-700f4a41782fa412",
     "locked": true,
     "schema_version": 1,
     "solution": false
    }
   },
   "source": [
    "# Applied Machine learning\n",
    "## Practical Assignment 2\n",
    "\n",
    "### Important Notes:\n",
    "1. Submit through **Canvas** before 11:59pm on Tuesday, May 11, 2021\n",
    "2. No late homework will be accepted\n",
    "3. This is a group-of-two assignment\n",
    "4. The submitted file should be in ipynb format\n",
    "5. The assignment is worth it 10 points\n",
    "6. For questions, please use the discussion part of Canvas (English only!)\n",
    "7. The indication **optional** means that the question is optional; you won't lose any points if you do not do that part of the assignment, nor will you gain if you do it.\n",
    "\n",
    "### Software:\n",
    "We will be using Python programming language throughout this course. Further we will be using:\n",
    "+ IPython Notebooks (as an environment)\n",
    "+ Numpy\n",
    "+ Pandas\n",
    "+ Scikit-learn\n",
    "\n",
    "### Background:\n",
    "\n",
    "This practical assignment will be covering logistic regression, neural networks, support vector machines and evaluation of classifiers. \n",
    "\n",
    "For the assignment, please download a dataset on Load Defaults. You are provided with two datasets:\n",
    "1. [Dataset](https://drive.google.com/open?id=1cj-CzkY6QZUe42ky64GI5CSSg7-K40N5) with 10,000 instances \n",
    "2. [Dataset](https://drive.google.com/open?id=1MbWGXLawE3VTxP1XgNpj8uEo1VHPq12B) with 100,000 instances\n",
    "In principle you should work on the second, larger dataset, but if you face scaling computational issues then better work with the first, smaller dataset.\n",
    "\n",
    "This data corresponds to a set of financial transactions associated with individuals. The data has been standardized, de-trended, and anonymized. You are provided with thousands of observations and nearly 800 features. Each observation (instance) is independent from the previous. \n",
    "\n",
    "For each observation, it was recorded whether a default was triggered. In case of a default, the loss was measured. This quantity lies between 0 and 100. It has been normalised, considering that the notional of each transaction at inception is 100. For example, a loss of 60 means that only 40 is reimbursed. If the loan did not default, the loss was 0. You are asked to predict the losses for each observation in the test set.\n",
    "\n",
    "Missing feature values have been kept as is, so that the competing teams can really use the maximum data available, implementing a strategy to fill the gaps if desired. Consider all variables continuous, even though some variables may be categorical (e.g. f776 and f777).\n",
    "\n",
    "The goal of the machine learning algorithm will be to predict whether a loan will default, given a set of features. For privacy reasons the feature names are not provided.\n",
    "\n",
    "**Important Note**: This second assignment is not as instructive as the first assignment. The first assignment guided you step-by-step through all the preprocessing, training-validation-testing setup, etc. This assignment does not do so, but it leaves it up to you to decide how to use the data and design your experiments."
   ]
  },
  {
   "cell_type": "code",
   "execution_count": 2,
   "metadata": {
    "colab": {
     "base_uri": "https://localhost:8080/"
    },
    "executionInfo": {
     "elapsed": 10488,
     "status": "ok",
     "timestamp": 1618851213972,
     "user": {
      "displayName": "Mohammad Aliannejadi",
      "photoUrl": "https://lh3.googleusercontent.com/a-/AOh14GgPO1w_DfPwEKbrl4Dys5EnchJ-8auKnVWSrVpk1A=s64",
      "userId": "16397319799386146908"
     },
     "user_tz": -120
    },
    "id": "PHjzAhvgBlo7",
    "outputId": "c9cc7c86-23db-434d-fea1-b1b94a0e8f0c"
   },
   "outputs": [
    {
     "name": "stderr",
     "output_type": "stream",
     "text": [
      "'gdown' is not recognized as an internal or external command,\n",
      "operable program or batch file.\n",
      "'gdown' is not recognized as an internal or external command,\n",
      "operable program or batch file.\n"
     ]
    }
   ],
   "source": [
    "# Download the data\n",
    "# Dataset with 10K instances\n",
    "! gdown \"https://drive.google.com/uc?id=1cj-CzkY6QZUe42ky64GI5CSSg7-K40N5\"\n",
    "# Dataset with 100k instances\n",
    "! gdown \"https://drive.google.com/uc?id=1MbWGXLawE3VTxP1XgNpj8uEo1VHPq12B\""
   ]
  },
  {
   "cell_type": "code",
   "execution_count": 3,
   "metadata": {},
   "outputs": [
    {
     "name": "stdout",
     "output_type": "stream",
     "text": [
      "Requirement already satisfied: tabulate in d:\\anaconda\\lib\\site-packages (0.8.9)\n"
     ]
    }
   ],
   "source": [
    "!pip install tabulate"
   ]
  },
  {
   "cell_type": "markdown",
   "metadata": {
    "deletable": false,
    "editable": false,
    "id": "SlHJBPXQJF0K",
    "nbgrader": {
     "checksum": "86f687db575cf409d54ac5e91e6dd861",
     "grade": false,
     "grade_id": "cell-1979a89473cf7ece",
     "locked": true,
     "schema_version": 1,
     "solution": false
    }
   },
   "source": [
    "### Part 1: Import the data"
   ]
  },
  {
   "cell_type": "code",
   "execution_count": 4,
   "metadata": {
    "deletable": false,
    "editable": false,
    "id": "k63PQb_KJF0L",
    "nbgrader": {
     "checksum": "cdc9100b2eb32f795318f88531439408",
     "grade": false,
     "grade_id": "cell-3a36fe2e430fa9ab",
     "locked": true,
     "schema_version": 1,
     "solution": false
    },
    "pycharm": {
     "is_executing": false
    }
   },
   "outputs": [],
   "source": [
    "import pandas as pd\n",
    "import numpy as np\n",
    "from sklearn.model_selection import train_test_split\n",
    "\n",
    "df = pd.read_csv('loan_default_10K.csv', sep=\",\", header=0, dtype=np.float64)\n",
    "\n",
    "# Drop the observations that contain missing values\n",
    "dfn = df.dropna(0, how='any')\n",
    "\n",
    "# Consider only a handful of features to start with; you can extend to the full set later on.\n",
    "X = dfn.loc[:,'f400':'f500'].values\n",
    "\n",
    "# Generate the labels; if 'loss' is zero the this indicates the negative class, class 0, i.e. no default;\n",
    "# if 'loss' is possitive this indicates the positive class, class 1, i.e. there is a loan default;\n",
    "y = [ bool(y) for y in dfn.loc[:,'loss'].values ]\n",
    "\n",
    "# Separate the data into train, validation, and test.\n",
    "X_train, X_test, y_train, y_test = train_test_split(X, \n",
    "                                                    y, \n",
    "                                                    test_size=0.20)"
   ]
  },
  {
   "cell_type": "code",
   "execution_count": 5,
   "metadata": {},
   "outputs": [],
   "source": [
    "import random\n",
    "from tabulate import tabulate\n",
    "from sklearn import svm\n",
    "import sklearn\n",
    "\n",
    "\n",
    "predicted_y = [random.choice([True, False]) for x in range(len(y))]"
   ]
  },
  {
   "cell_type": "code",
   "execution_count": 6,
   "metadata": {},
   "outputs": [],
   "source": [
    "from sklearn.preprocessing import StandardScaler\n",
    "\n",
    "# Normalization\n",
    "scaler = StandardScaler().fit(X_train)\n",
    "X_train_scaled = scaler.transform(X_train)\n",
    "X_test_scaled = scaler.transform(X_test)"
   ]
  },
  {
   "cell_type": "markdown",
   "metadata": {
    "deletable": false,
    "editable": false,
    "id": "0LKlXxS3JF0L",
    "nbgrader": {
     "checksum": "ff730342a91fefa515c3117b502aa292",
     "grade": false,
     "grade_id": "cell-735be096b0f642ef",
     "locked": true,
     "schema_version": 1,
     "solution": false
    }
   },
   "source": [
    "### Part 2: Evaluation measures (2pts)\n",
    "In what follows you should implement a number of evaluation measures. You need to implement these from scratch, meaning that it is not allowed to call any scikit-learn function, or any other API function that implements the method for you."
   ]
  },
  {
   "cell_type": "markdown",
   "metadata": {
    "deletable": false,
    "editable": false,
    "id": "4yvWH4cgJF0L",
    "nbgrader": {
     "checksum": "cdadfd696f9d159f0242cad28b7f41ef",
     "grade": false,
     "grade_id": "cell-a127e8413f617d64",
     "locked": true,
     "schema_version": 1,
     "solution": false
    }
   },
   "source": [
    "* Implement a function that produces the contigency matrix, i.e. True Positives, False Positives, True Negatives, False Negative"
   ]
  },
  {
   "cell_type": "code",
   "execution_count": 7,
   "metadata": {
    "deletable": false,
    "id": "294-dY4BJF0M",
    "nbgrader": {
     "checksum": "bd892db60c7761bace1ca06b9361a045",
     "grade": false,
     "grade_id": "cell-aab0f82d6a21bea5",
     "locked": false,
     "schema_version": 1,
     "solution": true
    },
    "pycharm": {
     "is_executing": false
    },
    "scrolled": true
   },
   "outputs": [
    {
     "name": "stdout",
     "output_type": "stream",
     "text": [
      "216\n",
      "1998\n",
      "1954\n",
      "199\n"
     ]
    }
   ],
   "source": [
    "\n",
    "\n",
    "def contingency_matrix(true_y, predicted_y):\n",
    "    count_tp = 0\n",
    "    count_tn = 0\n",
    "    count_fp = 0\n",
    "    count_fn = 0\n",
    "\n",
    "    for x in range(len(true_y)):\n",
    "        if true_y[x] == True and true_y[x] == predicted_y[x]:\n",
    "            count_tp+=1\n",
    "        if true_y[x] == False and true_y[x] == predicted_y[x]:\n",
    "            count_tn+=1\n",
    "        if true_y[x] == True and true_y[x] != predicted_y[x]:\n",
    "            count_fn+=1\n",
    "        if true_y[x] == False and true_y[x] != predicted_y[x]:\n",
    "            count_fp+=1\n",
    "#     print(\"TPs, fps \", [count_tp, count_fp])\n",
    "#     print(\"TNs, fns \", [count_tn, count_fn])\n",
    "#     print(np.array(([count_tp, count_fp], [count_tn, count_fn])))\n",
    "    \n",
    "    matrix = np.array(([count_tp, count_fp], [count_tn, count_fn]))\n",
    "\n",
    "    # Make sure your output fits the following format:\n",
    "    # matrix = np.array(([TP, FP], [TN, FN]))\n",
    "    return matrix\n",
    "    \n",
    "print(contingency_matrix(y, predicted_y)[0][0])\n",
    "print(contingency_matrix(y, predicted_y)[0][1])\n",
    "print(contingency_matrix(y, predicted_y)[1][0])\n",
    "print(contingency_matrix(y, predicted_y)[1][1])"
   ]
  },
  {
   "cell_type": "markdown",
   "metadata": {
    "deletable": false,
    "editable": false,
    "id": "cV3BfX8jJF0M",
    "nbgrader": {
     "checksum": "b2f901219adca9d441082d3fcf702e6b",
     "grade": false,
     "grade_id": "cell-b3c52de1970e361e",
     "locked": true,
     "schema_version": 1,
     "solution": false
    }
   },
   "source": [
    "* Implement a function that computes accuracy (without using any built-in accuracy function)"
   ]
  },
  {
   "cell_type": "code",
   "execution_count": 8,
   "metadata": {
    "deletable": false,
    "id": "DK2lCwiNJF0M",
    "nbgrader": {
     "checksum": "f6705877fef7cd74d89832d32a8536a0",
     "grade": false,
     "grade_id": "cell-2e0cc734628dd4c2",
     "locked": false,
     "schema_version": 1,
     "solution": true
    },
    "pycharm": {
     "is_executing": false
    }
   },
   "outputs": [
    {
     "name": "stdout",
     "output_type": "stream",
     "text": [
      "0.49690863292878407\n"
     ]
    },
    {
     "data": {
      "text/plain": [
       "0.49690863292878407"
      ]
     },
     "execution_count": 8,
     "metadata": {},
     "output_type": "execute_result"
    }
   ],
   "source": [
    "def accuracy(true_y, predicted_y):\n",
    "    contingency = contingency_matrix(true_y, predicted_y)\n",
    "    \n",
    "    return (contingency[0][0] + contingency[1][0]) / len(predicted_y)\n",
    "\n",
    "    \n",
    "print(accuracy(y, predicted_y))\n",
    "sklearn.metrics.accuracy_score(y, predicted_y)"
   ]
  },
  {
   "cell_type": "markdown",
   "metadata": {
    "deletable": false,
    "editable": false,
    "id": "4LznpIdTJF0M",
    "nbgrader": {
     "checksum": "4b3798ba720235065011afa2736346a7",
     "grade": false,
     "grade_id": "cell-d045e95a552112ac",
     "locked": true,
     "schema_version": 1,
     "solution": false
    }
   },
   "source": [
    "* Implement a function that computes precision  (without using any built-in precision function)"
   ]
  },
  {
   "cell_type": "code",
   "execution_count": 9,
   "metadata": {
    "deletable": false,
    "id": "QC8SeWOIJF0M",
    "nbgrader": {
     "checksum": "40f4c7470d6073739cff4934761469c8",
     "grade": false,
     "grade_id": "cell-a403be8ac0ee7af0",
     "locked": false,
     "schema_version": 1,
     "solution": true
    },
    "pycharm": {
     "is_executing": false
    }
   },
   "outputs": [
    {
     "name": "stdout",
     "output_type": "stream",
     "text": [
      "0.0975609756097561\n"
     ]
    },
    {
     "data": {
      "text/plain": [
       "0.0975609756097561"
      ]
     },
     "execution_count": 9,
     "metadata": {},
     "output_type": "execute_result"
    }
   ],
   "source": [
    "def precision(true_y, predicted_y):\n",
    "    contingency = contingency_matrix(true_y, predicted_y)\n",
    "    \n",
    "    \n",
    "    if (contingency[0][0] + contingency[0][1]) == 0:\n",
    "        return 0\n",
    "    else:\n",
    "        return (contingency[0][0] / (contingency[0][0] + contingency[0][1]))\n",
    "    \n",
    "    \n",
    "print(precision(y, predicted_y))\n",
    "sklearn.metrics.precision_score(y, predicted_y)\n"
   ]
  },
  {
   "cell_type": "markdown",
   "metadata": {
    "deletable": false,
    "editable": false,
    "id": "_D7OYnK4JF0N",
    "nbgrader": {
     "checksum": "6dbe4298af11247615077250b24d3f59",
     "grade": false,
     "grade_id": "cell-4822b32d0cedb0e8",
     "locked": true,
     "schema_version": 1,
     "solution": false
    }
   },
   "source": [
    "* Implement a function that computes recall (without using any built-in recall function)"
   ]
  },
  {
   "cell_type": "code",
   "execution_count": 10,
   "metadata": {
    "deletable": false,
    "id": "X08ucQRFJF0N",
    "nbgrader": {
     "checksum": "cf41435f0b5003e31ae61340d3188bde",
     "grade": false,
     "grade_id": "cell-075963e37ff41c66",
     "locked": false,
     "schema_version": 1,
     "solution": true
    },
    "pycharm": {
     "is_executing": false
    }
   },
   "outputs": [
    {
     "name": "stdout",
     "output_type": "stream",
     "text": [
      "0.5204819277108433\n"
     ]
    },
    {
     "data": {
      "text/plain": [
       "0.5204819277108433"
      ]
     },
     "execution_count": 10,
     "metadata": {},
     "output_type": "execute_result"
    }
   ],
   "source": [
    "def recall(true_y, predicted_y):\n",
    "    contingency = contingency_matrix(true_y, predicted_y)\n",
    "\n",
    "    if (contingency[0][0] + contingency[1][1]) == 0:\n",
    "        return 0\n",
    "    else:\n",
    "        return (contingency[0][0] / (contingency[0][0] + contingency[1][1]))\n",
    "\n",
    "print(recall(y, predicted_y))\n",
    "sklearn.metrics.recall_score(y, predicted_y)\n"
   ]
  },
  {
   "cell_type": "markdown",
   "metadata": {
    "deletable": false,
    "editable": false,
    "id": "yE78OP9tJF0N",
    "nbgrader": {
     "checksum": "c0fa7903c66407fa515b5c4c5e12b266",
     "grade": false,
     "grade_id": "cell-f0c5ff30db6fc1b0",
     "locked": true,
     "schema_version": 1,
     "solution": false
    }
   },
   "source": [
    "* Implement a function that computes f1 (without using any built-in f1 function)"
   ]
  },
  {
   "cell_type": "code",
   "execution_count": 11,
   "metadata": {
    "deletable": false,
    "id": "FB-f5OO1JF0N",
    "nbgrader": {
     "checksum": "0b8095ecb0d05692b4a57cc17eff026d",
     "grade": false,
     "grade_id": "cell-bcc41b9d876ee5d4",
     "locked": false,
     "schema_version": 1,
     "solution": true
    },
    "pycharm": {
     "is_executing": false
    }
   },
   "outputs": [
    {
     "name": "stdout",
     "output_type": "stream",
     "text": [
      "0.16432103461392164\n"
     ]
    }
   ],
   "source": [
    "def f1(true_y, predicted_y):\n",
    "    prec = precision(true_y, predicted_y)\n",
    "    rec = recall(true_y, predicted_y)\n",
    "    \n",
    "    if (prec + rec) == 0:\n",
    "        return 0\n",
    "    else:\n",
    "        return (2 * ((prec*rec)/(prec+rec)))\n",
    "\n",
    "print(f1(y, predicted_y))"
   ]
  },
  {
   "cell_type": "markdown",
   "metadata": {
    "deletable": false,
    "editable": false,
    "id": "jO5VhQLWJF0N",
    "nbgrader": {
     "checksum": "e0d9785e1e45e2179c318aec035059ad",
     "grade": false,
     "grade_id": "cell-c21fd73cbce64a50",
     "locked": true,
     "schema_version": 1,
     "solution": false
    }
   },
   "source": [
    "### Part 3: Algorithms\n",
    "Compare the performance of Logistic Regression, Neural Networks, and SVMs"
   ]
  },
  {
   "cell_type": "markdown",
   "metadata": {
    "deletable": false,
    "editable": false,
    "id": "UWXjVAenJF0N",
    "nbgrader": {
     "checksum": "af0943a520201c48990805ce5cb2cb7c",
     "grade": false,
     "grade_id": "cell-7ea6f44ccf633c76",
     "locked": true,
     "schema_version": 1,
     "solution": false
    }
   },
   "source": [
    "##### Logistic Regression (Lecture 3) (2pts)\n",
    "\n",
    "+ Train and test a logistic regression model\n",
    "    + Construct a table with each row being a different value of the regularization parameter and each column the aforementioned measures\n",
    "    + Explain your findings and select the optimal model\n",
    "    + Report the performance of the optimal model"
   ]
  },
  {
   "cell_type": "code",
   "execution_count": 12,
   "metadata": {
    "deletable": false,
    "id": "vnnZ6T1MJF0O",
    "nbgrader": {
     "checksum": "bb4b24cb9b3769517aafa02dce6321d4",
     "grade": true,
     "grade_id": "cell-eea85664ef370cd5",
     "locked": false,
     "points": 1.5,
     "schema_version": 1,
     "solution": true
    },
    "pycharm": {
     "is_executing": false
    },
    "scrolled": false
   },
   "outputs": [
    {
     "name": "stdout",
     "output_type": "stream",
     "text": [
      "Using C =  1  : \n",
      "True negatives:  3160\n",
      "False negatives:  332\n",
      "True positives:  1\n",
      "False positives:  0\n",
      "\n",
      "Using C =  0.8  : \n",
      "True negatives:  3160\n",
      "False negatives:  332\n",
      "True positives:  1\n",
      "False positives:  0\n",
      "\n",
      "Using C =  0.7  : \n",
      "True negatives:  3160\n",
      "False negatives:  332\n",
      "True positives:  1\n",
      "False positives:  0\n",
      "\n",
      "Using C =  0.6  : \n",
      "True negatives:  3160\n",
      "False negatives:  332\n",
      "True positives:  1\n",
      "False positives:  0\n",
      "\n",
      "Using C =  0.5  : \n",
      "True negatives:  3160\n",
      "False negatives:  332\n",
      "True positives:  1\n",
      "False positives:  0\n",
      "\n",
      "Using C =  0.4  : \n",
      "True negatives:  3160\n",
      "False negatives:  332\n",
      "True positives:  1\n",
      "False positives:  0\n",
      "\n",
      "Using C =  0.3  : \n",
      "True negatives:  3160\n",
      "False negatives:  332\n",
      "True positives:  1\n",
      "False positives:  0\n",
      "\n",
      "Using C =  0.2  : \n",
      "True negatives:  3160\n",
      "False negatives:  332\n",
      "True positives:  1\n",
      "False positives:  0\n",
      "\n",
      "Using C =  0.1  : \n",
      "True negatives:  3160\n",
      "False negatives:  332\n",
      "True positives:  1\n",
      "False positives:  0\n",
      "\n",
      "Using C =  0.05  : \n",
      "True negatives:  3160\n",
      "False negatives:  333\n",
      "True positives:  0\n",
      "False positives:  0\n",
      "\n",
      "Using C =  0.01  : \n",
      "True negatives:  3160\n",
      "False negatives:  333\n",
      "True positives:  0\n",
      "False positives:  0\n",
      "\n"
     ]
    }
   ],
   "source": [
    "# YOUR CODE HERE\n",
    "from sklearn.linear_model import LogisticRegression\n",
    "from sklearn.metrics import confusion_matrix\n",
    "\n",
    "regparams = [1, 0.8, 0.7, 0.6, 0.5, 0.4, 0.3, 0.2, 0.1, 0.05, 0.01]\n",
    "\n",
    "for const in regparams:\n",
    "    print(\"Using C = \", const, \" : \")\n",
    "    log = LogisticRegression(random_state = 0, C = const, max_iter = 1000, solver = 'liblinear')\n",
    "    log.fit(X_train_scaled, y_train)\n",
    "    predictions = log.predict(X_train_scaled)\n",
    "\n",
    "    conf = confusion_matrix(y_train, predictions)\n",
    "    print(\"True negatives: \", conf[0][0])\n",
    "    print(\"False negatives: \", conf[1][0])\n",
    "    print(\"True positives: \", conf[1][1])\n",
    "    print(\"False positives: \", conf[0][1])\n",
    "    print(\"\")\n"
   ]
  },
  {
   "cell_type": "markdown",
   "metadata": {
    "deletable": false,
    "editable": false,
    "id": "KNigDLF2JF0O",
    "nbgrader": {
     "checksum": "0d74b83486a9bcdcbdf539376bd56e52",
     "grade": false,
     "grade_id": "cell-f57d340c8ac3f3b6",
     "locked": true,
     "schema_version": 1,
     "solution": false
    }
   },
   "source": [
    "* Explain what you observe regarding the positive class; i.e. the performance of the algorithm in predicting defaults. Explain why is this happening."
   ]
  },
  {
   "cell_type": "markdown",
   "metadata": {
    "deletable": false,
    "id": "NjRu6n9kJF0O",
    "nbgrader": {
     "checksum": "106a108640959c5f8b9523216dfc1ca2",
     "grade": true,
     "grade_id": "cell-75527f6a11293f5c",
     "locked": false,
     "points": 0.5,
     "schema_version": 1,
     "solution": true
    }
   },
   "source": [
    "<span style=\"color:blue\">The algorithm almost exclusively predicts negative classes. The negative class is far more frequent in the dataset (415 positive class cases, and 3952 negative class cases) which causes the logistic model to favour predicting a negative class far more frequently. </span>"
   ]
  },
  {
   "cell_type": "markdown",
   "metadata": {
    "deletable": false,
    "editable": false,
    "id": "MZUnFZUxJF0O",
    "nbgrader": {
     "checksum": "847a1e00ad9d4316b9512efe1a66df26",
     "grade": false,
     "grade_id": "cell-f1d84ada7bb6859e",
     "locked": true,
     "schema_version": 1,
     "solution": false
    }
   },
   "source": [
    "There are a number of ways to fix the problem you have observed above. Here we will consider two of them: downsampling and upsampling. In an ideal situation you will like your dataset to be balanced, i.e. to have the same number of instances for the positive and the negative class.\n",
    "\n",
    "**Downsampling**: Let's assume that the positive class has *n1* instances, while the negative class *n2* instances, where *n2* is much bigger than *n1*. One solution is to create a new training set for which from the *n2* instances of the negative class you sample *n1* of them only to include in your training set; hence now you have *n1* + *n1* training instances.\n",
    "\n",
    "**Upsampling**: Let's assume that the positive class has *n1* instances, while the negative class *n2* instances, where *n2* is much bigger than *n1*. Another solution is to create a new training set for which you create  *n2* instances of the positive class. To do so you sample *n2* instances from the *n1* instance, with replacement. With replacement means that you allow the same instance to be sampled multiple times; hence now you have *n2* + *n2* training instances."
   ]
  },
  {
   "cell_type": "markdown",
   "metadata": {
    "deletable": false,
    "editable": false,
    "id": "otj4Qm3MJF0O"
   },
   "source": [
    "#### Downsampling (OPTIONAL – If you wish to skip downsampling continue to Neural Networks further below)\n"
   ]
  },
  {
   "cell_type": "markdown",
   "metadata": {
    "deletable": false,
    "editable": false,
    "id": "_sDkkIcUJF0O",
    "nbgrader": {
     "checksum": "ea6ec4f362d483b9439040f12d09b46a",
     "grade": false,
     "grade_id": "cell-59aa6ae849b90374",
     "locked": true,
     "schema_version": 1,
     "solution": false
    }
   },
   "source": [
    "* Implement a function for downsampling (**optional**)"
   ]
  },
  {
   "cell_type": "code",
   "execution_count": 13,
   "metadata": {
    "deletable": false,
    "id": "7L6yUCajJF0P",
    "nbgrader": {
     "checksum": "005c2fee650b5518f0d377e26d46615d",
     "grade": true,
     "grade_id": "cell-f111bc027ec54669",
     "locked": false,
     "points": 0,
     "schema_version": 1,
     "solution": true
    },
    "pycharm": {
     "is_executing": false
    }
   },
   "outputs": [
    {
     "name": "stdout",
     "output_type": "stream",
     "text": [
      "3493\n",
      "666\n",
      "3493\n",
      "666\n",
      "333 333\n"
     ]
    }
   ],
   "source": [
    "import random\n",
    "\n",
    "def downsample(y_train):\n",
    "    # y_train is the 1d matrix of the labels in your training data, e.g.\n",
    "    #       0     1     2     3     4   5     6     7     8   ... \n",
    "    # y = [True False False False True True False False False ... False]\n",
    "    #\n",
    "    # the function returns the position of the training data to be considered for the final training set.\n",
    "    # e.g. if you decide from the True instances to select 0, 4 and 5, while from the False instances 1, 3, and 8\n",
    "    # the outcome of the function will be [0, 1, 3, 4, 5, 8] (= sampled_indexes)\n",
    "    \n",
    "    positive_indexes = []\n",
    "    negative_indexes = []\n",
    "    \n",
    "    for i in range(0, len(y_train)):\n",
    "        if y_train[i] == True:\n",
    "            positive_indexes.append(i)\n",
    "        elif y_train[i] == False:\n",
    "            negative_indexes.append(i)\n",
    "         \n",
    "    if len(positive_indexes) > len(negative_indexes):\n",
    "        positive_indexes = random.sample(positive_indexes, len(negative_indexes))\n",
    "    elif len(negative_indexes) > len(positive_indexes):\n",
    "        negative_indexes = random.sample(negative_indexes, len(positive_indexes))\n",
    "        \n",
    "    sampled_indexes = sorted(positive_indexes + negative_indexes)\n",
    "\n",
    "    return sampled_indexes\n",
    "\n",
    "sampled_indexes = downsample(y_train)\n",
    "\n",
    "    \n",
    "def new_training_set(X_train, y_train, sampled_indexes):\n",
    "    new_X = []\n",
    "    new_y = []\n",
    "    \n",
    "    for index in sampled_indexes:\n",
    "        new_X.append(list(X_train[index]))\n",
    "        new_y.append(y_train[index])\n",
    "        \n",
    "    return new_X, new_y\n",
    "\n",
    "downsampled_X_train, downsampled_y_train = new_training_set(X_train_scaled, y_train, sampled_indexes)\n",
    "\n",
    "\n",
    "print(len(X_train_scaled))\n",
    "print(len(downsampled_X_train))\n",
    "print(len(y_train))\n",
    "print(len(downsampled_y_train))\n",
    "\n",
    "# Count the amount of positive and negative classes in the downsampled y_train dataset to show the downsampling\n",
    "# executed successfully.\n",
    "pos = 0\n",
    "neg = 0\n",
    "for item in downsampled_y_train:\n",
    "    if item == True:\n",
    "        pos += 1\n",
    "    elif item == False:\n",
    "        neg += 1\n",
    "        \n",
    "print(pos, neg)\n"
   ]
  },
  {
   "cell_type": "markdown",
   "metadata": {
    "deletable": false,
    "editable": false,
    "id": "akjEu_5-JF0P",
    "nbgrader": {
     "checksum": "7acfd4fa50b0ce7567f3622b8df52dc9",
     "grade": false,
     "grade_id": "cell-0489481a9fc804d9",
     "locked": true,
     "schema_version": 1,
     "solution": false
    }
   },
   "source": [
    "* Test the performance of logistic regression using the new training set, and report your conclusions (**optional**)"
   ]
  },
  {
   "cell_type": "code",
   "execution_count": 14,
   "metadata": {
    "deletable": false,
    "id": "gYWgW2LOJF0P",
    "nbgrader": {
     "checksum": "8ef852228cb6d7212a28012d7e335ad1",
     "grade": true,
     "grade_id": "cell-cd7143b6e088d522",
     "locked": false,
     "points": 0,
     "schema_version": 1,
     "solution": true
    },
    "pycharm": {
     "is_executing": false
    }
   },
   "outputs": [
    {
     "name": "stdout",
     "output_type": "stream",
     "text": [
      "  regularization C    Accuracy    Recall    Precision    F1 score\n",
      "------------------  ----------  --------  -----------  ----------\n",
      "            1e-05       0.3719    0.4024       0.4855      0.4401\n",
      "            0.0001      0.365     0.4234       0.4764      0.4483\n",
      "            0.001       0.381     0.4745       0.5         0.4869\n",
      "            0.01        0.3856    0.4775       0.5064      0.4915\n",
      "            0.05        0.3822    0.4535       0.5017      0.4763\n",
      "            0.1         0.3822    0.4565       0.5017      0.478\n",
      "            0.2         0.3787    0.4505       0.4967      0.4724\n",
      "            0.3         0.3833    0.4535       0.5033      0.4771\n",
      "            0.5         0.3856    0.4595       0.5066      0.4819\n",
      "            0.8         0.3856    0.4625       0.5066      0.4835\n",
      "            1           0.3856    0.4565       0.5067      0.4803\n",
      "            5           0.3799    0.4414       0.4983      0.4682\n",
      "           10           0.3867    0.4655       0.5082      0.4859\n",
      "          100           0.3902    0.4745       0.513       0.493\n",
      "         1000           0.3822    0.4655       0.5016      0.4829\n",
      "        10000           0.3696    0.4444       0.4837      0.4632\n"
     ]
    }
   ],
   "source": [
    "# regparams = [1, 0.8, 0.7, 0.6, 0.5, 0.4, 0.3, 0.2, 0.1, 0.05, 0.01]\n",
    "# regparams = [100000, 10000, 1000, 100, 10, 5, 1, 0.8, 0.6, 0.4, 0.2, 0.1, 0.05, 0.01, 0.001, 0.0001, 0.00001]\n",
    "regparams = [0.00001, 0.0001, 0.001, 0.01, 0.05, 0.1, 0.2, 0.3, 0.5, 0.8, 1, 5, 10, 100, 1000, 10000]\n",
    "\n",
    "results = []\n",
    "\n",
    "for const in regparams:\n",
    "    log = LogisticRegression(random_state = 0, C = const, solver = 'liblinear')\n",
    "    log.fit(downsampled_X_train, downsampled_y_train)\n",
    "    predictions = log.predict(X_test_scaled)\n",
    "\n",
    "    acc = round(accuracy(downsampled_y_train, predictions), 4)\n",
    "    rec = round(recall(downsampled_y_train, predictions), 4)\n",
    "    prec = round(precision(downsampled_y_train, predictions), 4)\n",
    "    f1s = round(f1(downsampled_y_train, predictions), 4)\n",
    "#     print(acc, rec, prec, f1s)\n",
    "\n",
    "    tablerow = (const, acc, rec, prec, f1s)\n",
    "    results.append(tablerow)\n",
    "        \n",
    "print(tabulate(results, headers=[\"regularization C\", \"Accuracy\", \"Recall\", \"Precision\", \"F1 score\"]))\n",
    "    "
   ]
  },
  {
   "cell_type": "markdown",
   "metadata": {},
   "source": [
    "<span style=\"color:blue\">The downsampled results show the model still scores rather poorly for predictions, \n",
    "but significantly better than the model with a non-downsampled training set.\n",
    "We would like to add that the results still prioritized just a single classification, until we added scaling to\n",
    "the X set.\n",
    "The optimal configuration seems to be with regularization C = 0.001\n",
    "</span>"
   ]
  },
  {
   "cell_type": "markdown",
   "metadata": {
    "id": "WT1gcqt_JF0P"
   },
   "source": [
    "# The last few questions below are not optional!\n",
    "If you did not finish the optional downsampling, just go through with the data created before"
   ]
  },
  {
   "cell_type": "markdown",
   "metadata": {
    "deletable": false,
    "editable": false,
    "id": "YI7doqzLJF0P",
    "nbgrader": {
     "checksum": "fdac93da6191896d74c7346d2e875a84",
     "grade": false,
     "grade_id": "cell-4dc578274728380b",
     "locked": true,
     "schema_version": 1,
     "solution": false
    }
   },
   "source": [
    "##### Neural Network (2pts)\n",
    "\n",
    "+ Train and test a Neural Network model\n",
    "    + Construct a table with each row being a different configuration of the network (play with the number of hidden layers, the number of neurons in each layer, and the activation function) and each column the evaluation measures\n",
    "    + Report the performance of at least three different configurations\n",
    "    + Explain your findings and select the optimal model\n",
    "    + Justify your choice of different paramteres and architectures\n",
    "    + Report the performance of the optimal model"
   ]
  },
  {
   "cell_type": "code",
   "execution_count": 15,
   "metadata": {
    "deletable": false,
    "id": "Ac5mNYD3JF0P",
    "nbgrader": {
     "checksum": "167eed2eaafde3d4951aef9059e06a58",
     "grade": true,
     "grade_id": "cell-c6f93c6c6f633c47",
     "locked": false,
     "points": 1.5,
     "schema_version": 1,
     "solution": true
    },
    "pycharm": {
     "is_executing": false
    }
   },
   "outputs": [],
   "source": [
    "from sklearn.neural_network import MLPClassifier  \n",
    "from sklearn.preprocessing import StandardScaler\n",
    "from tabulate import tabulate\n",
    "import matplotlib as mpl\n",
    "import matplotlib.pyplot as plt\n",
    "from matplotlib.colors import ListedColormap, colorConverter, LinearSegmentedColormap\n",
    "from sklearn.metrics import accuracy_score, precision_score, recall_score, precision_recall_curve, f1_score"
   ]
  },
  {
   "cell_type": "code",
   "execution_count": 16,
   "metadata": {},
   "outputs": [
    {
     "name": "stderr",
     "output_type": "stream",
     "text": [
      "D:\\Anaconda\\lib\\site-packages\\sklearn\\neural_network\\_multilayer_perceptron.py:571: ConvergenceWarning: Stochastic Optimizer: Maximum iterations (200) reached and the optimization hasn't converged yet.\n",
      "  % self.max_iter, ConvergenceWarning)\n",
      "D:\\Anaconda\\lib\\site-packages\\sklearn\\metrics\\_classification.py:1272: UndefinedMetricWarning: Precision is ill-defined and being set to 0.0 due to no predicted samples. Use `zero_division` parameter to control this behavior.\n",
      "  _warn_prf(average, modifier, msg_start, len(result))\n",
      "D:\\Anaconda\\lib\\site-packages\\sklearn\\neural_network\\_multilayer_perceptron.py:571: ConvergenceWarning: Stochastic Optimizer: Maximum iterations (200) reached and the optimization hasn't converged yet.\n",
      "  % self.max_iter, ConvergenceWarning)\n",
      "D:\\Anaconda\\lib\\site-packages\\sklearn\\neural_network\\_multilayer_perceptron.py:571: ConvergenceWarning: Stochastic Optimizer: Maximum iterations (200) reached and the optimization hasn't converged yet.\n",
      "  % self.max_iter, ConvergenceWarning)\n",
      "D:\\Anaconda\\lib\\site-packages\\sklearn\\neural_network\\_multilayer_perceptron.py:571: ConvergenceWarning: Stochastic Optimizer: Maximum iterations (200) reached and the optimization hasn't converged yet.\n",
      "  % self.max_iter, ConvergenceWarning)\n",
      "D:\\Anaconda\\lib\\site-packages\\sklearn\\neural_network\\_multilayer_perceptron.py:571: ConvergenceWarning: Stochastic Optimizer: Maximum iterations (200) reached and the optimization hasn't converged yet.\n",
      "  % self.max_iter, ConvergenceWarning)\n",
      "D:\\Anaconda\\lib\\site-packages\\sklearn\\neural_network\\_multilayer_perceptron.py:571: ConvergenceWarning: Stochastic Optimizer: Maximum iterations (200) reached and the optimization hasn't converged yet.\n",
      "  % self.max_iter, ConvergenceWarning)\n",
      "D:\\Anaconda\\lib\\site-packages\\sklearn\\neural_network\\_multilayer_perceptron.py:571: ConvergenceWarning: Stochastic Optimizer: Maximum iterations (200) reached and the optimization hasn't converged yet.\n",
      "  % self.max_iter, ConvergenceWarning)\n",
      "D:\\Anaconda\\lib\\site-packages\\sklearn\\metrics\\_classification.py:1272: UndefinedMetricWarning: Precision is ill-defined and being set to 0.0 due to no predicted samples. Use `zero_division` parameter to control this behavior.\n",
      "  _warn_prf(average, modifier, msg_start, len(result))\n",
      "D:\\Anaconda\\lib\\site-packages\\sklearn\\neural_network\\_multilayer_perceptron.py:571: ConvergenceWarning: Stochastic Optimizer: Maximum iterations (200) reached and the optimization hasn't converged yet.\n",
      "  % self.max_iter, ConvergenceWarning)\n",
      "D:\\Anaconda\\lib\\site-packages\\sklearn\\neural_network\\_multilayer_perceptron.py:571: ConvergenceWarning: Stochastic Optimizer: Maximum iterations (200) reached and the optimization hasn't converged yet.\n",
      "  % self.max_iter, ConvergenceWarning)\n",
      "D:\\Anaconda\\lib\\site-packages\\sklearn\\neural_network\\_multilayer_perceptron.py:571: ConvergenceWarning: Stochastic Optimizer: Maximum iterations (200) reached and the optimization hasn't converged yet.\n",
      "  % self.max_iter, ConvergenceWarning)\n",
      "D:\\Anaconda\\lib\\site-packages\\sklearn\\neural_network\\_multilayer_perceptron.py:571: ConvergenceWarning: Stochastic Optimizer: Maximum iterations (200) reached and the optimization hasn't converged yet.\n",
      "  % self.max_iter, ConvergenceWarning)\n",
      "D:\\Anaconda\\lib\\site-packages\\sklearn\\metrics\\_classification.py:1272: UndefinedMetricWarning: Precision is ill-defined and being set to 0.0 due to no predicted samples. Use `zero_division` parameter to control this behavior.\n",
      "  _warn_prf(average, modifier, msg_start, len(result))\n",
      "D:\\Anaconda\\lib\\site-packages\\sklearn\\neural_network\\_multilayer_perceptron.py:571: ConvergenceWarning: Stochastic Optimizer: Maximum iterations (200) reached and the optimization hasn't converged yet.\n",
      "  % self.max_iter, ConvergenceWarning)\n",
      "D:\\Anaconda\\lib\\site-packages\\sklearn\\neural_network\\_multilayer_perceptron.py:571: ConvergenceWarning: Stochastic Optimizer: Maximum iterations (200) reached and the optimization hasn't converged yet.\n",
      "  % self.max_iter, ConvergenceWarning)\n",
      "D:\\Anaconda\\lib\\site-packages\\sklearn\\metrics\\_classification.py:1272: UndefinedMetricWarning: Precision is ill-defined and being set to 0.0 due to no predicted samples. Use `zero_division` parameter to control this behavior.\n",
      "  _warn_prf(average, modifier, msg_start, len(result))\n",
      "D:\\Anaconda\\lib\\site-packages\\sklearn\\neural_network\\_multilayer_perceptron.py:571: ConvergenceWarning: Stochastic Optimizer: Maximum iterations (200) reached and the optimization hasn't converged yet.\n",
      "  % self.max_iter, ConvergenceWarning)\n",
      "D:\\Anaconda\\lib\\site-packages\\sklearn\\neural_network\\_multilayer_perceptron.py:571: ConvergenceWarning: Stochastic Optimizer: Maximum iterations (200) reached and the optimization hasn't converged yet.\n",
      "  % self.max_iter, ConvergenceWarning)\n",
      "D:\\Anaconda\\lib\\site-packages\\sklearn\\metrics\\_classification.py:1272: UndefinedMetricWarning: Precision is ill-defined and being set to 0.0 due to no predicted samples. Use `zero_division` parameter to control this behavior.\n",
      "  _warn_prf(average, modifier, msg_start, len(result))\n",
      "D:\\Anaconda\\lib\\site-packages\\sklearn\\neural_network\\_multilayer_perceptron.py:571: ConvergenceWarning: Stochastic Optimizer: Maximum iterations (200) reached and the optimization hasn't converged yet.\n",
      "  % self.max_iter, ConvergenceWarning)\n",
      "D:\\Anaconda\\lib\\site-packages\\sklearn\\neural_network\\_multilayer_perceptron.py:571: ConvergenceWarning: Stochastic Optimizer: Maximum iterations (200) reached and the optimization hasn't converged yet.\n",
      "  % self.max_iter, ConvergenceWarning)\n",
      "D:\\Anaconda\\lib\\site-packages\\sklearn\\neural_network\\_multilayer_perceptron.py:571: ConvergenceWarning: Stochastic Optimizer: Maximum iterations (200) reached and the optimization hasn't converged yet.\n",
      "  % self.max_iter, ConvergenceWarning)\n",
      "D:\\Anaconda\\lib\\site-packages\\sklearn\\neural_network\\_multilayer_perceptron.py:571: ConvergenceWarning: Stochastic Optimizer: Maximum iterations (200) reached and the optimization hasn't converged yet.\n",
      "  % self.max_iter, ConvergenceWarning)\n",
      "D:\\Anaconda\\lib\\site-packages\\sklearn\\neural_network\\_multilayer_perceptron.py:571: ConvergenceWarning: Stochastic Optimizer: Maximum iterations (200) reached and the optimization hasn't converged yet.\n",
      "  % self.max_iter, ConvergenceWarning)\n",
      "D:\\Anaconda\\lib\\site-packages\\sklearn\\metrics\\_classification.py:1272: UndefinedMetricWarning: Precision is ill-defined and being set to 0.0 due to no predicted samples. Use `zero_division` parameter to control this behavior.\n",
      "  _warn_prf(average, modifier, msg_start, len(result))\n",
      "D:\\Anaconda\\lib\\site-packages\\sklearn\\neural_network\\_multilayer_perceptron.py:571: ConvergenceWarning: Stochastic Optimizer: Maximum iterations (200) reached and the optimization hasn't converged yet.\n",
      "  % self.max_iter, ConvergenceWarning)\n",
      "D:\\Anaconda\\lib\\site-packages\\sklearn\\metrics\\_classification.py:1272: UndefinedMetricWarning: Precision is ill-defined and being set to 0.0 due to no predicted samples. Use `zero_division` parameter to control this behavior.\n",
      "  _warn_prf(average, modifier, msg_start, len(result))\n",
      "D:\\Anaconda\\lib\\site-packages\\sklearn\\neural_network\\_multilayer_perceptron.py:571: ConvergenceWarning: Stochastic Optimizer: Maximum iterations (200) reached and the optimization hasn't converged yet.\n",
      "  % self.max_iter, ConvergenceWarning)\n",
      "D:\\Anaconda\\lib\\site-packages\\sklearn\\neural_network\\_multilayer_perceptron.py:571: ConvergenceWarning: Stochastic Optimizer: Maximum iterations (200) reached and the optimization hasn't converged yet.\n",
      "  % self.max_iter, ConvergenceWarning)\n",
      "D:\\Anaconda\\lib\\site-packages\\sklearn\\neural_network\\_multilayer_perceptron.py:571: ConvergenceWarning: Stochastic Optimizer: Maximum iterations (200) reached and the optimization hasn't converged yet.\n",
      "  % self.max_iter, ConvergenceWarning)\n",
      "D:\\Anaconda\\lib\\site-packages\\sklearn\\neural_network\\_multilayer_perceptron.py:571: ConvergenceWarning: Stochastic Optimizer: Maximum iterations (200) reached and the optimization hasn't converged yet.\n",
      "  % self.max_iter, ConvergenceWarning)\n",
      "D:\\Anaconda\\lib\\site-packages\\sklearn\\neural_network\\_multilayer_perceptron.py:571: ConvergenceWarning: Stochastic Optimizer: Maximum iterations (200) reached and the optimization hasn't converged yet.\n",
      "  % self.max_iter, ConvergenceWarning)\n",
      "D:\\Anaconda\\lib\\site-packages\\sklearn\\neural_network\\_multilayer_perceptron.py:571: ConvergenceWarning: Stochastic Optimizer: Maximum iterations (200) reached and the optimization hasn't converged yet.\n",
      "  % self.max_iter, ConvergenceWarning)\n",
      "D:\\Anaconda\\lib\\site-packages\\sklearn\\neural_network\\_multilayer_perceptron.py:571: ConvergenceWarning: Stochastic Optimizer: Maximum iterations (200) reached and the optimization hasn't converged yet.\n",
      "  % self.max_iter, ConvergenceWarning)\n",
      "D:\\Anaconda\\lib\\site-packages\\sklearn\\neural_network\\_multilayer_perceptron.py:571: ConvergenceWarning: Stochastic Optimizer: Maximum iterations (200) reached and the optimization hasn't converged yet.\n",
      "  % self.max_iter, ConvergenceWarning)\n",
      "D:\\Anaconda\\lib\\site-packages\\sklearn\\neural_network\\_multilayer_perceptron.py:571: ConvergenceWarning: Stochastic Optimizer: Maximum iterations (200) reached and the optimization hasn't converged yet.\n",
      "  % self.max_iter, ConvergenceWarning)\n"
     ]
    },
    {
     "name": "stdout",
     "output_type": "stream",
     "text": [
      "╒═════════════════════════════════════╤════════════╤═════════════╤══════════╤══════════╕\n",
      "│ Configuration                       │   Accuracy │   precision │   recall │       f1 │\n",
      "╞═════════════════════════════════════╪════════════╪═════════════╪══════════╪══════════╡\n",
      "│ l:4, n:(4, 3, 2, 1), logistic       │  0.906178  │   0         │ 0        │ 0        │\n",
      "├─────────────────────────────────────┼────────────┼─────────────┼──────────┼──────────┤\n",
      "│ l:4, n:(4, 3, 2, 1), relu           │  0.566362  │   0.122137  │ 0.585366 │ 0.202105 │\n",
      "├─────────────────────────────────────┼────────────┼─────────────┼──────────┼──────────┤\n",
      "│ l:4, n:(4, 3, 2, 1), tanh           │  0.62357   │   0.095082  │ 0.353659 │ 0.149871 │\n",
      "├─────────────────────────────────────┼────────────┼─────────────┼──────────┼──────────┤\n",
      "│ l:4, n:(10, 5, 2, 1), logistic      │  0.0938215 │   0.0938215 │ 1        │ 0.171548 │\n",
      "├─────────────────────────────────────┼────────────┼─────────────┼──────────┼──────────┤\n",
      "│ l:4, n:(10, 5, 2, 1), relu          │  0.394737  │   0.108581  │ 0.756098 │ 0.189893 │\n",
      "├─────────────────────────────────────┼────────────┼─────────────┼──────────┼──────────┤\n",
      "│ l:4, n:(10, 5, 2, 1), tanh          │  0.622426  │   0.121951  │ 0.487805 │ 0.195122 │\n",
      "├─────────────────────────────────────┼────────────┼─────────────┼──────────┼──────────┤\n",
      "│ l:4, n:(50, 25, 10, 1), logistic    │  0.602975  │   0.122507  │ 0.52439  │ 0.198614 │\n",
      "├─────────────────────────────────────┼────────────┼─────────────┼──────────┼──────────┤\n",
      "│ l:4, n:(50, 25, 10, 1), relu        │  0.906178  │   0         │ 0        │ 0        │\n",
      "├─────────────────────────────────────┼────────────┼─────────────┼──────────┼──────────┤\n",
      "│ l:4, n:(50, 25, 10, 1), tanh        │  0.656751  │   0.110714  │ 0.378049 │ 0.171271 │\n",
      "├─────────────────────────────────────┼────────────┼─────────────┼──────────┼──────────┤\n",
      "│ l:4, n:(5, 8, 3, 4), logistic       │  0.0938215 │   0.0938215 │ 1        │ 0.171548 │\n",
      "├─────────────────────────────────────┼────────────┼─────────────┼──────────┼──────────┤\n",
      "│ l:4, n:(5, 8, 3, 4), relu           │  0.590389  │   0.120879  │ 0.536585 │ 0.197309 │\n",
      "├─────────────────────────────────────┼────────────┼─────────────┼──────────┼──────────┤\n",
      "│ l:4, n:(5, 8, 3, 4), tanh           │  0.450801  │   0.102     │ 0.621951 │ 0.175258 │\n",
      "├─────────────────────────────────────┼────────────┼─────────────┼──────────┼──────────┤\n",
      "│ l:4, n:(1, 10, 100, 1), logistic    │  0.0938215 │   0.0938215 │ 1        │ 0.171548 │\n",
      "├─────────────────────────────────────┼────────────┼─────────────┼──────────┼──────────┤\n",
      "│ l:4, n:(1, 10, 100, 1), relu        │  0.657895  │   0.077821  │ 0.243902 │ 0.117994 │\n",
      "├─────────────────────────────────────┼────────────┼─────────────┼──────────┼──────────┤\n",
      "│ l:4, n:(1, 10, 100, 1), tanh        │  0.545767  │   0.109181  │ 0.536585 │ 0.181443 │\n",
      "├─────────────────────────────────────┼────────────┼─────────────┼──────────┼──────────┤\n",
      "│ l:4, n:(10, 100, 1000, 1), logistic │  0.906178  │   0         │ 0        │ 0        │\n",
      "├─────────────────────────────────────┼────────────┼─────────────┼──────────┼──────────┤\n",
      "│ l:4, n:(10, 100, 1000, 1), relu     │  0.0938215 │   0.0938215 │ 1        │ 0.171548 │\n",
      "├─────────────────────────────────────┼────────────┼─────────────┼──────────┼──────────┤\n",
      "│ l:4, n:(10, 100, 1000, 1), tanh     │  0.786041  │   0.132867  │ 0.231707 │ 0.168889 │\n",
      "├─────────────────────────────────────┼────────────┼─────────────┼──────────┼──────────┤\n",
      "│ l:4, n:(1000, 10, 100, 4), logistic │  0.0938215 │   0.0938215 │ 1        │ 0.171548 │\n",
      "├─────────────────────────────────────┼────────────┼─────────────┼──────────┼──────────┤\n",
      "│ l:4, n:(1000, 10, 100, 4), relu     │  0.44508   │   0.104126  │ 0.646341 │ 0.179357 │\n",
      "├─────────────────────────────────────┼────────────┼─────────────┼──────────┼──────────┤\n",
      "│ l:4, n:(1000, 10, 100, 4), tanh     │  0.480549  │   0.0866667 │ 0.47561  │ 0.146617 │\n",
      "├─────────────────────────────────────┼────────────┼─────────────┼──────────┼──────────┤\n",
      "│ l:4, n:(1000, 100, 10, 2), logistic │  0.906178  │   0         │ 0        │ 0        │\n",
      "├─────────────────────────────────────┼────────────┼─────────────┼──────────┼──────────┤\n",
      "│ l:4, n:(1000, 100, 10, 2), relu     │  0.525172  │   0.0987952 │ 0.5      │ 0.16499  │\n",
      "├─────────────────────────────────────┼────────────┼─────────────┼──────────┼──────────┤\n",
      "│ l:4, n:(1000, 100, 10, 2), tanh     │  0.544622  │   0.10101   │ 0.487805 │ 0.167364 │\n",
      "├─────────────────────────────────────┼────────────┼─────────────┼──────────┼──────────┤\n",
      "│ l:3, n:(5, 2, 1), logistic          │  0.0938215 │   0.0938215 │ 1        │ 0.171548 │\n",
      "├─────────────────────────────────────┼────────────┼─────────────┼──────────┼──────────┤\n",
      "│ l:3, n:(5, 2, 1), relu              │  0.906178  │   0         │ 0        │ 0        │\n",
      "├─────────────────────────────────────┼────────────┼─────────────┼──────────┼──────────┤\n",
      "│ l:3, n:(5, 2, 1), tanh              │  0.608696  │   0.110778  │ 0.45122  │ 0.177885 │\n",
      "├─────────────────────────────────────┼────────────┼─────────────┼──────────┼──────────┤\n",
      "│ l:3, n:(20, 10, 1), logistic        │  0.543478  │   0.114355  │ 0.573171 │ 0.190669 │\n",
      "├─────────────────────────────────────┼────────────┼─────────────┼──────────┼──────────┤\n",
      "│ l:3, n:(20, 10, 1), relu            │  0.561785  │   0.0965147 │ 0.439024 │ 0.158242 │\n",
      "├─────────────────────────────────────┼────────────┼─────────────┼──────────┼──────────┤\n",
      "│ l:3, n:(20, 10, 1), tanh            │  0.5       │   0.0900693 │ 0.47561  │ 0.151456 │\n",
      "├─────────────────────────────────────┼────────────┼─────────────┼──────────┼──────────┤\n",
      "│ l:3, n:(50, 25, 1), logistic        │  0.906178  │   0         │ 0        │ 0        │\n",
      "├─────────────────────────────────────┼────────────┼─────────────┼──────────┼──────────┤\n",
      "│ l:3, n:(50, 25, 1), relu            │  0.906178  │   0         │ 0        │ 0        │\n",
      "├─────────────────────────────────────┼────────────┼─────────────┼──────────┼──────────┤\n",
      "│ l:3, n:(50, 25, 1), tanh            │  0.627002  │   0.0960265 │ 0.353659 │ 0.151042 │\n",
      "├─────────────────────────────────────┼────────────┼─────────────┼──────────┼──────────┤\n",
      "│ l:2, n:(5, 1), logistic             │  0.0938215 │   0.0938215 │ 1        │ 0.171548 │\n",
      "├─────────────────────────────────────┼────────────┼─────────────┼──────────┼──────────┤\n",
      "│ l:2, n:(5, 1), relu                 │  0.0938215 │   0.0938215 │ 1        │ 0.171548 │\n",
      "├─────────────────────────────────────┼────────────┼─────────────┼──────────┼──────────┤\n",
      "│ l:2, n:(5, 1), tanh                 │  0.542334  │   0.115942  │ 0.585366 │ 0.193548 │\n",
      "├─────────────────────────────────────┼────────────┼─────────────┼──────────┼──────────┤\n",
      "│ l:2, n:(10, 5), logistic            │  0.561785  │   0.117048  │ 0.560976 │ 0.193684 │\n",
      "├─────────────────────────────────────┼────────────┼─────────────┼──────────┼──────────┤\n",
      "│ l:2, n:(10, 5), relu                │  0.532037  │   0.0962963 │ 0.47561  │ 0.160164 │\n",
      "├─────────────────────────────────────┼────────────┼─────────────┼──────────┼──────────┤\n",
      "│ l:2, n:(10, 5), tanh                │  0.501144  │   0.0785714 │ 0.402439 │ 0.131474 │\n",
      "├─────────────────────────────────────┼────────────┼─────────────┼──────────┼──────────┤\n",
      "│ l:2, n:(100, 10), logistic          │  0.514874  │   0.107798  │ 0.573171 │ 0.181467 │\n",
      "├─────────────────────────────────────┼────────────┼─────────────┼──────────┼──────────┤\n",
      "│ l:2, n:(100, 10), relu              │  0.520595  │   0.103529  │ 0.536585 │ 0.17357  │\n",
      "├─────────────────────────────────────┼────────────┼─────────────┼──────────┼──────────┤\n",
      "│ l:2, n:(100, 10), tanh              │  0.55492   │   0.101299  │ 0.47561  │ 0.167024 │\n",
      "╘═════════════════════════════════════╧════════════╧═════════════╧══════════╧══════════╛\n"
     ]
    },
    {
     "name": "stderr",
     "output_type": "stream",
     "text": [
      "D:\\Anaconda\\lib\\site-packages\\sklearn\\neural_network\\_multilayer_perceptron.py:571: ConvergenceWarning: Stochastic Optimizer: Maximum iterations (200) reached and the optimization hasn't converged yet.\n",
      "  % self.max_iter, ConvergenceWarning)\n"
     ]
    }
   ],
   "source": [
    "# self imagined layers with different neuron combinations\n",
    "layers = [(4,3,2,1), (10,5,2,1), (50,25,10,1), (5,8,3,4), (1,10,100,1), (10,100,1000,1), (1000,10,100,4), (1000,100,10,2), (5,2,1), (20,10,1), (50,25,1), (5,1), (10,5), (100,10)]\n",
    "act = ['logistic', 'relu', 'tanh']\n",
    "\n",
    "table = []\n",
    "\n",
    "for x in range(len(layers)):\n",
    "    for y in range(len(act)):\n",
    "        mlp = MLPClassifier(hidden_layer_sizes=layers[x], activation=act[y])\n",
    "        mlp.fit(downsampled_X_train, downsampled_y_train)\n",
    "    \n",
    "        table.append([\"l:\"+str(len(layers[x]))+\", \"+\"n:\"+str(layers[x])+\", \"+act[y], accuracy_score(y_test, mlp.predict(X_test_scaled), normalize=True), \n",
    "          precision_score(y_test, mlp.predict(X_test_scaled)),\n",
    "         recall_score(y_test, mlp.predict(X_test_scaled)),\n",
    "                     f1_score(y_test, mlp.predict(X_test_scaled))])\n",
    "\n",
    "print(tabulate(table, headers=[\"Configuration\",\"Accuracy\",'precision','recall','f1'], tablefmt=\"fancy_grid\"))\n"
   ]
  },
  {
   "cell_type": "markdown",
   "metadata": {
    "deletable": false,
    "id": "hte-UpsCJF0Q",
    "nbgrader": {
     "checksum": "2412fc015a280623635f3bf03e3fde9e",
     "grade": true,
     "grade_id": "cell-b4ae750d1154f837",
     "locked": false,
     "points": 0.5,
     "schema_version": 1,
     "solution": true
    }
   },
   "source": [
    "<span style=\"color:blue\"><span style=\"color:blue\">We will take a look at the following neural networks: (4 Layers, Neurons: 1000,10,100,4, activation = relu), ( 4 layers, neurons: 1,10,100,1, activation = tanh) and (2 layers, neurons = 5,1, activation = logistic)\\\n",
    "    \\\n",
    "**(4 Layers, Neurons: 1000,10,100,4, activation = relu)**\\\n",
    "This configuration was chosen because it was one of the few cases with an output of 4, the ReLU activation function and the varying neurons per layer. It was also chosen as the f1 score was relatively high compared to other configurations with ReLU activation functions with a score of 0.171582. The precision and recall scores were respectfully 0.106667 and 0.438356. These are relatively decent scores and they show that the amount of layers and neurons per layer were relatively effective but less accurate then some with an accuracy of 0.646453.\\\n",
    "    \\\n",
    "**( 4 layers, neurons: 1,10,100,1, activation = tanh)**\\\n",
    "This configuration was chosen because of the ascending neurons per layer, the output of 1 and the Tanh activation function.\n",
    "This configuration shows a relatively high f1 score compared to all other configuration with a f1 score of 0.19577. This also showed a very high recall score of 0.863014 but a lower precision score of 0.094546. The accuracy does show that it was less effective as it has an accuracy score of 0.298627.\\\n",
    "    \\\n",
    "**(2 layers, neurons = 5,1, activation = logistic)**\\\n",
    "This configuration was chosen because of it's 2 layers and logistic activation function. This also the most optimal configuration as it has a recall score of 0.726027, a precision score of 0.115217 and an accuracy score of 0.511442. Overall the precision and recall scores were both higher than all other configurations and it has a relatively high accuracy score making it the most optimal configuration.\\\n",
    "\\\n",
    "The configuration **(2 layers, neurons = 5,1, activation = logistic)** was the most optimal as shown by the precision-, recall- and accuracy score of respectfully 0.115217, 0.726027 and 0.511442. This is due to the fact that there is no hidden layer and a small amount of neurons which prevent overfitting but could also potentially lead to underfitting. So in all fairness the configuration **(4 layers, neurons = 1000,10,100,4 activation = tanh)** with a slightly less better accuracy, precision and recall score of respectfully 0.529748, 0.112385 and 0.671233. This score shows a good performance and shows that it is a quite effective configuration for a configuration with 2 hidden layers and a large set of neurons. \n",
    "</span>"
   ]
  },
  {
   "cell_type": "markdown",
   "metadata": {
    "deletable": false,
    "editable": false,
    "id": "5DL60WojJF0Q",
    "nbgrader": {
     "checksum": "88788580e9ea0cc74560a55c6231466b",
     "grade": false,
     "grade_id": "cell-d7e21719abffa28b",
     "locked": true,
     "schema_version": 1,
     "solution": false
    }
   },
   "source": [
    "##### SVMs (2pts)\n",
    "\n",
    "+ Train and test a Support Vector Machine model\n",
    "    + Construct a table with each row being a different configuration of the SVM algorithm (play with the regularization parameter, and the kernel function – use linear, poly, and rbf) and each column the evaluation measures\n",
    "    + Explain your findings and select the optimal model\n",
    "    + Report the performance of the optimal model"
   ]
  },
  {
   "cell_type": "code",
   "execution_count": 17,
   "metadata": {},
   "outputs": [
    {
     "name": "stdout",
     "output_type": "stream",
     "text": [
      "[[218 132]\n",
      " [201 115]]\n"
     ]
    }
   ],
   "source": [
    "# print(\"Scores using C = \", const, \" :\")\n",
    "# print(\"_____________________________________________________\")\n",
    "# print(\"accuracy: \", accuracy(downsampled_y_train, svm_predictions))\n",
    "# print(\"recall: \", recall(downsampled_y_train, svm_predictions))\n",
    "# print(\"precision: \", precision(downsampled_y_train, svm_predictions))\n",
    "# print(\"f1: \", f1(downsampled_y_train, svm_predictions))\n",
    "# print(\"\")\n",
    "\n",
    "svm_model = svm.SVC(C = 1, kernel = \"linear\")\n",
    "svm_model.fit(downsampled_X_train, downsampled_y_train)\n",
    "\n",
    "svm_predictions = svm_model.predict(downsampled_X_train)\n",
    "\n",
    "contingency = contingency_matrix(downsampled_y_train, svm_predictions)\n",
    "# print(svm_predictions)\n",
    "print(contingency)"
   ]
  },
  {
   "cell_type": "code",
   "execution_count": 18,
   "metadata": {
    "deletable": false,
    "id": "YWgD6iFmJF0Q",
    "nbgrader": {
     "checksum": "e4d7a215763017f7111a6162d214ed5e",
     "grade": true,
     "grade_id": "cell-7009d775455986ad",
     "locked": false,
     "points": 1.5,
     "schema_version": 1,
     "solution": true
    },
    "pycharm": {
     "is_executing": false
    }
   },
   "outputs": [
    {
     "name": "stdout",
     "output_type": "stream",
     "text": [
      "Kernel      regularization C    Accuracy    Recall    Precision    F1 score\n",
      "--------  ------------------  ----------  --------  -----------  ----------\n",
      "linear                1e-05       0.7723    0.1463       0.0851      0.1076\n",
      "linear                0.0001      0.7723    0.1463       0.0851      0.1076\n",
      "linear                0.001       0.5641    0.561        0.1176      0.1945\n",
      "linear                0.01        0.54      0.5976       0.1172      0.196\n",
      "linear                0.05        0.5366    0.4756       0.0973      0.1615\n",
      "linear                0.1         0.5309    0.4756       0.0961      0.1598\n",
      "linear                0.2         0.5286    0.4634       0.0936      0.1557\n",
      "linear                0.3         0.5286    0.5          0.0995      0.166\n",
      "linear                0.5         0.5309    0.5          0.1         0.1667\n",
      "linear                0.8         0.5195    0.5          0.0976      0.1633\n",
      "linear                1           0.5286    0.5          0.0995      0.166\n",
      "linear                5           0.5309    0.5          0.1         0.1667\n",
      "linear               10           0.5366    0.5          0.1012      0.1684\n",
      "linear              100           0.532     0.5732       0.1116      0.1869\n",
      "poly                  1e-05       0.9005    0            0           0\n",
      "poly                  0.0001      0.9005    0            0           0\n",
      "poly                  0.001       0.9005    0            0           0\n",
      "poly                  0.01        0.8822    0.0366       0.1111      0.055\n",
      "poly                  0.05        0.8238    0.1098       0.1         0.1047\n",
      "poly                  0.1         0.8021    0.122        0.0901      0.1036\n",
      "poly                  0.2         0.7334    0.2195       0.0963      0.1338\n",
      "poly                  0.3         0.7334    0.2317       0.1005      0.1402\n",
      "poly                  0.5         0.6911    0.2927       0.1017      0.1509\n",
      "poly                  0.8         0.595     0.4146       0.1         0.1611\n",
      "poly                  1           0.5481    0.5122       0.1058      0.1754\n",
      "poly                  5           0.5755    0.5122       0.1126      0.1846\n",
      "poly                 10           0.6041    0.4268       0.1048      0.1683\n",
      "poly                100           0.5229    0.4634       0.0925      0.1542\n",
      "rbf                   1e-05       0.5801    0.4512       0.1031      0.1678\n",
      "rbf                   0.0001      0.5801    0.4512       0.1031      0.1678\n",
      "rbf                   0.001       0.5801    0.4512       0.1031      0.1678\n",
      "rbf                   0.01        0.5801    0.4512       0.1031      0.1678\n",
      "rbf                   0.05        0.5801    0.4512       0.1031      0.1678\n",
      "rbf                   0.1         0.5446    0.5366       0.1089      0.1811\n",
      "rbf                   0.2         0.5092    0.5732       0.1066      0.1797\n",
      "rbf                   0.3         0.4977    0.5976       0.1077      0.1825\n",
      "rbf                   0.5         0.4966    0.5854       0.1057      0.1791\n",
      "rbf                   0.8         0.4977    0.6098       0.1094      0.1855\n",
      "rbf                   1           0.5183    0.5854       0.1103      0.1857\n",
      "rbf                   5           0.5721    0.5244       0.1138      0.187\n",
      "rbf                  10           0.5824    0.5122       0.1144      0.1871\n",
      "rbf                 100           0.508     0.5          0.0953      0.1602\n"
     ]
    }
   ],
   "source": [
    "\n",
    "# regparams = [1, 0.9, 0.85, 0.8, 0.75, 0.7, 0.65, 0.6, 0.55, 0.5, 0.45, 0.4]\n",
    "# regparams = [10000, 1000, 100, 10, 5, 1, 0.8, 0.6, 0.4, 0.2, 0.1, 0.05, 0.01, 0.001, 0.0001, 0.00001]\n",
    "regparams = [0.00001, 0.0001, 0.001, 0.01, 0.05, 0.1, 0.2, 0.3, 0.5, 0.8, 1, 5, 10, 100]\n",
    "\n",
    "kernels = [\"linear\", \"poly\", \"rbf\"]\n",
    "\n",
    "resultsSVM = []\n",
    "\n",
    "for kern in kernels:\n",
    "    for const in regparams:    \n",
    "        svm_model = svm.SVC(C = const, kernel = kern)\n",
    "        svm_model.fit(downsampled_X_train, downsampled_y_train)\n",
    "\n",
    "        svm_predictions = svm_model.predict(X_test_scaled)\n",
    "\n",
    "\n",
    "        acc = round(accuracy(y_test, svm_predictions), 4)\n",
    "        rec = round(recall(y_test, svm_predictions), 4)\n",
    "        prec = round(precision(y_test, svm_predictions), 4)\n",
    "        f1s = round(f1(y_test, svm_predictions), 4)\n",
    "\n",
    "        tablerow = (kern, const, acc, rec, prec, f1s)\n",
    "        resultsSVM.append(tablerow)\n",
    "        \n",
    "print(tabulate(resultsSVM, headers=[\"Kernel\", \"regularization C\", \"Accuracy\", \"Recall\", \"Precision\", \"F1 score\"]))\n",
    "    \n",
    "    \n",
    "    "
   ]
  },
  {
   "cell_type": "markdown",
   "metadata": {
    "deletable": false,
    "id": "Pw5mJ1z1JF0Q",
    "nbgrader": {
     "checksum": "36cda951bae6da0700d3f6202d0f1a89",
     "grade": true,
     "grade_id": "cell-42c8bf3a6a671fef",
     "locked": false,
     "points": 0.5,
     "schema_version": 1,
     "solution": true
    }
   },
   "source": [
    "<span style=\"color:blue\">Overall the model scores rather poorly. The highest accuracy score is reached by the poly kernel with C ~= 0.05. But this is accompanied with the other scores being very low for this case.\n",
    "The scores of the poly kernel seem to deviate the most overall with the different regularization scores.\n",
    "Precision scores are generally low across the board.\n",
    "The linear kernel scores pretty well at low regularization (high C) but is outclassed by the rbf kernel.\n",
    "The highest scoring combination of parameters seems to be the rdf kernel with C = 0.1.\n",
    "</span>\n"
   ]
  },
  {
   "cell_type": "markdown",
   "metadata": {
    "deletable": false,
    "editable": false,
    "id": "OIgJSXMTJF0Q",
    "nbgrader": {
     "checksum": "baabfebe46559e2d055cef7ceae38b0e",
     "grade": false,
     "grade_id": "cell-23280b034d299667",
     "locked": true,
     "schema_version": 1,
     "solution": false
    }
   },
   "source": [
    "#### Compare Algorithms (2pts)\n",
    "* Plot the Precision-Recall curves for the best model for each one of the above algorithms, Logistic Regression, Neural Nets, and SVM.\n",
    "    * Use the precision_recall_curve from scikit-learn\n",
    "* Explain your findings"
   ]
  },
  {
   "cell_type": "code",
   "execution_count": 20,
   "metadata": {},
   "outputs": [
    {
     "data": {
      "text/plain": [
       "Text(0.5, 1.0, '2-class Precision-Recall curve: AP=0.11')"
      ]
     },
     "execution_count": 20,
     "metadata": {},
     "output_type": "execute_result"
    },
    {
     "data": {
      "image/png": "[encoded data removed]",
      "text/plain": [
       "<Figure size 432x288 with 1 Axes>"
      ]
     },
     "metadata": {
      "needs_background": "light"
     },
     "output_type": "display_data"
    }
   ],
   "source": [
    "from sklearn.metrics import precision_recall_curve\n",
    "from sklearn.metrics import plot_precision_recall_curve\n",
    "from sklearn.metrics import average_precision_score\n",
    "\n",
    "log = LogisticRegression(random_state = 0, C = 0.001, solver = 'liblinear')\n",
    "log.fit(downsampled_X_train, downsampled_y_train)\n",
    "log_predictions = log.predict(X_test_scaled)\n",
    "\n",
    "\n",
    "average_precision = average_precision_score(y_test, log_predictions)\n",
    "\n",
    "disp = plot_precision_recall_curve(log, X_test_scaled, y_test)\n",
    "disp.ax_.set_title('2-class Precision-Recall curve: '\n",
    "                   'AP={0:0.2f}'.format(average_precision))"
   ]
  },
  {
   "cell_type": "code",
   "execution_count": 21,
   "metadata": {},
   "outputs": [
    {
     "data": {
      "text/plain": [
       "Text(0.5, 1.0, '2-class Precision-Recall curve: AP=0.10')"
      ]
     },
     "execution_count": 21,
     "metadata": {},
     "output_type": "execute_result"
    },
    {
     "data": {
      "image/png": "[encoded data removed]",
      "text/plain": [
       "<Figure size 432x288 with 1 Axes>"
      ]
     },
     "metadata": {
      "needs_background": "light"
     },
     "output_type": "display_data"
    }
   ],
   "source": [
    "mlp = MLPClassifier(hidden_layer_sizes = layers[6], activation = act[2])\n",
    "mlp.fit(downsampled_X_train, downsampled_y_train)\n",
    "\n",
    "mlp_predictions = mlp.predict(X_test_scaled)\n",
    "\n",
    "average_precisionmlp = average_precision_score(y_test, mlp_predictions)\n",
    "\n",
    "disp = plot_precision_recall_curve(mlp, X_test_scaled, y_test)\n",
    "disp.ax_.set_title('2-class Precision-Recall curve: '\n",
    "                   'AP={0:0.2f}'.format(average_precisionmlp))"
   ]
  },
  {
   "cell_type": "code",
   "execution_count": 22,
   "metadata": {
    "deletable": false,
    "id": "8kRDcyLuJF0Q",
    "nbgrader": {
     "checksum": "b17597ab95452fa3d4259cb4d2bee6c2",
     "grade": true,
     "grade_id": "cell-d6967e3b3e3dbe7a",
     "locked": false,
     "points": 1.5,
     "schema_version": 1,
     "solution": true
    },
    "pycharm": {
     "is_executing": false
    }
   },
   "outputs": [
    {
     "data": {
      "text/plain": [
       "Text(0.5, 1.0, '2-class Precision-Recall curve: AP=0.10')"
      ]
     },
     "execution_count": 22,
     "metadata": {},
     "output_type": "execute_result"
    },
    {
     "data": {
      "image/png": "[encoded data removed]",
      "text/plain": [
       "<Figure size 432x288 with 1 Axes>"
      ]
     },
     "metadata": {
      "needs_background": "light"
     },
     "output_type": "display_data"
    }
   ],
   "source": [
    "svm_model = svm.SVC(C = 0.1, kernel = 'rbf')\n",
    "svm_model.fit(downsampled_X_train, downsampled_y_train)\n",
    "\n",
    "svm_predictions = svm_model.predict(X_test_scaled)\n",
    "\n",
    "average_precisionsvm = average_precision_score(y_test, svm_predictions)\n",
    "\n",
    "disp = plot_precision_recall_curve(svm_model, X_test_scaled, y_test)\n",
    "disp.ax_.set_title('2-class Precision-Recall curve: '\n",
    "                   'AP={0:0.2f}'.format(average_precisionsvm))"
   ]
  },
  {
   "cell_type": "markdown",
   "metadata": {
    "deletable": false,
    "id": "_vShAj6OJF0Q",
    "nbgrader": {
     "checksum": "58ca34644cf139f5987905e2058ea0b3",
     "grade": true,
     "grade_id": "cell-b91319845bc74219",
     "locked": false,
     "points": 0.5,
     "schema_version": 1,
     "solution": true
    }
   },
   "source": [
    "<span style=\"color:blue\">\n",
    "Out of the three models, the SVC seems to score the worst, but not by a large margin.\n",
    "The highest scoring model is the neural network, with logistic regression coming in a close second.\n",
    "\n",
    "</span>"
   ]
  }
 ],
 "metadata": {
  "celltoolbar": "Edit Metadata",
  "colab": {
   "collapsed_sections": [],
   "name": "Copy of Practical Assignment 2 - 2021 Student.ipynb ",
   "provenance": [
    {
     "file_id": "17ja4GM2Ci0MjQjO3RjTNBS0wcnLBpBIr",
     "timestamp": 1618862623296
    },
    {
     "file_id": "1tO5F-kPHZPpMGLNuPjfNqd3rXU1Lkmn1",
     "timestamp": 1618842712618
    }
   ],
   "toc_visible": true
  },
  "kernelspec": {
   "display_name": "Python 3",
   "language": "python",
   "name": "python3"
  },
  "language_info": {
   "codemirror_mode": {
    "name": "ipython",
    "version": 3
   },
   "file_extension": ".py",
   "mimetype": "text/x-python",
   "name": "python",
   "nbconvert_exporter": "python",
   "pygments_lexer": "ipython3",
   "version": "3.7.6"
  },
  "pycharm": {
   "stem_cell": {
    "cell_type": "raw",
    "metadata": {
     "collapsed": false
    },
    "source": []
   }
  }
 },
 "nbformat": 4,
 "nbformat_minor": 1
}
