{
 "cells": [
  {
   "cell_type": "markdown",
   "metadata": {
    "id": "y6FWRjitH_lH",
    "nbgrader": {
     "grade": false,
     "grade_id": "cell-575272ac8c88383d",
     "locked": true,
     "schema_version": 1,
     "solution": false
    }
   },
   "source": [
    "# Applied Machine Learning\n",
    "## Practical Assignment 1"
   ]
  },
  {
   "cell_type": "code",
   "execution_count": 1,
   "metadata": {
    "id": "UB7sl_nQH_lL",
    "pycharm": {
     "is_executing": false
    }
   },
   "outputs": [],
   "source": [
    "Names: ['Lucas Belderink', 'Rama Pamudji'] \n",
    "Studentnumbers: ['12151750', '11170220']"
   ]
  },
  {
   "cell_type": "markdown",
   "metadata": {
    "id": "-JnevPdzdZo6",
    "nbgrader": {
     "grade": false,
     "grade_id": "cell-e8b3a90e3eadc324",
     "locked": true,
     "schema_version": 1,
     "solution": false
    }
   },
   "source": [
    "### Important Notes:\n",
    "1. Submit through **Canvas** before 11:59pm on Tuesday, April 20, 2021.\n",
    "2. No late homework will be accepted.\n",
    "3. This is a **group-of-two** assignment; hence choose **one** partner to work with.\n",
    "4. The submitted file should be in ipynb format\n",
    "5. The assignment is worth 10 points\n",
    "6. For questions, please use the discussion part of canvas (English only!)\n",
    "\n",
    "### Software:\n",
    "We will be using Python programming language throughout this course. Further we will be using:\n",
    "+ IPython Notebooks (as an environment)\n",
    "+ Numpy\n",
    "+ Pandas\n",
    "+ Scikit-learn\n",
    "\n",
    "\n",
    "### Background:\n",
    "\n",
    "This practical assignment will be covering linear regression and evaluation. For the assignment, please download a [dataset](https://drive.google.com/open?id=1rESPdl7CUfvgkA44YQ42pcOaMOCGN8B6) containing demographic information and crime statistics (in a given year) for some cities in the US.\n",
    "\n",
    "Assume that for certain cities there is missing information about crimes, so we would like to learn how to estimate the number of non-violent crimes based on characteristics of the city (demographics, location etc)."
   ]
  },
  {
   "cell_type": "code",
   "execution_count": 2,
   "metadata": {
    "id": "MeIfqiTVH_lM",
    "nbgrader": {
     "grade": false,
     "grade_id": "cell-f55bc95980e83e55",
     "locked": true,
     "schema_version": 1,
     "solution": false
    },
    "pycharm": {
     "is_executing": false
    }
   },
   "outputs": [],
   "source": [
    "import os\n",
    "import sys\n",
    "\n",
    "import numpy as np\n",
    "import pandas as pd\n",
    "import sklearn\n",
    "from nose.tools import assert_count_equal, assert_equal\n",
    "from numpy.testing import *\n",
    "from pandas.testing import assert_frame_equal\n",
    "from sklearn import linear_model\n",
    "from sklearn.linear_model import LinearRegression\n",
    "from sklearn.preprocessing import PolynomialFeatures\n"
   ]
  },
  {
   "cell_type": "markdown",
   "metadata": {
    "id": "tYWhz0bxdZo9",
    "nbgrader": {
     "grade": false,
     "grade_id": "cell-8452bfe549fa98ac",
     "locked": true,
     "schema_version": 1,
     "solution": false
    }
   },
   "source": [
    "## Part 1: Loading the data into a Pandas Data Frame [0.5 pts]"
   ]
  },
  {
   "cell_type": "markdown",
   "metadata": {
    "id": "oT64QznGH_lN"
   },
   "source": [
    "The descriptions of the columns of the dataset can be found here:\n",
    "\n",
    "**pop**: population\n",
    "\n",
    "**pctUrban**: percentage of people living in areas classified as urban\n",
    "\n",
    "**medIncome**: Median Income\n",
    "\n",
    "**pct12-29**: percentage of population that is 12-21 in age\n",
    "\n",
    "**pct65up**: percentage of population that is 65 and over in age\n",
    "\n",
    "**pctPoverty**: percentage of people under the poverty level\n",
    "\n",
    "**pctAllDivorc**: percentage of population who are divorced\n",
    "\n",
    "**pctUnemploy**: percentage of people 16 and over, in the labor force, and unemployed\n",
    "\n",
    "**perHoush**: mean persons per household\n",
    "\n",
    "**pctHousOccup**: percent of housing occupied\n",
    "\n",
    "**persHomeless**: number of homeless people\n",
    "\n",
    "**persEmergShelt**: number of people in homeless shelters\n",
    "\n",
    "**nonViolPerPop**: total number of non-violent crimes per 100K popuation\n",
    "\n",
    "**State**: the state in which this town/city is located\n",
    "\n",
    "**countyCode**: the code number of the county of the state this town/city is located\n"
   ]
  },
  {
   "cell_type": "markdown",
   "metadata": {
    "id": "ssuDiTXHH_lN"
   },
   "source": [
    "\n",
    "### Question 1a:\n",
    "Load the data into a Pandas DataFrame. At this point, make sure that you only load the following columns: \n",
    "\n",
    "`'pop', 'pctUrban', 'medIncome', 'pct12-29', 'pct65up', 'pctPoverty', 'pctAllDivorc', 'pctUnemploy', 'perHoush', 'pctHousOccup', 'persHomeless', 'persEmergShelt', 'nonViolPerPop'`\n"
   ]
  },
  {
   "cell_type": "code",
   "execution_count": 3,
   "metadata": {
    "id": "45PfGbv9H_lN",
    "pycharm": {
     "is_executing": false
    }
   },
   "outputs": [],
   "source": [
    "csv_path = 'crime_data.csv'\n"
   ]
  },
  {
   "cell_type": "code",
   "execution_count": 4,
   "metadata": {
    "id": "m-eINyWsH_lN",
    "nbgrader": {
     "grade": false,
     "grade_id": "cell-9a5813b911a397d1",
     "locked": false,
     "schema_version": 1,
     "solution": true
    },
    "pycharm": {
     "is_executing": false
    }
   },
   "outputs": [
    {
     "name": "stdout",
     "output_type": "stream",
     "text": [
      "(949, 13)\n"
     ]
    },
    {
     "data": {
      "text/html": [
       "<div>\n",
       "<style scoped>\n",
       "    .dataframe tbody tr th:only-of-type {\n",
       "        vertical-align: middle;\n",
       "    }\n",
       "\n",
       "    .dataframe tbody tr th {\n",
       "        vertical-align: top;\n",
       "    }\n",
       "\n",
       "    .dataframe thead th {\n",
       "        text-align: right;\n",
       "    }\n",
       "</style>\n",
       "<table border=\"1\" class=\"dataframe\">\n",
       "  <thead>\n",
       "    <tr style=\"text-align: right;\">\n",
       "      <th></th>\n",
       "      <th>pop</th>\n",
       "      <th>pctUrban</th>\n",
       "      <th>medIncome</th>\n",
       "      <th>pct12-29</th>\n",
       "      <th>pct65up</th>\n",
       "      <th>pctPoverty</th>\n",
       "      <th>pctAllDivorc</th>\n",
       "      <th>pctUnemploy</th>\n",
       "      <th>perHoush</th>\n",
       "      <th>pctHousOccup</th>\n",
       "      <th>persHomeless</th>\n",
       "      <th>persEmergShelt</th>\n",
       "      <th>nonViolPerPop</th>\n",
       "    </tr>\n",
       "  </thead>\n",
       "  <tbody>\n",
       "    <tr>\n",
       "      <th>0</th>\n",
       "      <td>11980.0</td>\n",
       "      <td>100.0</td>\n",
       "      <td>75122.0</td>\n",
       "      <td>21.44</td>\n",
       "      <td>11.33</td>\n",
       "      <td>1.96</td>\n",
       "      <td>4.47</td>\n",
       "      <td>2.70</td>\n",
       "      <td>3.10</td>\n",
       "      <td>98.37</td>\n",
       "      <td>0</td>\n",
       "      <td>11</td>\n",
       "      <td>1394.59</td>\n",
       "    </tr>\n",
       "    <tr>\n",
       "      <th>1</th>\n",
       "      <td>23123.0</td>\n",
       "      <td>100.0</td>\n",
       "      <td>NaN</td>\n",
       "      <td>21.30</td>\n",
       "      <td>17.18</td>\n",
       "      <td>3.98</td>\n",
       "      <td>5.42</td>\n",
       "      <td>2.43</td>\n",
       "      <td>2.82</td>\n",
       "      <td>97.15</td>\n",
       "      <td>0</td>\n",
       "      <td>0</td>\n",
       "      <td>1955.95</td>\n",
       "    </tr>\n",
       "    <tr>\n",
       "      <th>2</th>\n",
       "      <td>NaN</td>\n",
       "      <td>0.0</td>\n",
       "      <td>NaN</td>\n",
       "      <td>40.53</td>\n",
       "      <td>12.65</td>\n",
       "      <td>29.99</td>\n",
       "      <td>9.73</td>\n",
       "      <td>9.08</td>\n",
       "      <td>2.76</td>\n",
       "      <td>92.45</td>\n",
       "      <td>0</td>\n",
       "      <td>2</td>\n",
       "      <td>9988.79</td>\n",
       "    </tr>\n",
       "    <tr>\n",
       "      <th>3</th>\n",
       "      <td>28700.0</td>\n",
       "      <td>100.0</td>\n",
       "      <td>42805.0</td>\n",
       "      <td>27.41</td>\n",
       "      <td>14.42</td>\n",
       "      <td>4.01</td>\n",
       "      <td>7.64</td>\n",
       "      <td>4.85</td>\n",
       "      <td>2.60</td>\n",
       "      <td>95.11</td>\n",
       "      <td>0</td>\n",
       "      <td>0</td>\n",
       "      <td>1890.88</td>\n",
       "    </tr>\n",
       "    <tr>\n",
       "      <th>4</th>\n",
       "      <td>74111.0</td>\n",
       "      <td>100.0</td>\n",
       "      <td>NaN</td>\n",
       "      <td>35.16</td>\n",
       "      <td>8.58</td>\n",
       "      <td>13.68</td>\n",
       "      <td>8.64</td>\n",
       "      <td>4.18</td>\n",
       "      <td>2.46</td>\n",
       "      <td>95.07</td>\n",
       "      <td>15</td>\n",
       "      <td>125</td>\n",
       "      <td>4747.58</td>\n",
       "    </tr>\n",
       "  </tbody>\n",
       "</table>\n",
       "</div>"
      ],
      "text/plain": [
       "       pop  pctUrban  medIncome  pct12-29  pct65up  pctPoverty  pctAllDivorc  \\\n",
       "0  11980.0     100.0    75122.0     21.44    11.33        1.96          4.47   \n",
       "1  23123.0     100.0        NaN     21.30    17.18        3.98          5.42   \n",
       "2      NaN       0.0        NaN     40.53    12.65       29.99          9.73   \n",
       "3  28700.0     100.0    42805.0     27.41    14.42        4.01          7.64   \n",
       "4  74111.0     100.0        NaN     35.16     8.58       13.68          8.64   \n",
       "\n",
       "   pctUnemploy  perHoush  pctHousOccup  persHomeless  persEmergShelt  \\\n",
       "0         2.70      3.10         98.37             0              11   \n",
       "1         2.43      2.82         97.15             0               0   \n",
       "2         9.08      2.76         92.45             0               2   \n",
       "3         4.85      2.60         95.11             0               0   \n",
       "4         4.18      2.46         95.07            15             125   \n",
       "\n",
       "   nonViolPerPop  \n",
       "0        1394.59  \n",
       "1        1955.95  \n",
       "2        9988.79  \n",
       "3        1890.88  \n",
       "4        4747.58  "
      ]
     },
     "execution_count": 4,
     "metadata": {},
     "output_type": "execute_result"
    }
   ],
   "source": [
    "# Load the dataset\n",
    "\n",
    "### BEGIN SOLUTION\n",
    "crime_data = pd.read_csv(csv_path)[['pop', 'pctUrban', 'medIncome', 'pct12-29', 'pct65up', 'pctPoverty', \n",
    "                       'pctAllDivorc', 'pctUnemploy', 'perHoush', 'pctHousOccup', 'persHomeless', \n",
    "                       'persEmergShelt', 'nonViolPerPop']]\n",
    "### END SOLUTION\n",
    "\n",
    "print(crime_data.shape)\n",
    "crime_data.head()\n"
   ]
  },
  {
   "cell_type": "markdown",
   "metadata": {
    "id": "Tq2stRMtH_lO",
    "nbgrader": {
     "grade": false,
     "grade_id": "cell-793ac60698061e82",
     "locked": true,
     "schema_version": 1,
     "solution": false
    }
   },
   "source": [
    "### Question 1b:\n",
    "We want to predict the number of crimes. Identify the features X and the target variable Y, and turn the X and Y DataFrames into Numpy arrays.\n"
   ]
  },
  {
   "cell_type": "code",
   "execution_count": 5,
   "metadata": {
    "id": "_FzIEG5DdZo-",
    "nbgrader": {
     "grade": false,
     "grade_id": "cell-8eb698d0c3f532fd",
     "locked": false,
     "schema_version": 1,
     "solution": true
    },
    "pycharm": {
     "is_executing": false
    }
   },
   "outputs": [],
   "source": [
    "X = crime_data[['pop', 'pctUrban', 'medIncome', 'pct12-29', 'pct65up', 'pctPoverty', \n",
    "                'pctAllDivorc', 'pctUnemploy', 'perHoush', 'pctHousOccup', 'persHomeless', \n",
    "                'persEmergShelt']].to_numpy()\n",
    "\n",
    "Y = crime_data['nonViolPerPop'].to_numpy()\n"
   ]
  },
  {
   "cell_type": "markdown",
   "metadata": {
    "id": "P9YvTy9kdZpG",
    "nbgrader": {
     "grade": false,
     "grade_id": "cell-afc0b6593e782894",
     "locked": true,
     "schema_version": 1,
     "solution": false
    }
   },
   "source": [
    "## Part 2: Split the data into a training set and a test set [0.5 pts]\n",
    "### Question 2:\n",
    "Split the data into a training and a test set. Use a  70%-30% split.  \n",
    "Print the number of examples in the training set and the test set."
   ]
  },
  {
   "cell_type": "code",
   "execution_count": 6,
   "metadata": {
    "id": "e_oiLoaWdZpH",
    "nbgrader": {
     "grade": false,
     "grade_id": "cell-cb09606197bd3f58",
     "locked": false,
     "schema_version": 1,
     "solution": true
    },
    "pycharm": {
     "is_executing": false
    }
   },
   "outputs": [
    {
     "name": "stdout",
     "output_type": "stream",
     "text": [
      "11388\n",
      "7968\n",
      "3420\n",
      "0.6996838777660696\n",
      "0.30031612223393045\n",
      "\n",
      "\n",
      "949\n",
      "664\n",
      "285\n",
      "0.6996838777660696\n",
      "0.30031612223393045\n"
     ]
    }
   ],
   "source": [
    "X_train = 'Replace this string with the correct answer'\n",
    "X_test = 'Replace this string with the correct answer'\n",
    "Y_train = 'Replace this string with the correct answer'\n",
    "Y_test = 'Replace this string with the correct answer'\n",
    "\n",
    "### BEGIN SOLUTION\n",
    "from sklearn.model_selection import train_test_split\n",
    "\n",
    "X_train, X_test, Y_train, Y_test = train_test_split(X, Y, test_size=0.3, random_state=0)\n",
    "\n",
    "print(X.size)\n",
    "print(X_train.size)\n",
    "print(X_test.size)\n",
    "\n",
    "print(X_train.size/X.size)\n",
    "print(X_test.size/X.size)\n",
    "\n",
    "print(\"\\n\")\n",
    "\n",
    "print(Y.size)\n",
    "print(Y_train.size)\n",
    "print(Y_test.size)\n",
    "\n",
    "print(Y_train.size/Y.size)\n",
    "print(Y_test.size/Y.size)\n",
    "\n",
    "### END SOLUTION"
   ]
  },
  {
   "cell_type": "markdown",
   "metadata": {
    "id": "ZIYFfQN0dZpM",
    "nbgrader": {
     "grade": false,
     "grade_id": "cell-473a187a1ce777d3",
     "locked": true,
     "schema_version": 1,
     "solution": false
    }
   },
   "source": [
    "## Part 3: Linear Regression [2 pts]"
   ]
  },
  {
   "cell_type": "markdown",
   "metadata": {
    "id": "prbPvQZodZpN",
    "nbgrader": {
     "grade": false,
     "grade_id": "cell-5db55cc890570964",
     "locked": true,
     "schema_version": 1,
     "solution": false
    }
   },
   "source": [
    "**Missing Data**: Often the data you are considering is incomplete. For example in some city, the number of homeless people might be unknown. In this case, if you look into the datasets you will find the value *NaN*. This is not a real value, hence Linear Regression cannot handle it.\n",
    "\n",
    "The question is how can we handle missing data. There are many ways to do so, some more sophisticated than others. Here we will use a simple approach. This simple approach fills in the missing values, i.e. replaces the *NaN* by the median of the corresponding feature. E.g. if there is a *NaN* value for the population in one city, this *NaN* value will be replaced by the median number of the population in all other cities in the data."
   ]
  },
  {
   "cell_type": "code",
   "execution_count": 7,
   "metadata": {
    "id": "DZEv4VfCdZpP",
    "nbgrader": {
     "grade": false,
     "grade_id": "cell-0777a154778f1fe3",
     "locked": true,
     "schema_version": 1,
     "solution": false
    },
    "pycharm": {
     "is_executing": false
    }
   },
   "outputs": [],
   "source": [
    "# Fill in the missing data in the dataset (i.e. replace NaN values) \n",
    "\n",
    "def replace_nan_median(data):\n",
    "    medians_data = np.nanmedian(data, axis = 0)\n",
    "    \n",
    "    for y in range(0, len(data[0])):\n",
    "        for x in range(0, len(data)):\n",
    "            if pd.isnull(data[x, y]):\n",
    "                data[x, y] = medians_data[y]\n",
    "\n",
    "replace_nan_median(X_train)\n",
    "replace_nan_median(X_test)"
   ]
  },
  {
   "cell_type": "markdown",
   "metadata": {
    "id": "7XjCdj7VH_lP",
    "nbgrader": {
     "grade": false,
     "grade_id": "cell-5f6424ae3678e3c9",
     "locked": true,
     "schema_version": 1,
     "solution": false
    }
   },
   "source": [
    "### Question 3a:\n",
    "Train a linear regression model"
   ]
  },
  {
   "cell_type": "code",
   "execution_count": 8,
   "metadata": {
    "id": "BQc0v7GCdZpV",
    "nbgrader": {
     "grade": false,
     "grade_id": "cell-40087f3cfc1918c7",
     "locked": false,
     "schema_version": 1,
     "solution": true
    },
    "pycharm": {
     "is_executing": false
    }
   },
   "outputs": [
    {
     "data": {
      "text/html": [
       "<div>\n",
       "<style scoped>\n",
       "    .dataframe tbody tr th:only-of-type {\n",
       "        vertical-align: middle;\n",
       "    }\n",
       "\n",
       "    .dataframe tbody tr th {\n",
       "        vertical-align: top;\n",
       "    }\n",
       "\n",
       "    .dataframe thead th {\n",
       "        text-align: right;\n",
       "    }\n",
       "</style>\n",
       "<table border=\"1\" class=\"dataframe\">\n",
       "  <thead>\n",
       "    <tr style=\"text-align: right;\">\n",
       "      <th></th>\n",
       "      <th>feature</th>\n",
       "      <th>coefficient</th>\n",
       "    </tr>\n",
       "  </thead>\n",
       "  <tbody>\n",
       "    <tr>\n",
       "      <th>0</th>\n",
       "      <td>pop</td>\n",
       "      <td>-0.003027</td>\n",
       "    </tr>\n",
       "    <tr>\n",
       "      <th>1</th>\n",
       "      <td>pctUrban</td>\n",
       "      <td>7.574894</td>\n",
       "    </tr>\n",
       "    <tr>\n",
       "      <th>2</th>\n",
       "      <td>medIncome</td>\n",
       "      <td>0.009905</td>\n",
       "    </tr>\n",
       "    <tr>\n",
       "      <th>3</th>\n",
       "      <td>pct12-29</td>\n",
       "      <td>-17.271344</td>\n",
       "    </tr>\n",
       "    <tr>\n",
       "      <th>4</th>\n",
       "      <td>pct65up</td>\n",
       "      <td>22.175874</td>\n",
       "    </tr>\n",
       "    <tr>\n",
       "      <th>5</th>\n",
       "      <td>pctPoverty</td>\n",
       "      <td>136.218690</td>\n",
       "    </tr>\n",
       "    <tr>\n",
       "      <th>6</th>\n",
       "      <td>pctAllDivorc</td>\n",
       "      <td>369.578949</td>\n",
       "    </tr>\n",
       "    <tr>\n",
       "      <th>7</th>\n",
       "      <td>pctUnemploy</td>\n",
       "      <td>-121.199664</td>\n",
       "    </tr>\n",
       "    <tr>\n",
       "      <th>8</th>\n",
       "      <td>perHoush</td>\n",
       "      <td>493.756994</td>\n",
       "    </tr>\n",
       "    <tr>\n",
       "      <th>9</th>\n",
       "      <td>pctHousOccup</td>\n",
       "      <td>-37.212039</td>\n",
       "    </tr>\n",
       "    <tr>\n",
       "      <th>10</th>\n",
       "      <td>persHomeless</td>\n",
       "      <td>-4.554693</td>\n",
       "    </tr>\n",
       "    <tr>\n",
       "      <th>11</th>\n",
       "      <td>persEmergShelt</td>\n",
       "      <td>3.671601</td>\n",
       "    </tr>\n",
       "  </tbody>\n",
       "</table>\n",
       "</div>"
      ],
      "text/plain": [
       "           feature  coefficient\n",
       "0              pop    -0.003027\n",
       "1         pctUrban     7.574894\n",
       "2        medIncome     0.009905\n",
       "3         pct12-29   -17.271344\n",
       "4          pct65up    22.175874\n",
       "5       pctPoverty   136.218690\n",
       "6     pctAllDivorc   369.578949\n",
       "7      pctUnemploy  -121.199664\n",
       "8         perHoush   493.756994\n",
       "9     pctHousOccup   -37.212039\n",
       "10    persHomeless    -4.554693\n",
       "11  persEmergShelt     3.671601"
      ]
     },
     "metadata": {},
     "output_type": "display_data"
    }
   ],
   "source": [
    "def train_linregmodel(X, Y):\n",
    "    lr = linear_model.LinearRegression()    \n",
    "    lr.fit(X, Y)\n",
    "    \n",
    "    return lr\n",
    "\n",
    "linreg_model = train_linregmodel(X_train, Y_train)\n",
    "\n",
    "\n",
    "coefs = pd.DataFrame()\n",
    "coefs['feature'] = crime_data[['pop', 'pctUrban', 'medIncome', 'pct12-29', 'pct65up', 'pctPoverty', \n",
    "                'pctAllDivorc', 'pctUnemploy', 'perHoush', 'pctHousOccup', 'persHomeless', \n",
    "                'persEmergShelt']].columns\n",
    "coefs['coefficient'] = linreg_model.coef_\n",
    "\n",
    "display(coefs)"
   ]
  },
  {
   "cell_type": "markdown",
   "metadata": {
    "id": "50pojKg3H_lP",
    "nbgrader": {
     "grade": false,
     "grade_id": "cell-71f736155f84e035",
     "locked": true,
     "schema_version": 1,
     "solution": false
    }
   },
   "source": [
    "### Question 3b:\n",
    "Compare the importance of features based on the parameters $\\theta$ of the model. \n",
    "\n",
    "1. Which are the top-5 most important features for the predicting the number of crimes per capita?   \n",
    "2. Out of those, which correlate positively and which negatively with the number of crimes in a region?"
   ]
  },
  {
   "cell_type": "code",
   "execution_count": 9,
   "metadata": {
    "id": "bj9zdu3IH_lP",
    "nbgrader": {
     "grade": false,
     "grade_id": "cell-3b020283aa02adae",
     "locked": false,
     "schema_version": 1,
     "solution": true
    },
    "pycharm": {
     "is_executing": false
    }
   },
   "outputs": [
    {
     "data": {
      "text/html": [
       "<div>\n",
       "<style scoped>\n",
       "    .dataframe tbody tr th:only-of-type {\n",
       "        vertical-align: middle;\n",
       "    }\n",
       "\n",
       "    .dataframe tbody tr th {\n",
       "        vertical-align: top;\n",
       "    }\n",
       "\n",
       "    .dataframe thead th {\n",
       "        text-align: right;\n",
       "    }\n",
       "</style>\n",
       "<table border=\"1\" class=\"dataframe\">\n",
       "  <thead>\n",
       "    <tr style=\"text-align: right;\">\n",
       "      <th></th>\n",
       "      <th>feature</th>\n",
       "      <th>coefficient</th>\n",
       "    </tr>\n",
       "  </thead>\n",
       "  <tbody>\n",
       "    <tr>\n",
       "      <th>8</th>\n",
       "      <td>perHoush</td>\n",
       "      <td>493.756994</td>\n",
       "    </tr>\n",
       "    <tr>\n",
       "      <th>6</th>\n",
       "      <td>pctAllDivorc</td>\n",
       "      <td>369.578949</td>\n",
       "    </tr>\n",
       "    <tr>\n",
       "      <th>5</th>\n",
       "      <td>pctPoverty</td>\n",
       "      <td>136.218690</td>\n",
       "    </tr>\n",
       "    <tr>\n",
       "      <th>7</th>\n",
       "      <td>pctUnemploy</td>\n",
       "      <td>-121.199664</td>\n",
       "    </tr>\n",
       "    <tr>\n",
       "      <th>9</th>\n",
       "      <td>pctHousOccup</td>\n",
       "      <td>-37.212039</td>\n",
       "    </tr>\n",
       "  </tbody>\n",
       "</table>\n",
       "</div>"
      ],
      "text/plain": [
       "        feature  coefficient\n",
       "8      perHoush   493.756994\n",
       "6  pctAllDivorc   369.578949\n",
       "5    pctPoverty   136.218690\n",
       "7   pctUnemploy  -121.199664\n",
       "9  pctHousOccup   -37.212039"
      ]
     },
     "metadata": {},
     "output_type": "display_data"
    },
    {
     "name": "stdout",
     "output_type": "stream",
     "text": [
      "1        perHoush\n",
      "2    pctAllDivorc\n",
      "3      pctPoverty\n",
      "4     pctUnemploy\n",
      "5    pctHousOccup\n",
      "Name: feature, dtype: object\n"
     ]
    }
   ],
   "source": [
    "### BEGIN SOLUTION\n",
    "coefs = coefs.reindex(coefs.coefficient.abs().sort_values(ascending = False).index)\n",
    "display(coefs[:5])\n",
    "\n",
    "top5 = coefs[:5]['feature']\n",
    "top5.index = [1, 2, 3, 4, 5]\n",
    "\n",
    "print(top5)\n",
    "### END SOLUTION"
   ]
  },
  {
   "cell_type": "markdown",
   "metadata": {
    "id": "e16W9xIcdZpg"
   },
   "source": [
    "<span style=\"color:blue\">**Replace the text in this cell with your explanation (if needed)**</span>"
   ]
  },
  {
   "cell_type": "markdown",
   "metadata": {
    "id": "hsCghIl3H_lP",
    "nbgrader": {
     "grade": false,
     "grade_id": "cell-02ef93cfecd6a92f",
     "locked": true,
     "schema_version": 1,
     "solution": false
    }
   },
   "source": [
    "### Question 3c:\n",
    "\n",
    "Compute the Mean Absolute Error and Root Mean Squared Error, do this without using the scikit-learn API for these values.\n",
    "\n"
   ]
  },
  {
   "cell_type": "code",
   "execution_count": 26,
   "metadata": {
    "id": "D1wWlXgcdZpk",
    "nbgrader": {
     "grade": false,
     "grade_id": "cell-d9e0e18c6ac6a823",
     "locked": false,
     "schema_version": 1,
     "solution": true
    },
    "pycharm": {
     "is_executing": false
    }
   },
   "outputs": [
    {
     "name": "stdout",
     "output_type": "stream",
     "text": [
      "rmse:  2375.864826477729\n",
      "Sklearn rmse:  2375.864826477729\n"
     ]
    }
   ],
   "source": [
    "from sklearn.metrics import mean_squared_error\n",
    "prediction = linreg_model.predict(X_test)\n",
    "actual_values = Y_test\n",
    "\n",
    "def rmse(y_true, y_pred):\n",
    "    if len(y_true) != len(y_pred):\n",
    "        print(\"Inputs hebben niet dezelfde lengte\")\n",
    "        \n",
    "    n = len(y_pred)\n",
    "\n",
    "    squared_errors = 0\n",
    "    for i in range(0, n):\n",
    "        squared_errors += (y_true[i] - y_pred[i])**2\n",
    "        \n",
    "    mse = squared_errors/n    \n",
    "    RMSE = mse**0.5\n",
    "    \n",
    "    return RMSE\n",
    "\n",
    "print(\"rmse: \", rmse(actual_values, prediction))\n",
    "test = mean_squared_error(actual_values, prediction)\n",
    "print(\"Sklearn rmse: \", test**0.5)\n"
   ]
  },
  {
   "cell_type": "code",
   "execution_count": 11,
   "metadata": {
    "id": "BBb38MXFH_lQ",
    "pycharm": {
     "is_executing": false
    }
   },
   "outputs": [
    {
     "data": {
      "text/plain": [
       "1286.4839271744945"
      ]
     },
     "execution_count": 11,
     "metadata": {},
     "output_type": "execute_result"
    }
   ],
   "source": [
    "def mae(y_true, y_pred):\n",
    "\n",
    "    if len(y_true) != len(y_pred):\n",
    "        print(\"Inputs hebben niet dezelfde lengte\")\n",
    "\n",
    "    n = len(y_true)\n",
    "\n",
    "    mean_errors = 0\n",
    "    for i in range(0, n):\n",
    "        mean_errors += np.absolute(y_true[i] - y_pred[i])\n",
    "\n",
    "    MAE = mean_errors/n\n",
    "\n",
    "    return MAE\n",
    "\n",
    "mae(actual_values, prediction)"
   ]
  },
  {
   "cell_type": "markdown",
   "metadata": {
    "id": "h-htxVRadZpp",
    "nbgrader": {
     "grade": false,
     "grade_id": "cell-ff9572a7060b40ee",
     "locked": true,
     "schema_version": 1,
     "solution": false
    }
   },
   "source": [
    "### Question 3d:\n",
    "MAE is an L1 error, while RMSE is an L2 error (L2 errors are based on the squared errors of each prediction in contrast to L1). Consider a scenario where having a relatively small deviation from the true value is ok, but you would really like to avoid making large errors in predictions. Which of those two metrics would you choose to evaluate your models? Explain."
   ]
  },
  {
   "cell_type": "markdown",
   "metadata": {
    "id": "zCr2CzPNdZpx"
   },
   "source": [
    "<span style=\"color:blue\">These large prediction errors (large deviations from the true values, so outliers) will be magnified if squared alongside the other errors. These large prediction errors will increase the eventual values that represent your deviation (in this case RMSE) by too much, causing the outliers to make the RMSE values to be unrepresentative of the actual overall deviaton.\n",
    "If these outliers are present, L1 error would take them into account better than the squared errors method of L2.\n",
    "</span>\n",
    "\n"
   ]
  },
  {
   "cell_type": "markdown",
   "metadata": {
    "id": "waQHGkwzdZpy",
    "nbgrader": {
     "grade": false,
     "grade_id": "cell-880a51e909914143",
     "locked": true,
     "schema_version": 1,
     "solution": false
    }
   },
   "source": [
    "## Part 4. Adding features [2 pts]\n",
    "1. Add a number of features by including polynomials and interactions of different degree\n",
    "2. Train and test the different linear regression models over the data\n",
    "3. Test whether increasing the complexity of the model overfits the data"
   ]
  },
  {
   "cell_type": "markdown",
   "metadata": {
    "id": "PZCylJThdZqD",
    "nbgrader": {
     "grade": false,
     "grade_id": "cell-4c953b9943fce092",
     "locked": true,
     "schema_version": 1,
     "solution": false
    }
   },
   "source": [
    "### Question 4a\n",
    "Implement a function that constructs additional features by considering the polynomials of the original features along with their interactions. Degree is the degree of the polynomial.  \n",
    "Consider the original dataset that was loaded into Pandas, and then turned into a Numpy array from Part 1."
   ]
  },
  {
   "cell_type": "code",
   "execution_count": 12,
   "metadata": {
    "id": "UPxirRI_dZqF",
    "nbgrader": {
     "grade": false,
     "grade_id": "cell-0b1c89bb3ea71cd3",
     "locked": false,
     "schema_version": 1,
     "solution": true
    },
    "pycharm": {
     "is_executing": false
    }
   },
   "outputs": [
    {
     "name": "stdout",
     "output_type": "stream",
     "text": [
      "[[1.0000e+00 1.4396e+04 1.0000e+02 ... 0.0000e+00 0.0000e+00 0.0000e+00]\n",
      " [1.0000e+00 1.3030e+04 0.0000e+00 ... 0.0000e+00 0.0000e+00 0.0000e+00]\n",
      " [1.0000e+00 1.4363e+04 0.0000e+00 ... 0.0000e+00 0.0000e+00 0.0000e+00]\n",
      " ...\n",
      " [1.0000e+00 2.0999e+04 7.5480e+01 ... 0.0000e+00 0.0000e+00 0.0000e+00]\n",
      " [1.0000e+00 1.8310e+04 0.0000e+00 ... 0.0000e+00 0.0000e+00 0.0000e+00]\n",
      " [1.0000e+00 2.3748e+04 7.4450e+01 ... 0.0000e+00 0.0000e+00 0.0000e+00]] [[1.0000e+00 2.7244e+04 7.0760e+01 ... 0.0000e+00 0.0000e+00 0.0000e+00]\n",
      " [1.0000e+00 2.2353e+04 0.0000e+00 ... 0.0000e+00 0.0000e+00 1.9600e+02]\n",
      " [1.0000e+00 1.7637e+04 1.0000e+02 ... 0.0000e+00 0.0000e+00 4.9000e+01]\n",
      " ...\n",
      " [1.0000e+00 4.7025e+04 1.0000e+02 ... 0.0000e+00 0.0000e+00 0.0000e+00]\n",
      " [1.0000e+00 4.1856e+04 1.0000e+02 ... 1.0000e+00 1.1300e+02 1.2769e+04]\n",
      " [1.0000e+00 3.1287e+04 1.0000e+02 ... 0.0000e+00 0.0000e+00 6.4000e+01]]\n",
      "(664, 12)\n",
      "(664, 91)\n"
     ]
    }
   ],
   "source": [
    "def polynomial(X, degree):    \n",
    "    X_poly = PolynomialFeatures(degree).fit(X)\n",
    "    \n",
    "    return X_poly\n",
    "\n",
    "X_polynomial = polynomial(X_train, 2)\n",
    "x_train = X_polynomial.transform(X_train)\n",
    "x_test = X_polynomial.transform(X_test)\n",
    "\n",
    "print(x_train, x_test)\n",
    "\n",
    "dataset = pd.DataFrame(x_train)\n",
    "\n",
    "\n",
    "# convert the array back to a dataframe\n",
    "# dataset = pd.DataFrame(X_polynomial)\n",
    "# summarize\n",
    "print(X_train.shape)\n",
    "print(dataset.shape)\n"
   ]
  },
  {
   "cell_type": "markdown",
   "metadata": {
    "id": "lSmT1E-TdZqV",
    "nbgrader": {
     "grade": false,
     "grade_id": "cell-9962d8a34afca4c5",
     "locked": true,
     "schema_version": 1,
     "solution": false
    }
   },
   "source": [
    "### Question 4b:\n",
    "Write your conclusions regarding the performance of the models of increasing complexity"
   ]
  },
  {
   "cell_type": "code",
   "execution_count": 13,
   "metadata": {
    "id": "OJ8eBIbOdZqM",
    "nbgrader": {
     "grade": true,
     "grade_id": "cell-dc744bd0d05ecf76",
     "locked": false,
     "points": 2,
     "schema_version": 1,
     "solution": true
    },
    "pycharm": {
     "is_executing": false
    }
   },
   "outputs": [
    {
     "name": "stdout",
     "output_type": "stream",
     "text": [
      "\n",
      "Degree 1 RMSE:  1510.6666616747175\n",
      "\n",
      "Degree 2 RMSE:  1225.4843223481769\n",
      "\n",
      "Degree 3 RMSE:  1129.41599793932\n",
      "\n",
      "Degree 4 RMSE:  1720.089943160478\n",
      "\n",
      "Degree 5 RMSE:  1838.9343590347542\n",
      "\n",
      "Degree 1 R^2:  0.5200539500927231\n",
      "\n",
      "Degree 2 R^2:  0.6841574401025243\n",
      "\n",
      "Degree 3 R^2:  0.7317356257194367\n",
      "\n",
      "Degree 4 R^2:  0.3777606889740156\n",
      "\n",
      "Degree 5 R^2:  0.2888068152050385\n"
     ]
    },
    {
     "data": {
      "text/plain": [
       "[<matplotlib.lines.Line2D at 0x1aac16cf088>]"
      ]
     },
     "execution_count": 13,
     "metadata": {},
     "output_type": "execute_result"
    },
    {
     "data": {
      "image/png": "[encoded data removed]",
      "text/plain": [
       "<Figure size 432x288 with 1 Axes>"
      ]
     },
     "metadata": {
      "needs_background": "light"
     },
     "output_type": "display_data"
    }
   ],
   "source": [
    "from sklearn.preprocessing import RobustScaler\n",
    "from sklearn.metrics import r2_score\n",
    "import matplotlib.pyplot as plt\n",
    "import matplotlib as mpl\n",
    "\n",
    "# Generate polynomial dataset (both training and test) of degrees 1, 2, 3, 4, 5\n",
    "# ////////////////////////////////////////////////////////////////////////////////////////////////\n",
    "'''DEGREE 1'''\n",
    "X_poly1 = polynomial(X_train, 1)\n",
    "X_trainpoly1 = X_poly1.transform(X_train)\n",
    "X_testpoly1 = X_poly1.transform(X_test)\n",
    "\n",
    "'''DEGREE 2'''\n",
    "X_poly2 = polynomial(X_train, 2)\n",
    "X_trainpoly2 = X_poly2.transform(X_train)\n",
    "X_testpoly2 = X_poly2.transform(X_test)\n",
    "\n",
    "'''DEGREE 3'''\n",
    "X_poly3 = polynomial(X_train, 3)\n",
    "X_trainpoly3 = X_poly3.transform(X_train)\n",
    "X_testpoly3 = X_poly3.transform(X_test)\n",
    "\n",
    "'''DEGREE 4'''\n",
    "X_poly4 = polynomial(X_train, 4)\n",
    "X_trainpoly4 = X_poly4.transform(X_train)\n",
    "X_testpoly4 = X_poly4.transform(X_test)\n",
    "\n",
    "'''DEGREE 5'''\n",
    "X_poly5 = polynomial(X_train, 5)\n",
    "X_trainpoly5 = X_poly5.transform(X_train)\n",
    "X_testpoly5 = X_poly5.transform(X_test)\n",
    "\n",
    "# Scale all features using the RobustScaler\n",
    "# ////////////////////////////////////////////////////////////////////////////////////////////////\n",
    "'''DEGREE 1'''\n",
    "X_trainscaledpolytransformer1 = RobustScaler().fit(X_trainpoly1)\n",
    "X_trainscaledpoly1 = X_trainscaledpolytransformer1.transform(X_trainpoly1)\n",
    "\n",
    "# X_testscaledpolytransformer1 = RobustScaler().fit(X_testpoly1)\n",
    "# X_testscaledpoly1 = X_testscaledpolytransformer1.transform(X_testpoly1)\n",
    "\n",
    "# print(X_trainscaledpoly1)\n",
    "# print(len(X_testscaledpoly1))\n",
    "\n",
    "'''DEGREE 2'''\n",
    "X_trainscaledpolytransformer2 = RobustScaler().fit(X_trainpoly2)\n",
    "X_trainscaledpoly2 = X_trainscaledpolytransformer2.transform(X_trainpoly2)\n",
    "\n",
    "X_testscaledpolytransformer2 = RobustScaler().fit(X_testpoly2)\n",
    "X_testscaledpoly2 = X_testscaledpolytransformer2.transform(X_testpoly2)\n",
    "\n",
    "'''DEGREE 3'''\n",
    "X_trainscaledpolytransformer3 = RobustScaler().fit(X_trainpoly3)\n",
    "X_trainscaledpoly3 = X_trainscaledpolytransformer3.transform(X_trainpoly3)\n",
    "\n",
    "X_testscaledpolytransformer3 = RobustScaler().fit(X_testpoly3)\n",
    "X_testscaledpoly3 = X_testscaledpolytransformer3.transform(X_testpoly3)\n",
    "\n",
    "'''DEGREE 4'''\n",
    "X_trainscaledpolytransformer4 = RobustScaler().fit(X_trainpoly4)\n",
    "X_trainscaledpoly4 = X_trainscaledpolytransformer4.transform(X_trainpoly4)\n",
    "\n",
    "X_testscaledpolytransformer4 = RobustScaler().fit(X_testpoly4)\n",
    "X_testscaledpoly4 = X_testscaledpolytransformer4.transform(X_testpoly4)\n",
    "\n",
    "'''DEGREE 5'''\n",
    "X_trainscaledpolytransformer5 = RobustScaler().fit(X_trainpoly5)\n",
    "X_trainscaledpoly5 = X_trainscaledpolytransformer5.transform(X_trainpoly5)\n",
    "\n",
    "X_testscaledpolytransformer5 = RobustScaler().fit(X_testpoly5)\n",
    "X_testscaledpoly5 = X_testscaledpolytransformer5.transform(X_testpoly5)\n",
    "\n",
    "\n",
    "# Compute and print RMSE using your code above on the training set and on the test set\n",
    "# ////////////////////////////////////////////////////////////////////////////////////////////////\n",
    "'''DEGREE 1'''\n",
    "X_model1 = train_linregmodel(X_trainscaledpoly1, Y_train)\n",
    "X_predictions1 = X_model1.predict(X_trainscaledpoly1)\n",
    "X_rmse1 = rmse(Y_train, X_predictions1)\n",
    "print(\"\\nDegree 1 RMSE: \", X_rmse1)\n",
    "\n",
    "'''DEGREE 2'''\n",
    "X_model2 = train_linregmodel(X_trainscaledpoly2, Y_train)\n",
    "X_predictions2 = X_model2.predict(X_trainscaledpoly2)\n",
    "X_rmse2 = rmse(Y_train, X_predictions2)\n",
    "print(\"\\nDegree 2 RMSE: \", X_rmse2)\n",
    "\n",
    "'''DEGREE 3'''\n",
    "X_model3 = train_linregmodel(X_trainscaledpoly3, Y_train)\n",
    "X_predictions3 = X_model3.predict(X_trainscaledpoly3)\n",
    "X_rmse3 = rmse(Y_train, X_predictions3)\n",
    "print(\"\\nDegree 3 RMSE: \", X_rmse3)\n",
    "\n",
    "'''DEGREE 4'''\n",
    "X_model4 = train_linregmodel(X_trainscaledpoly4, Y_train)\n",
    "X_predictions4 = X_model4.predict(X_trainscaledpoly4)\n",
    "X_rmse4 = rmse(Y_train, X_predictions4)\n",
    "print(\"\\nDegree 4 RMSE: \", X_rmse4)\n",
    "\n",
    "'''DEGREE 5'''\n",
    "X_model5 = train_linregmodel(X_trainscaledpoly5, Y_train)\n",
    "X_predictions5 = X_model5.predict(X_trainscaledpoly5)\n",
    "X_rmse5 = rmse(Y_train, X_predictions5)\n",
    "print(\"\\nDegree 5 RMSE: \", X_rmse5)\n",
    "\n",
    "# Compute and print R^2 on the training set and on the test set\n",
    "# ////////////////////////////////////////////////////////////////////////////////////////////////\n",
    "'''DEGREE 1'''\n",
    "X_rsq1 = r2_score(Y_train, X_predictions1)\n",
    "print(\"\\nDegree 1 R^2: \", X_rsq1)\n",
    "\n",
    "'''DEGREE 2'''\n",
    "X_rsq2 = r2_score(Y_train, X_predictions2)\n",
    "print(\"\\nDegree 2 R^2: \", X_rsq2)\n",
    "\n",
    "'''DEGREE 3'''\n",
    "X_rsq3 = r2_score(Y_train, X_predictions3)\n",
    "print(\"\\nDegree 3 R^2: \", X_rsq3)\n",
    "\n",
    "'''DEGREE 4'''\n",
    "X_rsq4 = r2_score(Y_train, X_predictions4)\n",
    "print(\"\\nDegree 4 R^2: \", X_rsq4)\n",
    "\n",
    "'''DEGREE 5'''\n",
    "X_rsq5 = r2_score(Y_train, X_predictions5)\n",
    "print(\"\\nDegree 5 R^2: \", X_rsq5)\n",
    "\n",
    "# Generate a plot with the x-axis representing the complexity of the model (i.e. the degree of the polynomial features)\n",
    "# Make the degree range from 1 to 5. The y-axis should represent the RMSE. Plot a line for degree = 1, 2, 3, 4, and 5\n",
    "# for the training error and the test error.\n",
    "# ////////////////////////////////////////////////////////////////////////////////////////////////\n",
    "plt.plot([1, 2, 3, 4, 5], [X_rmse1, X_rmse2, X_rmse3, X_rmse4, X_rmse5])\n",
    "\n"
   ]
  },
  {
   "cell_type": "markdown",
   "metadata": {
    "id": "VLG8k-ajdZqW"
   },
   "source": [
    "<span style=\"color:blue\">As visible in the plot, the model that gives the most accurate predictions seems to be the\n",
    "third degree polynomial. This model gives the lowest RMSE and the R^2 closest to 1.\n",
    "As the polynomial degree increases past 3 the model starts to overfit and the error increases.\n",
    "</span>"
   ]
  },
  {
   "cell_type": "markdown",
   "metadata": {
    "id": "3hdgIABvdZqY",
    "nbgrader": {
     "grade": false,
     "grade_id": "cell-6c5dc39115a9346c",
     "locked": true,
     "schema_version": 1,
     "solution": false
    }
   },
   "source": [
    "## Part 5. Regularization [2pts]\n",
    "\n",
    "1. Feature selection using regularization\n",
    "2. Training/validation/test split\n",
    "3. Find the optimal parameter for the regularizer\n",
    "4. Compare linear regression with and without regularization"
   ]
  },
  {
   "cell_type": "markdown",
   "metadata": {
    "id": "BBaIxTc8H_lS",
    "nbgrader": {
     "grade": false,
     "grade_id": "cell-6a938bf9f7024e22",
     "locked": true,
     "schema_version": 1,
     "solution": false
    }
   },
   "source": [
    "### Question 5a:\n",
    "Create a function that applies regularization, choose the \\lambda parameter (i.e. the alpha in python) equal to 500."
   ]
  },
  {
   "cell_type": "code",
   "execution_count": 14,
   "metadata": {
    "id": "_bf-aCWqH_lS",
    "nbgrader": {
     "grade": false,
     "grade_id": "cell-cb499aece0330317",
     "locked": false,
     "schema_version": 1,
     "solution": true
    },
    "pycharm": {
     "is_executing": false
    }
   },
   "outputs": [],
   "source": [
    "def regularization(X, Y, lambd = 500):\n",
    "    model = linear_model.Ridge(alpha = lambd)\n",
    "    model.fit(X, Y)\n",
    "\n",
    "    return model\n"
   ]
  },
  {
   "cell_type": "markdown",
   "metadata": {
    "id": "kczALy-8dZqZ",
    "nbgrader": {
     "grade": false,
     "grade_id": "cell-3f69bcc72259b460",
     "locked": true,
     "schema_version": 1,
     "solution": false
    }
   },
   "source": [
    "### Question 5b:\n",
    "Compare the performance of the linear regression with and without regularization. Use the 2 degree polynomial features constructed at question 4b."
   ]
  },
  {
   "cell_type": "code",
   "execution_count": 15,
   "metadata": {
    "id": "sH5XWcISdZqZ",
    "nbgrader": {
     "grade": true,
     "grade_id": "cell-039145c67e2bd279",
     "locked": false,
     "points": 0.5,
     "schema_version": 1,
     "solution": true
    },
    "pycharm": {
     "is_executing": false
    }
   },
   "outputs": [
    {
     "name": "stderr",
     "output_type": "stream",
     "text": [
      "D:\\Anaconda\\lib\\site-packages\\sklearn\\linear_model\\_ridge.py:148: LinAlgWarning: Ill-conditioned matrix (rcond=1.09543e-17): result may not be accurate.\n",
      "  overwrite_a=True).T\n"
     ]
    },
    {
     "data": {
      "text/plain": [
       "array([  2848.32421789,   3070.863629  ,   5482.55079117,   3740.41434829,\n",
       "         2749.08510722,   2930.82899465,   3603.7364463 ,   5024.70042872,\n",
       "         5075.43961665,   4482.42873864,   5833.2790964 ,   3747.41845701,\n",
       "         2061.88922011,   3605.52512992,   3311.02862537,   2203.45080819,\n",
       "         3429.85491741,   3442.55319103,   2924.533614  ,   7430.71083203,\n",
       "         3359.48967959,   4232.1176464 ,   3561.59630757,   6493.5591696 ,\n",
       "         3291.45307856,   3013.7638149 ,   1632.50905363,   2097.73341236,\n",
       "         4707.12681954,   3891.74967663,   1900.57544878,   2791.38350109,\n",
       "         4542.68401412,   4317.61213261,   3536.4636647 ,   2564.60330595,\n",
       "         2963.73214419,   2976.43922669,   2723.19753161,   2746.40386529,\n",
       "         2066.1152816 ,   5632.13822039,   2692.2326963 ,   3333.66535334,\n",
       "         3509.17625767,   2333.77353887,   4993.22039548,   7830.71635616,\n",
       "         4924.25825636,   5603.73666727,   3052.96452287,   3077.99665842,\n",
       "         5070.27601857,   4255.84350399,   2743.32746919,   3857.28728026,\n",
       "         4366.35447894,   2280.06278178,   2415.50246223,   2312.57072664,\n",
       "         7909.70977051,   4516.89380512,   4928.10766309,   3815.95541819,\n",
       "         5820.89315904,   3941.90406892,   2636.91478841,   2085.08306483,\n",
       "         3984.67987092,  51581.22213588,   8133.08574345,   2884.73696286,\n",
       "         4363.73542108,   2050.53123161,   7989.38091604,   3795.28138051,\n",
       "         5803.30372683,   3391.40478808,   3916.30357783,   3974.84729513,\n",
       "         5186.01652722,   6472.03798399,   2647.01989565,   3378.23785809,\n",
       "         3709.15332822,   3908.72907002,   6834.16776736,   4293.54775601,\n",
       "         4572.04508232,   3765.69928784,   6568.53125342,   2529.84917357,\n",
       "         2990.1530496 ,   3019.79985649,   4382.48988042,   2774.59619796,\n",
       "         3664.29749657,   2488.8337627 ,   3432.11099419,   2571.10551196,\n",
       "         3637.67103083,   3341.33897062,   2751.21863593,   3232.64085063,\n",
       "         2097.32041324,   7407.87854313,   2108.31700722,   3562.42216342,\n",
       "         5639.8395558 ,   4088.32560815,   2852.36608271,   4601.61339733,\n",
       "         2398.70067483,   4194.19999344,   2602.33638267,   2964.28419442,\n",
       "         3807.28950811,   3929.67224152,   2900.90016613,   2507.49607717,\n",
       "         2592.78486843,   3423.02187885,   3281.4877513 ,   2477.87105343,\n",
       "         3951.16374969,   4091.26787463,   3051.48101911,   3711.07214186,\n",
       "         4969.00659891,   2204.66226858,   3792.03973947,   8456.65549091,\n",
       "         4180.842549  ,   5492.06796258,   2662.71249219,   4017.71803841,\n",
       "         3537.31074124,   1610.59233584,   2357.20655533,   5141.41417914,\n",
       "         3296.46269995,   3228.37885334,  11740.9972748 ,   5090.64633877,\n",
       "         3288.6884774 ,   5487.06972801,   4102.97193033,   5275.970736  ,\n",
       "         3221.39500213,   3508.14071618,   4402.13222917,   3825.91274104,\n",
       "         2922.00700151,   2966.96435594,   3449.62741067,   3287.82842818,\n",
       "         3640.48878943,   5026.6509912 ,   5156.10300956,   1933.59727925,\n",
       "         3122.54358474,   3190.99689384,   4198.25095856,   2878.9013677 ,\n",
       "         2630.03171827,   4674.09877435,   3745.59534448,   2445.13376622,\n",
       "         6892.99793771,   4079.77186538,   2852.453169  ,   3022.10972748,\n",
       "         5370.63017896,   2821.77956698,   1748.1399291 ,   2800.79204205,\n",
       "         4150.46966192,   2858.17249768,   2557.20342479,   3643.65339832,\n",
       "         3267.20518778,   3118.1603947 ,   4126.11481743,   2121.56207788,\n",
       "         2763.44686219,   6997.20547216,   3363.64723876,   3735.61273354,\n",
       "         3615.1941225 ,   4006.38628508,   3261.07890416,   3877.99234978,\n",
       "         3622.12407915,   2440.77469156,   2716.05384894,   2662.68009538,\n",
       "         2447.72321693,   3134.84268182,   4345.30305351,   2509.38702976,\n",
       "         5024.04506338,   3133.75827416,   2726.74583149,   3176.66231983,\n",
       "         2963.87306915,   4447.00560912,   4403.760683  ,   2932.47843712,\n",
       "         3146.91203458,   3091.00599437,   3374.28225653,   4268.62970572,\n",
       "         1870.74020308,   2455.91590118,   2627.62997074,   3702.33933467,\n",
       "         -396.35261616,   4116.27892777,   2108.50911962,   4753.11737698,\n",
       "         2251.15652853,   5574.47848844,   3915.45576779,   4297.11778519,\n",
       "         2361.3571351 ,   2514.89142449,   3621.12793438,   2988.18543649,\n",
       "         2299.45095044,   4677.09479866,   3382.44365176,   5881.34674125,\n",
       "         3502.85596096,   9078.2137866 ,   2577.16797904,   3529.75095999,\n",
       "         2819.01187144,   3423.67714665,   4266.25476245,   3596.56702018,\n",
       "         4709.99956812,   4392.90975913,   2642.32944979,   3790.83635591,\n",
       "         3823.57046988,   3638.59159768,   6944.10603214,   3556.61334359,\n",
       "         3868.12469622,   8552.58555426,   3552.8648506 ,   3033.5173192 ,\n",
       "         3587.15031461,   4270.18923682,   6000.98065632,   2603.29096258,\n",
       "         3265.10734172,   3549.33816837,   2540.26530617,   3249.83075267,\n",
       "         3594.99431837,   2501.71824252,   3161.69617465,   3105.66222063,\n",
       "         3341.03625624,   7459.00083658,   2902.47163728,   4447.08403012,\n",
       "         4286.95473728,   5758.14225762,   2207.85581409,   4075.83178701,\n",
       "         4736.8205437 ,   3970.41559732,   9151.6763991 ,   2921.77441443,\n",
       "         2513.08290809,   2565.11413616,   2431.7063971 , 147596.33729458,\n",
       "         3423.61582396,   3084.81492926,   2576.29724075,   6487.13811587,\n",
       "         3283.22436434])"
      ]
     },
     "execution_count": 15,
     "metadata": {},
     "output_type": "execute_result"
    }
   ],
   "source": [
    "# Apply the function from 5a for feature selection\n",
    "\n",
    "### BEGIN SOLUTION\n",
    "regu_model = regularization(X_trainscaledpoly2, Y_train)\n",
    "regu_model.predict(X_testscaledpoly2)\n",
    "### END SOLUTION"
   ]
  },
  {
   "cell_type": "code",
   "execution_count": 16,
   "metadata": {
    "id": "EaiaWLs8H_lS",
    "pycharm": {
     "is_executing": false
    }
   },
   "outputs": [
    {
     "name": "stdout",
     "output_type": "stream",
     "text": [
      "Non-regularized degree 2 polynomial RMSE\n",
      "Train:  1225.4843223481769\n",
      "Test:   9174.154087499555\n",
      "\n",
      "Regularized: \n",
      "Train:  1376.2639063279169\n",
      "Test:   9085.741464476292\n"
     ]
    }
   ],
   "source": [
    "# Compare the training and test RMSE of the linear regression with and without regularization\n",
    "\n",
    "### BEGIN SOLUTION\n",
    "print(\"Non-regularized degree 2 polynomial RMSE\")\n",
    "\n",
    "print(\"Train: \", X_rmse2)\n",
    "\n",
    "X_testscaledpolytransformer2 = RobustScaler().fit(X_testpoly2)\n",
    "X_testscaledpoly2 = X_testscaledpolytransformer2.transform(X_testpoly2)\n",
    "X_predictions2test = X_model2.predict(X_testscaledpoly2)\n",
    "X_rmse2test = rmse(Y_test, X_predictions2test)\n",
    "\n",
    "print(\"Test:  \", X_rmse2test)\n",
    "\n",
    "train_pred_reg = regu_model.predict(X_trainscaledpoly2)\n",
    "test_pred_reg = regu_model.predict(X_testscaledpoly2)\n",
    "\n",
    "# rmse(y_true, y_pred)\n",
    "# mae(y_true, y_pred)\n",
    "\n",
    "print(\"\\nRegularized: \")\n",
    "'''Train RMSE'''\n",
    "print(\"Train: \", rmse(Y_train, train_pred_reg))\n",
    "\n",
    "'''Test RMSE'''\n",
    "print(\"Test:  \", rmse(Y_test, test_pred_reg))\n",
    "\n",
    "\n",
    "\n",
    "### END SOLUTION"
   ]
  },
  {
   "cell_type": "code",
   "execution_count": 29,
   "metadata": {
    "id": "UWlo7sGUH_lS",
    "pycharm": {
     "is_executing": false
    }
   },
   "outputs": [
    {
     "name": "stdout",
     "output_type": "stream",
     "text": [
      "Found unselected feature\n",
      "Number of features before selection:  91\n",
      "Number of selected features  90\n"
     ]
    }
   ],
   "source": [
    "# Identify how many features were selected (i.e. had a non-zero parameter \\theta) by the regularized model\n",
    "\n",
    "### BEGIN SOLUTION\n",
    "i = 0\n",
    "for feature in regu_model.coef_:\n",
    "    if feature != 0:\n",
    "        i += 1\n",
    "    else:\n",
    "        print(\"Found unselected feature\")\n",
    "\n",
    "print(\"Number of features before selection: \", len(X_model2.coef_))\n",
    "print(\"Number of selected features \", i)\n",
    "### END SOLUTION"
   ]
  },
  {
   "cell_type": "markdown",
   "metadata": {
    "id": "nLBWaLc9dZqg"
   },
   "source": [
    "<span style=\"color:blue\">The regularized model seems to work slightly worse using the training data. However, it also seems to predict more accurately for unseen data, since the RMSE for the predictions using test data with the regularized model is slightly lower.</span>"
   ]
  },
  {
   "cell_type": "markdown",
   "metadata": {
    "id": "Q6HQ3BpZH_lT",
    "nbgrader": {
     "grade": false,
     "grade_id": "cell-cff313fb66d82eac",
     "locked": true,
     "schema_version": 1,
     "solution": false
    }
   },
   "source": [
    "### Question 5c:\n",
    "Compare the coefficients (i.e. the parameters \\theta) of the linear regression models with and without regularization.\n",
    "Plot them in a graph, where the x-axis is the index of a coefficient while the y-axis the magnitute of it. \n",
    "What do you observe?"
   ]
  },
  {
   "cell_type": "code",
   "execution_count": 18,
   "metadata": {
    "id": "k2ovwz0PdZql",
    "nbgrader": {
     "grade": true,
     "grade_id": "cell-2e1e400fa5995203",
     "locked": false,
     "points": 1,
     "schema_version": 1,
     "solution": true
    },
    "pycharm": {
     "is_executing": false
    }
   },
   "outputs": [
    {
     "data": {
      "image/png": "[encoded data removed]",
      "text/plain": [
       "<Figure size 432x288 with 1 Axes>"
      ]
     },
     "metadata": {
      "needs_background": "light"
     },
     "output_type": "display_data"
    }
   ],
   "source": [
    "# Plot the graph here\n",
    "\n",
    "### BEGIN SOLUTION\n",
    "plt.plot(range(0, len(X_model2.coef_)), X_model2.coef_, label = 'Degree 2 polynomial model')\n",
    "plt.plot(range(0, len(regu_model.coef_)), regu_model.coef_, label = 'Regularized model')\n",
    "\n",
    "plt.xlabel('Coefficient\\'s index ')\n",
    "plt.ylabel('Magnitude of coefficient')\n",
    "\n",
    "plt.legend()\n",
    "\n",
    "plt.show()\n",
    "### END SOLUTION"
   ]
  },
  {
   "cell_type": "markdown",
   "metadata": {
    "id": "IMJ9JOTNdZq0",
    "nbgrader": {
     "grade": false,
     "grade_id": "cell-61098ba6c5ba9428",
     "locked": true,
     "schema_version": 1,
     "solution": false
    }
   },
   "source": [
    "<span style=\"color:blue\">The coefficients of the 2nd degree polynomial show high variance (showing values between over 10000 and under -10000). After regularizing, the values show far less variance compared to the non-regularized model.</span>"
   ]
  },
  {
   "cell_type": "markdown",
   "metadata": {
    "id": "Hfx8ACDndZq1",
    "nbgrader": {
     "grade": false,
     "grade_id": "cell-da1188e07c24903f",
     "locked": true,
     "schema_version": 1,
     "solution": false
    }
   },
   "source": [
    "## Part 6: Categorical features [3 pts]\n",
    "\n",
    "Load again the entire dataset, without selecting specific features as you did in Part 1. The dataset now contains both *numerical* and *categorical* features."
   ]
  },
  {
   "cell_type": "code",
   "execution_count": 30,
   "metadata": {
    "id": "380x5yjMH_lT",
    "pycharm": {
     "is_executing": false
    }
   },
   "outputs": [
    {
     "data": {
      "text/html": [
       "<div>\n",
       "<style scoped>\n",
       "    .dataframe tbody tr th:only-of-type {\n",
       "        vertical-align: middle;\n",
       "    }\n",
       "\n",
       "    .dataframe tbody tr th {\n",
       "        vertical-align: top;\n",
       "    }\n",
       "\n",
       "    .dataframe thead th {\n",
       "        text-align: right;\n",
       "    }\n",
       "</style>\n",
       "<table border=\"1\" class=\"dataframe\">\n",
       "  <thead>\n",
       "    <tr style=\"text-align: right;\">\n",
       "      <th></th>\n",
       "      <th>State</th>\n",
       "      <th>perHoush</th>\n",
       "      <th>pct12-29</th>\n",
       "      <th>pct65up</th>\n",
       "      <th>pctUrban</th>\n",
       "      <th>pctPoverty</th>\n",
       "      <th>pctUnemploy</th>\n",
       "      <th>pctAllDivorc</th>\n",
       "      <th>pctHousOccup</th>\n",
       "      <th>persEmergShelt</th>\n",
       "      <th>persHomeless</th>\n",
       "      <th>nonViolPerPop</th>\n",
       "      <th>medIncome</th>\n",
       "      <th>pop</th>\n",
       "      <th>countyCode</th>\n",
       "    </tr>\n",
       "  </thead>\n",
       "  <tbody>\n",
       "    <tr>\n",
       "      <th>0</th>\n",
       "      <td>NJ</td>\n",
       "      <td>3.10</td>\n",
       "      <td>21.44</td>\n",
       "      <td>11.33</td>\n",
       "      <td>100.00</td>\n",
       "      <td>1.96</td>\n",
       "      <td>2.70</td>\n",
       "      <td>4.47</td>\n",
       "      <td>98.37</td>\n",
       "      <td>11</td>\n",
       "      <td>0</td>\n",
       "      <td>1394.59</td>\n",
       "      <td>75122.0</td>\n",
       "      <td>11980.0</td>\n",
       "      <td>39.0</td>\n",
       "    </tr>\n",
       "    <tr>\n",
       "      <th>1</th>\n",
       "      <td>PA</td>\n",
       "      <td>2.82</td>\n",
       "      <td>21.30</td>\n",
       "      <td>17.18</td>\n",
       "      <td>100.00</td>\n",
       "      <td>3.98</td>\n",
       "      <td>2.43</td>\n",
       "      <td>5.42</td>\n",
       "      <td>97.15</td>\n",
       "      <td>0</td>\n",
       "      <td>0</td>\n",
       "      <td>1955.95</td>\n",
       "      <td>NaN</td>\n",
       "      <td>23123.0</td>\n",
       "      <td>45.0</td>\n",
       "    </tr>\n",
       "    <tr>\n",
       "      <th>2</th>\n",
       "      <td>MN</td>\n",
       "      <td>2.76</td>\n",
       "      <td>40.53</td>\n",
       "      <td>12.65</td>\n",
       "      <td>0.00</td>\n",
       "      <td>29.99</td>\n",
       "      <td>9.08</td>\n",
       "      <td>9.73</td>\n",
       "      <td>92.45</td>\n",
       "      <td>2</td>\n",
       "      <td>0</td>\n",
       "      <td>9988.79</td>\n",
       "      <td>NaN</td>\n",
       "      <td>NaN</td>\n",
       "      <td>7.0</td>\n",
       "    </tr>\n",
       "    <tr>\n",
       "      <th>3</th>\n",
       "      <td>MA</td>\n",
       "      <td>2.60</td>\n",
       "      <td>27.41</td>\n",
       "      <td>14.42</td>\n",
       "      <td>100.00</td>\n",
       "      <td>4.01</td>\n",
       "      <td>4.85</td>\n",
       "      <td>7.64</td>\n",
       "      <td>95.11</td>\n",
       "      <td>0</td>\n",
       "      <td>0</td>\n",
       "      <td>1890.88</td>\n",
       "      <td>42805.0</td>\n",
       "      <td>28700.0</td>\n",
       "      <td>21.0</td>\n",
       "    </tr>\n",
       "    <tr>\n",
       "      <th>4</th>\n",
       "      <td>ND</td>\n",
       "      <td>2.46</td>\n",
       "      <td>35.16</td>\n",
       "      <td>8.58</td>\n",
       "      <td>100.00</td>\n",
       "      <td>13.68</td>\n",
       "      <td>4.18</td>\n",
       "      <td>8.64</td>\n",
       "      <td>95.07</td>\n",
       "      <td>125</td>\n",
       "      <td>15</td>\n",
       "      <td>4747.58</td>\n",
       "      <td>NaN</td>\n",
       "      <td>74111.0</td>\n",
       "      <td>17.0</td>\n",
       "    </tr>\n",
       "    <tr>\n",
       "      <th>...</th>\n",
       "      <td>...</td>\n",
       "      <td>...</td>\n",
       "      <td>...</td>\n",
       "      <td>...</td>\n",
       "      <td>...</td>\n",
       "      <td>...</td>\n",
       "      <td>...</td>\n",
       "      <td>...</td>\n",
       "      <td>...</td>\n",
       "      <td>...</td>\n",
       "      <td>...</td>\n",
       "      <td>...</td>\n",
       "      <td>...</td>\n",
       "      <td>...</td>\n",
       "      <td>...</td>\n",
       "    </tr>\n",
       "    <tr>\n",
       "      <th>944</th>\n",
       "      <td>MA</td>\n",
       "      <td>2.49</td>\n",
       "      <td>27.70</td>\n",
       "      <td>16.06</td>\n",
       "      <td>99.75</td>\n",
       "      <td>14.28</td>\n",
       "      <td>9.93</td>\n",
       "      <td>10.52</td>\n",
       "      <td>92.39</td>\n",
       "      <td>62</td>\n",
       "      <td>1</td>\n",
       "      <td>1623.79</td>\n",
       "      <td>22452.0</td>\n",
       "      <td>92703.0</td>\n",
       "      <td>5.0</td>\n",
       "    </tr>\n",
       "    <tr>\n",
       "      <th>945</th>\n",
       "      <td>NJ</td>\n",
       "      <td>2.71</td>\n",
       "      <td>26.72</td>\n",
       "      <td>8.78</td>\n",
       "      <td>60.02</td>\n",
       "      <td>4.58</td>\n",
       "      <td>4.51</td>\n",
       "      <td>12.26</td>\n",
       "      <td>90.52</td>\n",
       "      <td>0</td>\n",
       "      <td>0</td>\n",
       "      <td>5835.29</td>\n",
       "      <td>37594.0</td>\n",
       "      <td>24544.0</td>\n",
       "      <td>1.0</td>\n",
       "    </tr>\n",
       "    <tr>\n",
       "      <th>946</th>\n",
       "      <td>CT</td>\n",
       "      <td>2.54</td>\n",
       "      <td>27.72</td>\n",
       "      <td>13.39</td>\n",
       "      <td>100.00</td>\n",
       "      <td>6.06</td>\n",
       "      <td>5.45</td>\n",
       "      <td>10.93</td>\n",
       "      <td>93.85</td>\n",
       "      <td>64</td>\n",
       "      <td>0</td>\n",
       "      <td>5144.94</td>\n",
       "      <td>35723.0</td>\n",
       "      <td>NaN</td>\n",
       "      <td>9.0</td>\n",
       "    </tr>\n",
       "    <tr>\n",
       "      <th>947</th>\n",
       "      <td>ND</td>\n",
       "      <td>2.56</td>\n",
       "      <td>24.03</td>\n",
       "      <td>12.99</td>\n",
       "      <td>0.00</td>\n",
       "      <td>14.46</td>\n",
       "      <td>5.88</td>\n",
       "      <td>9.20</td>\n",
       "      <td>84.38</td>\n",
       "      <td>0</td>\n",
       "      <td>0</td>\n",
       "      <td>3817.93</td>\n",
       "      <td>22407.0</td>\n",
       "      <td>13131.0</td>\n",
       "      <td>105.0</td>\n",
       "    </tr>\n",
       "    <tr>\n",
       "      <th>948</th>\n",
       "      <td>NJ</td>\n",
       "      <td>2.57</td>\n",
       "      <td>24.90</td>\n",
       "      <td>15.33</td>\n",
       "      <td>100.00</td>\n",
       "      <td>4.33</td>\n",
       "      <td>4.13</td>\n",
       "      <td>8.98</td>\n",
       "      <td>97.03</td>\n",
       "      <td>0</td>\n",
       "      <td>0</td>\n",
       "      <td>1992.98</td>\n",
       "      <td>37664.0</td>\n",
       "      <td>10567.0</td>\n",
       "      <td>35.0</td>\n",
       "    </tr>\n",
       "  </tbody>\n",
       "</table>\n",
       "<p>949 rows × 15 columns</p>\n",
       "</div>"
      ],
      "text/plain": [
       "    State  perHoush  pct12-29  pct65up  pctUrban  pctPoverty  pctUnemploy  \\\n",
       "0      NJ      3.10     21.44    11.33    100.00        1.96         2.70   \n",
       "1      PA      2.82     21.30    17.18    100.00        3.98         2.43   \n",
       "2      MN      2.76     40.53    12.65      0.00       29.99         9.08   \n",
       "3      MA      2.60     27.41    14.42    100.00        4.01         4.85   \n",
       "4      ND      2.46     35.16     8.58    100.00       13.68         4.18   \n",
       "..    ...       ...       ...      ...       ...         ...          ...   \n",
       "944    MA      2.49     27.70    16.06     99.75       14.28         9.93   \n",
       "945    NJ      2.71     26.72     8.78     60.02        4.58         4.51   \n",
       "946    CT      2.54     27.72    13.39    100.00        6.06         5.45   \n",
       "947    ND      2.56     24.03    12.99      0.00       14.46         5.88   \n",
       "948    NJ      2.57     24.90    15.33    100.00        4.33         4.13   \n",
       "\n",
       "     pctAllDivorc  pctHousOccup  persEmergShelt  persHomeless  nonViolPerPop  \\\n",
       "0            4.47         98.37              11             0        1394.59   \n",
       "1            5.42         97.15               0             0        1955.95   \n",
       "2            9.73         92.45               2             0        9988.79   \n",
       "3            7.64         95.11               0             0        1890.88   \n",
       "4            8.64         95.07             125            15        4747.58   \n",
       "..            ...           ...             ...           ...            ...   \n",
       "944         10.52         92.39              62             1        1623.79   \n",
       "945         12.26         90.52               0             0        5835.29   \n",
       "946         10.93         93.85              64             0        5144.94   \n",
       "947          9.20         84.38               0             0        3817.93   \n",
       "948          8.98         97.03               0             0        1992.98   \n",
       "\n",
       "     medIncome      pop  countyCode  \n",
       "0      75122.0  11980.0        39.0  \n",
       "1          NaN  23123.0        45.0  \n",
       "2          NaN      NaN         7.0  \n",
       "3      42805.0  28700.0        21.0  \n",
       "4          NaN  74111.0        17.0  \n",
       "..         ...      ...         ...  \n",
       "944    22452.0  92703.0         5.0  \n",
       "945    37594.0  24544.0         1.0  \n",
       "946    35723.0      NaN         9.0  \n",
       "947    22407.0  13131.0       105.0  \n",
       "948    37664.0  10567.0        35.0  \n",
       "\n",
       "[949 rows x 15 columns]"
      ]
     },
     "metadata": {},
     "output_type": "display_data"
    }
   ],
   "source": [
    "df = pd.read_csv(csv_path, sep=',', header = 0,\n",
    "                )\n",
    "\n",
    "df.dropna(subset=['nonViolPerPop'],axis=0, inplace=True)\n",
    "\n",
    "display(df)"
   ]
  },
  {
   "cell_type": "markdown",
   "metadata": {
    "id": "jfFxnBmXH_lU"
   },
   "source": [
    "### Question 6a:\n",
    "Look at the description of the features. Which of the features are or should be treated as categorical? Add the column names in a list."
   ]
  },
  {
   "cell_type": "code",
   "execution_count": 31,
   "metadata": {
    "id": "l7zA8DugH_lU",
    "pycharm": {
     "is_executing": false
    }
   },
   "outputs": [],
   "source": [
    "### BEGIN SOLUTION\n",
    "categorical_features = ['State', 'countyCode']\n",
    "### END SOLUTION"
   ]
  },
  {
   "cell_type": "markdown",
   "metadata": {
    "id": "hKofgW7BH_lU"
   },
   "source": [
    "### Question 6b [Research]:\n",
    "Impute values using the median, on the entire dataset (regardless of train/test split). \n",
    "Does it make sense to impute values for all missing features? If yes, do so. Otherwise explain and drop rows containing missing values you can't replace.\n",
    "\n",
    "Hint: If you want to impute missing values only for some specific columns, you can refer to this link: https://stackoverflow.com/questions/38584184/imputer-on-some-dataframe-columns-in-python"
   ]
  },
  {
   "cell_type": "code",
   "execution_count": 32,
   "metadata": {
    "id": "CDiL6DMuH_lU",
    "pycharm": {
     "is_executing": false
    }
   },
   "outputs": [
    {
     "name": "stdout",
     "output_type": "stream",
     "text": [
      "Found nan value in  medIncome\n",
      "Found nan value in  pop\n",
      "Found nan value in  countyCode\n"
     ]
    }
   ],
   "source": [
    "from sklearn.impute import SimpleImputer\n",
    "\n",
    "def check_for_nan(df):\n",
    "    for col in df:\n",
    "        for item in df[col]:\n",
    "            if pd.isna(item):\n",
    "                print(\"Found nan value in \", col)\n",
    "                break\n",
    "\n",
    "check_for_nan(df)\n",
    "\n",
    "# Impute median on rows found to have NaN values\n",
    "imp_median = SimpleImputer(missing_values=np.nan, strategy='median')\n",
    "q = imp_median.fit_transform(df[['pop', 'medIncome']]).T\n",
    "df['pop'] = q[0]\n",
    "df['medIncome'] = q[1]\n",
    "\n",
    "# Drop rows with NaN countyCode entries\n",
    "df = df.dropna(subset = ['countyCode'])\n",
    "check_for_nan(df)\n"
   ]
  },
  {
   "cell_type": "markdown",
   "metadata": {
    "id": "wOFCCfP2H_lU"
   },
   "source": [
    "<span style=\"color:blue\">In this example of categorical features it does not make sense to impute all missing features. In the case of the countyCode, some states have more counties than other states. If the median of the countyCode of all states is 40 but a state only has less than 40 counties it is impossible to fill the missing feature with that median.</span>"
   ]
  },
  {
   "cell_type": "markdown",
   "metadata": {
    "id": "OGSSS-7PH_lU"
   },
   "source": [
    "### Question 6c:\n",
    "Have another look at the data, specifically the two new added features. Do you consider them useful/meaningful predictors for a (linear) Logistic Regression model? Explain.\n",
    "\n",
    "Can you think of doing something that can help a linear model take advantage of some additional information? If so, implement your solution.\n"
   ]
  },
  {
   "cell_type": "code",
   "execution_count": 33,
   "metadata": {
    "id": "cXW8xPbUH_lU",
    "pycharm": {
     "is_executing": false
    }
   },
   "outputs": [],
   "source": [
    "### BEGIN SOLUTION\n",
    "\n",
    "\n",
    "\n",
    "### END SOLUTION"
   ]
  },
  {
   "cell_type": "markdown",
   "metadata": {
    "id": "EoUNKbnsH_lV"
   },
   "source": [
    "<span style=\"color:blue\">We can use non-continuous variables in our model features by using one-hot encoding for example. This can give more insight into the importance of these variables.</span>"
   ]
  },
  {
   "cell_type": "markdown",
   "metadata": {
    "id": "OuU-gyqAH_lV"
   },
   "source": [
    "### Question 6d:\n",
    "One hot encode the categorical features, then merge them back into the original dataframe/array."
   ]
  },
  {
   "cell_type": "code",
   "execution_count": 34,
   "metadata": {
    "id": "S2VNmYKSH_lV",
    "pycharm": {
     "is_executing": false
    }
   },
   "outputs": [
    {
     "data": {
      "text/html": [
       "<div>\n",
       "<style scoped>\n",
       "    .dataframe tbody tr th:only-of-type {\n",
       "        vertical-align: middle;\n",
       "    }\n",
       "\n",
       "    .dataframe tbody tr th {\n",
       "        vertical-align: top;\n",
       "    }\n",
       "\n",
       "    .dataframe thead th {\n",
       "        text-align: right;\n",
       "    }\n",
       "</style>\n",
       "<table border=\"1\" class=\"dataframe\">\n",
       "  <thead>\n",
       "    <tr style=\"text-align: right;\">\n",
       "      <th></th>\n",
       "      <th>State</th>\n",
       "      <th>perHoush</th>\n",
       "      <th>pct12-29</th>\n",
       "      <th>pct65up</th>\n",
       "      <th>pctUrban</th>\n",
       "      <th>pctPoverty</th>\n",
       "      <th>pctUnemploy</th>\n",
       "      <th>pctAllDivorc</th>\n",
       "      <th>pctHousOccup</th>\n",
       "      <th>persEmergShelt</th>\n",
       "      <th>...</th>\n",
       "      <th>750.0</th>\n",
       "      <th>760.0</th>\n",
       "      <th>770.0</th>\n",
       "      <th>775.0</th>\n",
       "      <th>790.0</th>\n",
       "      <th>800.0</th>\n",
       "      <th>810.0</th>\n",
       "      <th>820.0</th>\n",
       "      <th>830.0</th>\n",
       "      <th>840.0</th>\n",
       "    </tr>\n",
       "  </thead>\n",
       "  <tbody>\n",
       "    <tr>\n",
       "      <th>0</th>\n",
       "      <td>NJ</td>\n",
       "      <td>3.10</td>\n",
       "      <td>21.44</td>\n",
       "      <td>11.33</td>\n",
       "      <td>100.00</td>\n",
       "      <td>1.96</td>\n",
       "      <td>2.70</td>\n",
       "      <td>4.47</td>\n",
       "      <td>98.37</td>\n",
       "      <td>11</td>\n",
       "      <td>...</td>\n",
       "      <td>0</td>\n",
       "      <td>0</td>\n",
       "      <td>0</td>\n",
       "      <td>0</td>\n",
       "      <td>0</td>\n",
       "      <td>0</td>\n",
       "      <td>0</td>\n",
       "      <td>0</td>\n",
       "      <td>0</td>\n",
       "      <td>0</td>\n",
       "    </tr>\n",
       "    <tr>\n",
       "      <th>1</th>\n",
       "      <td>PA</td>\n",
       "      <td>2.82</td>\n",
       "      <td>21.30</td>\n",
       "      <td>17.18</td>\n",
       "      <td>100.00</td>\n",
       "      <td>3.98</td>\n",
       "      <td>2.43</td>\n",
       "      <td>5.42</td>\n",
       "      <td>97.15</td>\n",
       "      <td>0</td>\n",
       "      <td>...</td>\n",
       "      <td>0</td>\n",
       "      <td>0</td>\n",
       "      <td>0</td>\n",
       "      <td>0</td>\n",
       "      <td>0</td>\n",
       "      <td>0</td>\n",
       "      <td>0</td>\n",
       "      <td>0</td>\n",
       "      <td>0</td>\n",
       "      <td>0</td>\n",
       "    </tr>\n",
       "    <tr>\n",
       "      <th>2</th>\n",
       "      <td>MN</td>\n",
       "      <td>2.76</td>\n",
       "      <td>40.53</td>\n",
       "      <td>12.65</td>\n",
       "      <td>0.00</td>\n",
       "      <td>29.99</td>\n",
       "      <td>9.08</td>\n",
       "      <td>9.73</td>\n",
       "      <td>92.45</td>\n",
       "      <td>2</td>\n",
       "      <td>...</td>\n",
       "      <td>0</td>\n",
       "      <td>0</td>\n",
       "      <td>0</td>\n",
       "      <td>0</td>\n",
       "      <td>0</td>\n",
       "      <td>0</td>\n",
       "      <td>0</td>\n",
       "      <td>0</td>\n",
       "      <td>0</td>\n",
       "      <td>0</td>\n",
       "    </tr>\n",
       "    <tr>\n",
       "      <th>3</th>\n",
       "      <td>MA</td>\n",
       "      <td>2.60</td>\n",
       "      <td>27.41</td>\n",
       "      <td>14.42</td>\n",
       "      <td>100.00</td>\n",
       "      <td>4.01</td>\n",
       "      <td>4.85</td>\n",
       "      <td>7.64</td>\n",
       "      <td>95.11</td>\n",
       "      <td>0</td>\n",
       "      <td>...</td>\n",
       "      <td>0</td>\n",
       "      <td>0</td>\n",
       "      <td>0</td>\n",
       "      <td>0</td>\n",
       "      <td>0</td>\n",
       "      <td>0</td>\n",
       "      <td>0</td>\n",
       "      <td>0</td>\n",
       "      <td>0</td>\n",
       "      <td>0</td>\n",
       "    </tr>\n",
       "    <tr>\n",
       "      <th>4</th>\n",
       "      <td>ND</td>\n",
       "      <td>2.46</td>\n",
       "      <td>35.16</td>\n",
       "      <td>8.58</td>\n",
       "      <td>100.00</td>\n",
       "      <td>13.68</td>\n",
       "      <td>4.18</td>\n",
       "      <td>8.64</td>\n",
       "      <td>95.07</td>\n",
       "      <td>125</td>\n",
       "      <td>...</td>\n",
       "      <td>0</td>\n",
       "      <td>0</td>\n",
       "      <td>0</td>\n",
       "      <td>0</td>\n",
       "      <td>0</td>\n",
       "      <td>0</td>\n",
       "      <td>0</td>\n",
       "      <td>0</td>\n",
       "      <td>0</td>\n",
       "      <td>0</td>\n",
       "    </tr>\n",
       "    <tr>\n",
       "      <th>...</th>\n",
       "      <td>...</td>\n",
       "      <td>...</td>\n",
       "      <td>...</td>\n",
       "      <td>...</td>\n",
       "      <td>...</td>\n",
       "      <td>...</td>\n",
       "      <td>...</td>\n",
       "      <td>...</td>\n",
       "      <td>...</td>\n",
       "      <td>...</td>\n",
       "      <td>...</td>\n",
       "      <td>...</td>\n",
       "      <td>...</td>\n",
       "      <td>...</td>\n",
       "      <td>...</td>\n",
       "      <td>...</td>\n",
       "      <td>...</td>\n",
       "      <td>...</td>\n",
       "      <td>...</td>\n",
       "      <td>...</td>\n",
       "      <td>...</td>\n",
       "    </tr>\n",
       "    <tr>\n",
       "      <th>944</th>\n",
       "      <td>MA</td>\n",
       "      <td>2.49</td>\n",
       "      <td>27.70</td>\n",
       "      <td>16.06</td>\n",
       "      <td>99.75</td>\n",
       "      <td>14.28</td>\n",
       "      <td>9.93</td>\n",
       "      <td>10.52</td>\n",
       "      <td>92.39</td>\n",
       "      <td>62</td>\n",
       "      <td>...</td>\n",
       "      <td>0</td>\n",
       "      <td>0</td>\n",
       "      <td>0</td>\n",
       "      <td>0</td>\n",
       "      <td>0</td>\n",
       "      <td>0</td>\n",
       "      <td>0</td>\n",
       "      <td>0</td>\n",
       "      <td>0</td>\n",
       "      <td>0</td>\n",
       "    </tr>\n",
       "    <tr>\n",
       "      <th>945</th>\n",
       "      <td>NJ</td>\n",
       "      <td>2.71</td>\n",
       "      <td>26.72</td>\n",
       "      <td>8.78</td>\n",
       "      <td>60.02</td>\n",
       "      <td>4.58</td>\n",
       "      <td>4.51</td>\n",
       "      <td>12.26</td>\n",
       "      <td>90.52</td>\n",
       "      <td>0</td>\n",
       "      <td>...</td>\n",
       "      <td>0</td>\n",
       "      <td>0</td>\n",
       "      <td>0</td>\n",
       "      <td>0</td>\n",
       "      <td>0</td>\n",
       "      <td>0</td>\n",
       "      <td>0</td>\n",
       "      <td>0</td>\n",
       "      <td>0</td>\n",
       "      <td>0</td>\n",
       "    </tr>\n",
       "    <tr>\n",
       "      <th>946</th>\n",
       "      <td>CT</td>\n",
       "      <td>2.54</td>\n",
       "      <td>27.72</td>\n",
       "      <td>13.39</td>\n",
       "      <td>100.00</td>\n",
       "      <td>6.06</td>\n",
       "      <td>5.45</td>\n",
       "      <td>10.93</td>\n",
       "      <td>93.85</td>\n",
       "      <td>64</td>\n",
       "      <td>...</td>\n",
       "      <td>0</td>\n",
       "      <td>0</td>\n",
       "      <td>0</td>\n",
       "      <td>0</td>\n",
       "      <td>0</td>\n",
       "      <td>0</td>\n",
       "      <td>0</td>\n",
       "      <td>0</td>\n",
       "      <td>0</td>\n",
       "      <td>0</td>\n",
       "    </tr>\n",
       "    <tr>\n",
       "      <th>947</th>\n",
       "      <td>ND</td>\n",
       "      <td>2.56</td>\n",
       "      <td>24.03</td>\n",
       "      <td>12.99</td>\n",
       "      <td>0.00</td>\n",
       "      <td>14.46</td>\n",
       "      <td>5.88</td>\n",
       "      <td>9.20</td>\n",
       "      <td>84.38</td>\n",
       "      <td>0</td>\n",
       "      <td>...</td>\n",
       "      <td>0</td>\n",
       "      <td>0</td>\n",
       "      <td>0</td>\n",
       "      <td>0</td>\n",
       "      <td>0</td>\n",
       "      <td>0</td>\n",
       "      <td>0</td>\n",
       "      <td>0</td>\n",
       "      <td>0</td>\n",
       "      <td>0</td>\n",
       "    </tr>\n",
       "    <tr>\n",
       "      <th>948</th>\n",
       "      <td>NJ</td>\n",
       "      <td>2.57</td>\n",
       "      <td>24.90</td>\n",
       "      <td>15.33</td>\n",
       "      <td>100.00</td>\n",
       "      <td>4.33</td>\n",
       "      <td>4.13</td>\n",
       "      <td>8.98</td>\n",
       "      <td>97.03</td>\n",
       "      <td>0</td>\n",
       "      <td>...</td>\n",
       "      <td>0</td>\n",
       "      <td>0</td>\n",
       "      <td>0</td>\n",
       "      <td>0</td>\n",
       "      <td>0</td>\n",
       "      <td>0</td>\n",
       "      <td>0</td>\n",
       "      <td>0</td>\n",
       "      <td>0</td>\n",
       "      <td>0</td>\n",
       "    </tr>\n",
       "  </tbody>\n",
       "</table>\n",
       "<p>921 rows × 150 columns</p>\n",
       "</div>"
      ],
      "text/plain": [
       "    State  perHoush  pct12-29  pct65up  pctUrban  pctPoverty  pctUnemploy  \\\n",
       "0      NJ      3.10     21.44    11.33    100.00        1.96         2.70   \n",
       "1      PA      2.82     21.30    17.18    100.00        3.98         2.43   \n",
       "2      MN      2.76     40.53    12.65      0.00       29.99         9.08   \n",
       "3      MA      2.60     27.41    14.42    100.00        4.01         4.85   \n",
       "4      ND      2.46     35.16     8.58    100.00       13.68         4.18   \n",
       "..    ...       ...       ...      ...       ...         ...          ...   \n",
       "944    MA      2.49     27.70    16.06     99.75       14.28         9.93   \n",
       "945    NJ      2.71     26.72     8.78     60.02        4.58         4.51   \n",
       "946    CT      2.54     27.72    13.39    100.00        6.06         5.45   \n",
       "947    ND      2.56     24.03    12.99      0.00       14.46         5.88   \n",
       "948    NJ      2.57     24.90    15.33    100.00        4.33         4.13   \n",
       "\n",
       "     pctAllDivorc  pctHousOccup  persEmergShelt  ...  750.0  760.0  770.0  \\\n",
       "0            4.47         98.37              11  ...      0      0      0   \n",
       "1            5.42         97.15               0  ...      0      0      0   \n",
       "2            9.73         92.45               2  ...      0      0      0   \n",
       "3            7.64         95.11               0  ...      0      0      0   \n",
       "4            8.64         95.07             125  ...      0      0      0   \n",
       "..            ...           ...             ...  ...    ...    ...    ...   \n",
       "944         10.52         92.39              62  ...      0      0      0   \n",
       "945         12.26         90.52               0  ...      0      0      0   \n",
       "946         10.93         93.85              64  ...      0      0      0   \n",
       "947          9.20         84.38               0  ...      0      0      0   \n",
       "948          8.98         97.03               0  ...      0      0      0   \n",
       "\n",
       "     775.0  790.0  800.0  810.0  820.0  830.0  840.0  \n",
       "0        0      0      0      0      0      0      0  \n",
       "1        0      0      0      0      0      0      0  \n",
       "2        0      0      0      0      0      0      0  \n",
       "3        0      0      0      0      0      0      0  \n",
       "4        0      0      0      0      0      0      0  \n",
       "..     ...    ...    ...    ...    ...    ...    ...  \n",
       "944      0      0      0      0      0      0      0  \n",
       "945      0      0      0      0      0      0      0  \n",
       "946      0      0      0      0      0      0      0  \n",
       "947      0      0      0      0      0      0      0  \n",
       "948      0      0      0      0      0      0      0  \n",
       "\n",
       "[921 rows x 150 columns]"
      ]
     },
     "metadata": {},
     "output_type": "display_data"
    }
   ],
   "source": [
    "### BEGIN SOLUTION\n",
    "state = pd.get_dummies(df.State)\n",
    "df = df.join(state)\n",
    "\n",
    "countycode = pd.get_dummies(df.countyCode)\n",
    "df = df.join(countycode)\n",
    "\n",
    "display(df)\n",
    "\n",
    "df = df.drop(columns=['State', 'countyCode'])\n",
    "### END SOLUTION"
   ]
  },
  {
   "cell_type": "markdown",
   "metadata": {
    "id": "BLAjyUxKH_lV"
   },
   "source": [
    "### Question 6e:\n",
    "Follow the instructions in the cell below. Due to randomization of the train_test_split, results might change. Make sure to **run the same code a few times** and understand what is happening."
   ]
  },
  {
   "cell_type": "code",
   "execution_count": 35,
   "metadata": {
    "id": "Ff1HfQ3jH_lV",
    "pycharm": {
     "is_executing": false
    }
   },
   "outputs": [
    {
     "name": "stdout",
     "output_type": "stream",
     "text": [
      "136308\n",
      "108928\n",
      "13616\n",
      "13764\n",
      "Errors for Train: \n",
      "R^2:  0.5448827639643462\n",
      "RMSE:  1545.7796673073028\n",
      "Errors for test: \n",
      "R^2:  0.4310005071911249\n",
      "RMSE:  1708.311816427893\n"
     ]
    },
    {
     "data": {
      "text/html": [
       "<div>\n",
       "<style scoped>\n",
       "    .dataframe tbody tr th:only-of-type {\n",
       "        vertical-align: middle;\n",
       "    }\n",
       "\n",
       "    .dataframe tbody tr th {\n",
       "        vertical-align: top;\n",
       "    }\n",
       "\n",
       "    .dataframe thead th {\n",
       "        text-align: right;\n",
       "    }\n",
       "</style>\n",
       "<table border=\"1\" class=\"dataframe\">\n",
       "  <thead>\n",
       "    <tr style=\"text-align: right;\">\n",
       "      <th></th>\n",
       "      <th>lambda</th>\n",
       "      <th>R^2</th>\n",
       "      <th>RMSE</th>\n",
       "    </tr>\n",
       "  </thead>\n",
       "  <tbody>\n",
       "    <tr>\n",
       "      <th>0</th>\n",
       "      <td>3</td>\n",
       "      <td>0.453860</td>\n",
       "      <td>1924.872392</td>\n",
       "    </tr>\n",
       "    <tr>\n",
       "      <th>1</th>\n",
       "      <td>2</td>\n",
       "      <td>0.453561</td>\n",
       "      <td>1925.397905</td>\n",
       "    </tr>\n",
       "    <tr>\n",
       "      <th>2</th>\n",
       "      <td>4</td>\n",
       "      <td>0.453468</td>\n",
       "      <td>1925.562943</td>\n",
       "    </tr>\n",
       "    <tr>\n",
       "      <th>3</th>\n",
       "      <td>5</td>\n",
       "      <td>0.452886</td>\n",
       "      <td>1926.586974</td>\n",
       "    </tr>\n",
       "    <tr>\n",
       "      <th>4</th>\n",
       "      <td>6</td>\n",
       "      <td>0.452271</td>\n",
       "      <td>1927.670750</td>\n",
       "    </tr>\n",
       "    <tr>\n",
       "      <th>5</th>\n",
       "      <td>7</td>\n",
       "      <td>0.451673</td>\n",
       "      <td>1928.721786</td>\n",
       "    </tr>\n",
       "    <tr>\n",
       "      <th>6</th>\n",
       "      <td>8</td>\n",
       "      <td>0.451111</td>\n",
       "      <td>1929.710419</td>\n",
       "    </tr>\n",
       "    <tr>\n",
       "      <th>7</th>\n",
       "      <td>9</td>\n",
       "      <td>0.450587</td>\n",
       "      <td>1930.630472</td>\n",
       "    </tr>\n",
       "    <tr>\n",
       "      <th>8</th>\n",
       "      <td>1</td>\n",
       "      <td>0.450511</td>\n",
       "      <td>1930.764408</td>\n",
       "    </tr>\n",
       "    <tr>\n",
       "      <th>9</th>\n",
       "      <td>10</td>\n",
       "      <td>0.450101</td>\n",
       "      <td>1931.484655</td>\n",
       "    </tr>\n",
       "    <tr>\n",
       "      <th>10</th>\n",
       "      <td>20</td>\n",
       "      <td>0.446596</td>\n",
       "      <td>1937.631104</td>\n",
       "    </tr>\n",
       "    <tr>\n",
       "      <th>11</th>\n",
       "      <td>30</td>\n",
       "      <td>0.444282</td>\n",
       "      <td>1941.677780</td>\n",
       "    </tr>\n",
       "    <tr>\n",
       "      <th>12</th>\n",
       "      <td>40</td>\n",
       "      <td>0.442468</td>\n",
       "      <td>1944.843016</td>\n",
       "    </tr>\n",
       "    <tr>\n",
       "      <th>13</th>\n",
       "      <td>50</td>\n",
       "      <td>0.440947</td>\n",
       "      <td>1947.495564</td>\n",
       "    </tr>\n",
       "    <tr>\n",
       "      <th>14</th>\n",
       "      <td>60</td>\n",
       "      <td>0.439628</td>\n",
       "      <td>1949.791125</td>\n",
       "    </tr>\n",
       "    <tr>\n",
       "      <th>15</th>\n",
       "      <td>70</td>\n",
       "      <td>0.438465</td>\n",
       "      <td>1951.813784</td>\n",
       "    </tr>\n",
       "    <tr>\n",
       "      <th>16</th>\n",
       "      <td>80</td>\n",
       "      <td>0.437427</td>\n",
       "      <td>1953.616983</td>\n",
       "    </tr>\n",
       "    <tr>\n",
       "      <th>17</th>\n",
       "      <td>90</td>\n",
       "      <td>0.436492</td>\n",
       "      <td>1955.238347</td>\n",
       "    </tr>\n",
       "    <tr>\n",
       "      <th>18</th>\n",
       "      <td>100</td>\n",
       "      <td>0.435646</td>\n",
       "      <td>1956.706112</td>\n",
       "    </tr>\n",
       "    <tr>\n",
       "      <th>19</th>\n",
       "      <td>120</td>\n",
       "      <td>0.434169</td>\n",
       "      <td>1959.264801</td>\n",
       "    </tr>\n",
       "    <tr>\n",
       "      <th>20</th>\n",
       "      <td>140</td>\n",
       "      <td>0.432921</td>\n",
       "      <td>1961.424018</td>\n",
       "    </tr>\n",
       "    <tr>\n",
       "      <th>21</th>\n",
       "      <td>170</td>\n",
       "      <td>0.431371</td>\n",
       "      <td>1964.103310</td>\n",
       "    </tr>\n",
       "    <tr>\n",
       "      <th>22</th>\n",
       "      <td>200</td>\n",
       "      <td>0.430107</td>\n",
       "      <td>1966.285819</td>\n",
       "    </tr>\n",
       "    <tr>\n",
       "      <th>23</th>\n",
       "      <td>250</td>\n",
       "      <td>0.428439</td>\n",
       "      <td>1969.160470</td>\n",
       "    </tr>\n",
       "    <tr>\n",
       "      <th>24</th>\n",
       "      <td>300</td>\n",
       "      <td>0.427144</td>\n",
       "      <td>1971.390067</td>\n",
       "    </tr>\n",
       "    <tr>\n",
       "      <th>25</th>\n",
       "      <td>400</td>\n",
       "      <td>0.425219</td>\n",
       "      <td>1974.699101</td>\n",
       "    </tr>\n",
       "    <tr>\n",
       "      <th>26</th>\n",
       "      <td>500</td>\n",
       "      <td>0.423798</td>\n",
       "      <td>1977.138350</td>\n",
       "    </tr>\n",
       "    <tr>\n",
       "      <th>27</th>\n",
       "      <td>600</td>\n",
       "      <td>0.422651</td>\n",
       "      <td>1979.106235</td>\n",
       "    </tr>\n",
       "    <tr>\n",
       "      <th>28</th>\n",
       "      <td>700</td>\n",
       "      <td>0.421663</td>\n",
       "      <td>1980.798212</td>\n",
       "    </tr>\n",
       "    <tr>\n",
       "      <th>29</th>\n",
       "      <td>800</td>\n",
       "      <td>0.420775</td>\n",
       "      <td>1982.318943</td>\n",
       "    </tr>\n",
       "    <tr>\n",
       "      <th>30</th>\n",
       "      <td>900</td>\n",
       "      <td>0.419951</td>\n",
       "      <td>1983.728124</td>\n",
       "    </tr>\n",
       "    <tr>\n",
       "      <th>31</th>\n",
       "      <td>1000</td>\n",
       "      <td>0.419171</td>\n",
       "      <td>1985.061474</td>\n",
       "    </tr>\n",
       "  </tbody>\n",
       "</table>\n",
       "</div>"
      ],
      "text/plain": [
       "    lambda       R^2         RMSE\n",
       "0        3  0.453860  1924.872392\n",
       "1        2  0.453561  1925.397905\n",
       "2        4  0.453468  1925.562943\n",
       "3        5  0.452886  1926.586974\n",
       "4        6  0.452271  1927.670750\n",
       "5        7  0.451673  1928.721786\n",
       "6        8  0.451111  1929.710419\n",
       "7        9  0.450587  1930.630472\n",
       "8        1  0.450511  1930.764408\n",
       "9       10  0.450101  1931.484655\n",
       "10      20  0.446596  1937.631104\n",
       "11      30  0.444282  1941.677780\n",
       "12      40  0.442468  1944.843016\n",
       "13      50  0.440947  1947.495564\n",
       "14      60  0.439628  1949.791125\n",
       "15      70  0.438465  1951.813784\n",
       "16      80  0.437427  1953.616983\n",
       "17      90  0.436492  1955.238347\n",
       "18     100  0.435646  1956.706112\n",
       "19     120  0.434169  1959.264801\n",
       "20     140  0.432921  1961.424018\n",
       "21     170  0.431371  1964.103310\n",
       "22     200  0.430107  1966.285819\n",
       "23     250  0.428439  1969.160470\n",
       "24     300  0.427144  1971.390067\n",
       "25     400  0.425219  1974.699101\n",
       "26     500  0.423798  1977.138350\n",
       "27     600  0.422651  1979.106235\n",
       "28     700  0.421663  1980.798212\n",
       "29     800  0.420775  1982.318943\n",
       "30     900  0.419951  1983.728124\n",
       "31    1000  0.419171  1985.061474"
      ]
     },
     "metadata": {},
     "output_type": "display_data"
    },
    {
     "name": "stdout",
     "output_type": "stream",
     "text": [
      "3\n",
      "Performance for best test with Regularization: \n",
      "R^2:  0.5047196567588331\n",
      "RMSE:  1642.5112622995327\n",
      "Performance without regularization : \n",
      "R^2:  0.5448827639643462\n",
      "RMSE:  1545.7796673073028\n"
     ]
    }
   ],
   "source": [
    "from sklearn.preprocessing import StandardScaler, Normalizer\n",
    "\n",
    "# Split the dataset into training, validation and test sets:\n",
    "# Training set: 10% of the entire set\n",
    "# Make the remaining 10% a validation dataset and the rest a test set.\n",
    "\n",
    "### BEGIN SOLUTION ###\n",
    "X = df.loc[:, df.columns != 'nonViolPerPop'].to_numpy()\n",
    "Y = df['nonViolPerPop'].to_numpy()\n",
    "\n",
    "ratio_train = 0.8\n",
    "ratio_val = 0.1\n",
    "ratio_test = 0.1\n",
    "\n",
    "# Produces test split.\n",
    "x_remaining, x_test, y_remaining, y_test = train_test_split(\n",
    "    X, Y, test_size = ratio_test)\n",
    "\n",
    "# Adjusts val ratio according to remaining dataset.\n",
    "ratio_remaining = 1 - ratio_test\n",
    "ratio_adj = ratio_val / ratio_remaining\n",
    "\n",
    "# Make train and val splits.\n",
    "x_train, x_val, y_train, y_val = train_test_split(\n",
    "    x_remaining, y_remaining, test_size = ratio_adj)\n",
    "\n",
    "print(df.size)\n",
    "print(x_train.size + y_train.size)\n",
    "print(x_val.size + y_val.size)\n",
    "print(x_test.size + y_test.size)\n",
    "### END SOLUTION ###\n",
    "\n",
    "\n",
    "# Normalize all features based on the training and validation set combined.\n",
    "\n",
    "### BEGIN SOLUTION ###\n",
    "from sklearn.preprocessing import Normalizer\n",
    "\n",
    "val_and_train = np.vstack((x_train, x_val))\n",
    "\n",
    "transformer = Normalizer().fit(val_and_train)\n",
    "x_train_norm = transformer.transform(x_train)\n",
    "x_val_norm = transformer.transform(x_val)\n",
    "x_test_norm = transformer.transform(x_test)\n",
    "### END SOLUTION ###\n",
    "\n",
    "\n",
    "# Train a linear regression model on the training and validation set combined. \n",
    "# Calculate the error on the training set and the test set.\n",
    "\n",
    "### BEGIN SOLUTION ###\n",
    "val_and_train_norm = np.vstack((x_train_norm, x_val_norm))\n",
    "\n",
    "expected_values = np.append(y_train, y_val)\n",
    "\n",
    "model = train_linregmodel(val_and_train_norm, expected_values)\n",
    "train_predictions = model.predict(x_train_norm)\n",
    "test_predictions = model.predict(x_test_norm)\n",
    "\n",
    "rsq_train = r2_score(y_train, train_predictions)\n",
    "rmse_train = rmse(y_train, train_predictions)\n",
    "print(\"Errors for Train: \")\n",
    "print(\"R^2: \", rsq_train)\n",
    "print(\"RMSE: \", rmse_train)\n",
    "\n",
    "rsq_test = r2_score(y_test, test_predictions)\n",
    "rmse_test = rmse(y_test, test_predictions)\n",
    "print(\"Errors for test: \")\n",
    "print(\"R^2: \", rsq_test)\n",
    "print(\"RMSE: \", rmse_test)\n",
    "### END SOLUTION ###\n",
    "\n",
    "\n",
    "# Train a regularized model (use Ridge regularization). To decide the parameter alpha, use a range of values to train,\n",
    "# the model. Test its performance on the validation set. Output the RMSE for different values of alpha, and choose the\n",
    "# best value.\n",
    "\n",
    "### BEGIN SOLUTION ###\n",
    "lambdalist = [1, 2, 3, 4, 5, 6, 7, 8, 9, 10, 20, 30, 40, 50, 60, 70, 80, 90, 100, 120, 140, 170, 200, 250, 300, 400, 500, 600, 700, 800, 900, 1000]\n",
    "\n",
    "lambdaeffects = pd.DataFrame()\n",
    "lambdaeffects['lambda'] = lambdalist\n",
    "\n",
    "rsqs = []\n",
    "rmses = []\n",
    "for lmbd in lambdalist:\n",
    "    reg_model = regularization(x_train, y_train, lmbd)\n",
    "    reg_predictions = reg_model.predict(x_val)\n",
    "\n",
    "    rsq_reg = r2_score(y_val, reg_predictions)\n",
    "    rmse_reg = rmse(y_val, reg_predictions)\n",
    "    \n",
    "    rsqs.append(rsq_reg)\n",
    "    rmses.append(rmse_reg)\n",
    "    \n",
    "lambdaeffects['R^2'] = rsqs\n",
    "lambdaeffects['RMSE'] = rmses\n",
    "### END SOLUTION ###\n",
    "\n",
    "\n",
    "# Train the regularized model (use Ridge regularization) with the best alpha parameter found above on the traing and \n",
    "# validation set combined.\n",
    "\n",
    "### BEGIN SOLUTION ###\n",
    "top_lambdas = lambdaeffects.reindex(lambdaeffects.RMSE.abs().sort_values(ascending = True).index)\n",
    "top_lambdas.index = range(0, len(top_lambdas))\n",
    "display(top_lambdas)\n",
    "print(top_lambdas['lambda'][0])\n",
    "\n",
    "best_model = regularization(x_train, y_train, top_lambdas['lambda'][0])\n",
    "best_predictions = best_model.predict(np.vstack((x_train, x_val)))\n",
    "best_expected = np.append(y_train, y_val)\n",
    "\n",
    "best_rsq = r2_score(best_expected, best_predictions)\n",
    "best_rmse = rmse(best_expected, best_predictions)\n",
    "print(\"Performance for best test with Regularization: \")\n",
    "print(\"R^2: \", best_rsq)\n",
    "print(\"RMSE: \", best_rmse)\n",
    "\n",
    "print(\"Performance without regularization : \")\n",
    "print(\"R^2: \", rsq_train)\n",
    "print(\"RMSE: \", rmse_train)\n",
    "### END SOLUTION ###\n",
    "\n",
    "\n",
    "# Compare the performance of the linear regression with and without regularization\n",
    "\n"
   ]
  },
  {
   "cell_type": "markdown",
   "metadata": {
    "id": "23xaVneOdZrC",
    "nbgrader": {
     "grade": false,
     "grade_id": "cell-a93fd8e5829ee29a",
     "locked": true,
     "schema_version": 1,
     "solution": false
    }
   },
   "source": [
    "### Question 6f:\n",
    "What are your conclusions for the two models compared? Which model should you choose over the two? Is hyperparameter tuning useful in this case?"
   ]
  },
  {
   "cell_type": "markdown",
   "metadata": {
    "id": "X_L6IfD2dZrC",
    "nbgrader": {
     "grade": true,
     "grade_id": "cell-5d199066f44b9fd5",
     "locked": false,
     "points": 0.5,
     "schema_version": 1,
     "solution": true
    }
   },
   "source": [
    "<span style=\"color:blue\">The performance of the model without regularization seems to consistently outperform the model with regularization. For this specific case, the non-regularized model seems to be the better choice. Hyperparameter tuning is useful, since it results in the lambda value which gives the best performing model. However the regularized model is outperformed in this case, making hyperparameter tuning unnecessary.</span>"
   ]
  },
  {
   "cell_type": "code",
   "execution_count": null,
   "metadata": {},
   "outputs": [],
   "source": []
  }
 ],
 "metadata": {
  "celltoolbar": "Create Assignment",
  "colab": {
   "collapsed_sections": [],
   "name": "Practical Assignment 1 - 2021 Student.ipynb",
   "provenance": []
  },
  "kernelspec": {
   "display_name": "Python 3",
   "language": "python",
   "name": "python3"
  },
  "language_info": {
   "codemirror_mode": {
    "name": "ipython",
    "version": 3
   },
   "file_extension": ".py",
   "mimetype": "text/x-python",
   "name": "python",
   "nbconvert_exporter": "python",
   "pygments_lexer": "ipython3",
   "version": "3.7.6"
  },
  "pycharm": {
   "stem_cell": {
    "cell_type": "raw",
    "metadata": {
     "collapsed": false
    },
    "source": []
   }
  }
 },
 "nbformat": 4,
 "nbformat_minor": 1
}
